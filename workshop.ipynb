{
 "cells": [
  {
   "cell_type": "markdown",
   "metadata": {},
   "source": [
    "# workshop.g-sh.tech"
   ]
  },
  {
   "cell_type": "code",
   "execution_count": 1,
   "metadata": {},
   "outputs": [],
   "source": [
    "import os\n",
    "\n",
    "os.environ['MKL_NUM_THREADS']='1'\n",
    "os.environ['NUMEXPR_NUM_THREADS']='1'\n",
    "os.environ['OMP_NUM_THREADS']='1'\n",
    "\n",
    "import pandas as pd\n",
    "import numpy as np\n",
    "\n",
    "from itertools import chain\n",
    "\n",
    "from tqdm import tqdm_notebook as tqdm\n",
    "from tqdm import tqdm_pandas\n",
    "\n",
    "from string import punctuation, whitespace, digits\n",
    "\n",
    "import json\n",
    "\n",
    "from matplotlib import pyplot as plt\n",
    "import seaborn as sns\n",
    "import plotly.offline as py\n",
    "import plotly.graph_objs as go\n",
    "py.init_notebook_mode()\n",
    "\n",
    "%matplotlib inline\n",
    "\n",
    "from sklearn.decomposition import PCA\n",
    "from sklearn.manifold import TSNE\n",
    "from sklearn.cluster import DBSCAN, AgglomerativeClustering\n",
    "\n",
    "from gensim.matutils import sparse2full\n",
    "\n",
    "from sklearn.metrics import jaccard_similarity_score\n",
    "\n",
    "from sklearn.ensemble import RandomForestClassifier\n",
    "\n",
    "from sklearn.preprocessing import MultiLabelBinarizer\n",
    "from sklearn.model_selection import cross_val_score\n",
    "from sklearn.cross_validation import KFold\n",
    "from sklearn.neighbors import KNeighborsClassifier\n",
    "from sklearn.metrics import recall_score, make_scorer, precision_score, roc_auc_score\n",
    "\n",
    "from gensim.corpora import Dictionary\n",
    "from gensim.models import LdaMulticore, FastText, TfidfModel"
   ]
  },
  {
   "cell_type": "code",
   "execution_count": 396,
   "metadata": {},
   "outputs": [],
   "source": [
    "raw_posts = pd.read_json('./_shared/stackexchange_posts.jsonl', lines=True)"
   ]
  },
  {
   "cell_type": "code",
   "execution_count": null,
   "metadata": {},
   "outputs": [],
   "source": [
    "import spacy\n",
    "import re\n",
    "import string\n",
    "\n",
    "posts = pd.read_json('./_shared/stackexchange_posts.jsonl', lines=True)\n",
    "\n",
    "cleanr = re.compile('<.*?>')\n",
    "# cleanr = re.compile('<[^>]+>')\n",
    "\n",
    "def strip_html(doc):\n",
    "    cleantext = re.sub(cleanr, '', doc)\n",
    "    #nopunct = \"\".join(l for l in cleantext if l not in string.punctuation)\n",
    "    return cleantext #re.sub('\\n', ' ', nopunct)\n",
    "\n",
    "nlp = spacy.load('en')\n",
    "nlp.remove_pipe('parser')\n",
    "# nlp.remove_pipe('tagger')\n",
    "nlp.remove_pipe('ner')\n",
    "\n",
    "\n",
    "body_processed = []\n",
    "for doc in tqdm(nlp.pipe(posts.Body.apply(strip_html), batch_size=500, )):\n",
    "    body_processed.append([t.lemma_ for t in doc])\n",
    "    \n",
    "posts['body_processed'] = body_processed"
   ]
  },
  {
   "cell_type": "code",
   "execution_count": null,
   "metadata": {},
   "outputs": [],
   "source": [
    "answers_processed = []\n",
    "\n",
    "for answers in tqdm(posts.Answers):\n",
    "    if answers is None:\n",
    "        answers_processed.append(None)\n",
    "        continue\n",
    "        \n",
    "    prepared_bodies = map(lambda x: strip_html(x['Body']), answers)\n",
    "    bodies_processed = []\n",
    "    for doc in nlp.pipe(prepared_bodies, batch_size=50):\n",
    "        bodies_processed.append([t.lemma_ for t in doc])\n",
    "    answers_processed.append(bodies_processed)"
   ]
  },
  {
   "cell_type": "code",
   "execution_count": null,
   "metadata": {},
   "outputs": [],
   "source": [
    "posts['answers_processed'] = posts.Answers.copy()"
   ]
  },
  {
   "cell_type": "code",
   "execution_count": null,
   "metadata": {},
   "outputs": [],
   "source": [
    "for_update = []\n",
    "\n",
    "for i in tqdm(range(len(posts.answers_processed))):\n",
    "    if answers_processed[i] is None:\n",
    "        for_update.append([])\n",
    "        continue\n",
    "    \n",
    "    res = posts.answers_processed[i].copy()\n",
    "    for j, processed_anser_body in enumerate(answers_processed[i]):\n",
    "        res[j]['Body'] = processed_anser_body\n",
    "    for_update.append(res)\n",
    "        "
   ]
  },
  {
   "cell_type": "code",
   "execution_count": null,
   "metadata": {},
   "outputs": [],
   "source": [
    "posts.answers_processed = for_update"
   ]
  },
  {
   "cell_type": "code",
   "execution_count": null,
   "metadata": {},
   "outputs": [],
   "source": [
    "posts.to_json('posts.processed.jsonl', orient='records', lines=True, force_ascii=False)"
   ]
  },
  {
   "cell_type": "markdown",
   "metadata": {},
   "source": [
    "## Загружаем обработанное и работаем"
   ]
  },
  {
   "cell_type": "code",
   "execution_count": 4,
   "metadata": {},
   "outputs": [],
   "source": [
    "posts = pd.read_json('posts.processed.jsonl', lines=True)"
   ]
  },
  {
   "cell_type": "code",
   "execution_count": 5,
   "metadata": {},
   "outputs": [],
   "source": [
    "hub2id = {name:i for i, name in enumerate(posts.Hub.unique())}"
   ]
  },
  {
   "cell_type": "code",
   "execution_count": 398,
   "metadata": {},
   "outputs": [],
   "source": [
    "for n, (answers, hub) in posts[['answers_processed', 'Hub']].iterrows():\n",
    "    if answers is None:\n",
    "        continue\n",
    "    for answer in answers:\n",
    "        answer['Hub'] = hub\n",
    "        answer['aId'] = answer['Id']*10 + hub2id[answer['Hub']]"
   ]
  },
  {
   "cell_type": "code",
   "execution_count": 7,
   "metadata": {},
   "outputs": [],
   "source": [
    "posts['aId'] = posts.Id*10 + posts.Hub.map(hub2id.get)"
   ]
  },
  {
   "cell_type": "code",
   "execution_count": 8,
   "metadata": {},
   "outputs": [],
   "source": [
    "posts.set_index('aId', inplace=True)"
   ]
  },
  {
   "cell_type": "code",
   "execution_count": 10,
   "metadata": {},
   "outputs": [],
   "source": [
    "answers_df = pd.DataFrame(list(chain.from_iterable(filter(None, posts.answers_processed))))"
   ]
  },
  {
   "cell_type": "code",
   "execution_count": 11,
   "metadata": {},
   "outputs": [],
   "source": [
    "answers_df.set_index('aId', inplace=True)"
   ]
  },
  {
   "cell_type": "code",
   "execution_count": 49,
   "metadata": {},
   "outputs": [],
   "source": [
    "from collections import defaultdict"
   ]
  },
  {
   "cell_type": "code",
   "execution_count": 50,
   "metadata": {},
   "outputs": [
    {
     "data": {
      "application/vnd.jupyter.widget-view+json": {
       "model_id": "76f39f3355d74e069e294988abd73380",
       "version_major": 2,
       "version_minor": 0
      },
      "text/html": [
       "<p>Failed to display Jupyter Widget of type <code>HBox</code>.</p>\n",
       "<p>\n",
       "  If you're reading this message in the Jupyter Notebook or JupyterLab Notebook, it may mean\n",
       "  that the widgets JavaScript is still loading. If this message persists, it\n",
       "  likely means that the widgets JavaScript library is either not installed or\n",
       "  not enabled. See the <a href=\"https://ipywidgets.readthedocs.io/en/stable/user_install.html\">Jupyter\n",
       "  Widgets Documentation</a> for setup instructions.\n",
       "</p>\n",
       "<p>\n",
       "  If you're reading this message in another frontend (for example, a static\n",
       "  rendering on GitHub or <a href=\"https://nbviewer.jupyter.org/\">NBViewer</a>),\n",
       "  it may mean that your frontend doesn't currently support widgets.\n",
       "</p>\n"
      ],
      "text/plain": [
       "HBox(children=(IntProgress(value=1, bar_style='info', max=1), HTML(value='')))"
      ]
     },
     "metadata": {},
     "output_type": "display_data"
    },
    {
     "name": "stdout",
     "output_type": "stream",
     "text": [
      "\n"
     ]
    }
   ],
   "source": [
    "just_texts = []\n",
    "\n",
    "id2path = {}\n",
    "current_pointer = 0\n",
    "\n",
    "answers_texts = []\n",
    "questions_texts = []\n",
    "\n",
    "true_answers = defaultdict(list)\n",
    "\n",
    "for n, (question, answers) in tqdm(posts[['body_processed', 'answers_processed']].iterrows()):      \n",
    "    just_texts.append(question)\n",
    "    questions_texts.append(question)\n",
    "    id2path[current_pointer] = ('post', n)\n",
    "    current_pointer += 1\n",
    "    just_texts.extend(_['Body'] for _ in answers)\n",
    "    answers_texts.extend(_['Body'] for _ in answers)\n",
    "    true_answers[len(questions_texts) - 1].extend(range(len(answers_texts) - len(answers), len(answers_texts)))\n",
    "    for answer in answers:\n",
    "        id2path[current_pointer] = ('ans', answer['aId'])\n",
    "        current_pointer += 1\n",
    "        "
   ]
  },
  {
   "cell_type": "code",
   "execution_count": 252,
   "metadata": {},
   "outputs": [
    {
     "name": "stderr",
     "output_type": "stream",
     "text": [
      "2018-04-05 07:13:24,030 : INFO : adding document #0 to Dictionary(0 unique tokens: [])\n",
      "2018-04-05 07:13:26,056 : INFO : adding document #10000 to Dictionary(49997 unique tokens: ['\\n', '\\n\\n', '\"', ',', '-PRON-']...)\n",
      "2018-04-05 07:13:28,257 : INFO : adding document #20000 to Dictionary(99535 unique tokens: ['\\n', '\\n\\n', '\"', ',', '-PRON-']...)\n",
      "2018-04-05 07:13:30,663 : INFO : adding document #30000 to Dictionary(157415 unique tokens: ['\\n', '\\n\\n', '\"', ',', '-PRON-']...)\n",
      "2018-04-05 07:13:32,598 : INFO : built Dictionary(231092 unique tokens: ['\\n', '\\n\\n', '\"', ',', '-PRON-']...) from 39001 documents (total 7985131 corpus positions)\n"
     ]
    }
   ],
   "source": [
    "gdict = Dictionary(documents=just_texts)"
   ]
  },
  {
   "cell_type": "code",
   "execution_count": 253,
   "metadata": {},
   "outputs": [
    {
     "name": "stderr",
     "output_type": "stream",
     "text": [
      "2018-04-05 07:13:48,017 : INFO : discarding 39 tokens: [('\\n', 37457), ('\\n\\n', 30674), (',', 35053), ('-PRON-', 37425), ('.', 37261), ('?', 17130), ('a', 32917), ('as', 18404), ('be', 36999), ('but', 17140)]...\n",
      "2018-04-05 07:13:48,019 : INFO : keeping 231053 tokens which were in no less than 1 and no more than 11700 (=30.0%) documents\n",
      "2018-04-05 07:13:48,348 : INFO : resulting dictionary: Dictionary(231053 unique tokens: ['\"', 'backprop', 'backpropagation', 'basically', 'different']...)\n"
     ]
    }
   ],
   "source": [
    "gdict.filter_extremes(no_below=1, no_above=0.3, keep_n=1000000)"
   ]
  },
  {
   "cell_type": "code",
   "execution_count": 263,
   "metadata": {},
   "outputs": [],
   "source": [
    "def is_trash_token(args, trash_is=punctuation+whitespace):\n",
    "    token = args\n",
    "    return all(map(lambda ch: ch in trash_is, token))\n",
    "\n",
    "def is_trash_token_fragile(args, trash_is=punctuation+whitespace+'()+-/*$'):\n",
    "    token = args\n",
    "    return any(map(lambda ch: ch in trash_is, token))\n",
    "\n",
    "def clean_token_fragile(args, trash_is=punctuation+whitespace+'()+-/*$'):\n",
    "    token = args\n",
    "    return ''.join(filter(lambda ch: ch not in trash_is, token))"
   ]
  },
  {
   "cell_type": "code",
   "execution_count": 264,
   "metadata": {},
   "outputs": [],
   "source": [
    "tokens_to_remove, token_ids_to_remove = zip(*filter(is_trash_token, gdict.token2id.items()))"
   ]
  },
  {
   "cell_type": "code",
   "execution_count": 266,
   "metadata": {},
   "outputs": [
    {
     "name": "stdout",
     "output_type": "stream",
     "text": [
      "Top 10(total: 1326) tokens to remove:\n",
      "\t Token:                 \"\\\"\"; \t\t token id:     0\n",
      "\t Token:             \"\\n\\n\\n\"; \t\t token id:    41\n",
      "\t Token:                  \"&\"; \t\t token id:    42\n",
      "\t Token:                  \"'\"; \t\t token id:    43\n",
      "\t Token:                  \";\"; \t\t token id:    66\n",
      "\t Token:           \"\\n\\n\\n  \"; \t\t token id:   204\n",
      "\t Token:                 \"--\"; \t\t token id:   253\n",
      "\t Token:                  \" \"; \t\t token id:   303\n",
      "\t Token:                 \":)\"; \t\t token id:   304\n",
      "\t Token:                \"\\n \"; \t\t token id:   408\n"
     ]
    }
   ],
   "source": [
    "print('Top 10(total: %s) tokens to remove:'%len(tokens_to_remove))\n",
    "\n",
    "for t, tid in zip(tokens_to_remove[:10], token_ids_to_remove):\n",
    "    print('\\t Token: %20s; \\t\\t token id: %5s'%(json.dumps(t), tid))"
   ]
  },
  {
   "cell_type": "code",
   "execution_count": 267,
   "metadata": {},
   "outputs": [],
   "source": [
    "gdict.filter_tokens(token_ids_to_remove)"
   ]
  },
  {
   "cell_type": "code",
   "execution_count": 268,
   "metadata": {},
   "outputs": [],
   "source": [
    "gcorpus = [gdict.doc2bow(doc) for doc in just_texts]"
   ]
  },
  {
   "cell_type": "code",
   "execution_count": 424,
   "metadata": {},
   "outputs": [
    {
     "name": "stderr",
     "output_type": "stream",
     "text": [
      "2018-04-05 16:38:39,916 : INFO : collecting document frequencies\n",
      "2018-04-05 16:38:39,920 : INFO : PROGRESS: processing document #0\n",
      "2018-04-05 16:38:40,145 : INFO : PROGRESS: processing document #10000\n",
      "2018-04-05 16:38:40,349 : INFO : PROGRESS: processing document #20000\n",
      "2018-04-05 16:38:40,575 : INFO : PROGRESS: processing document #30000\n",
      "2018-04-05 16:38:40,775 : INFO : calculating IDF weights for 39001 documents and 229726 features (2583428 matrix non-zeros)\n"
     ]
    }
   ],
   "source": [
    "tfidf = TfidfModel(gcorpus,id2word=gdict)"
   ]
  },
  {
   "cell_type": "code",
   "execution_count": 269,
   "metadata": {},
   "outputs": [],
   "source": [
    "import logging\n",
    "logging.basicConfig(format='%(asctime)s : %(levelname)s : %(message)s', level=logging.INFO)\n",
    "\n",
    "topics_number = 150\n",
    "\n",
    "lda = LdaMulticore(gcorpus,num_topics=topics_number, id2word=gdict, workers=10, passes=25, chunksize=5000 )"
   ]
  },
  {
   "cell_type": "code",
   "execution_count": null,
   "metadata": {},
   "outputs": [],
   "source": [
    "for topic_id, representation in lda.show_topics(num_topics=topics_number, num_words=7):\n",
    "    print(\"#{}: {}\".format(topic_id, representation))"
   ]
  },
  {
   "cell_type": "code",
   "execution_count": 638,
   "metadata": {},
   "outputs": [],
   "source": [
    "clear_texts = [[wrd for wrd in doc if not is_trash_token(wrd)] for doc in just_texts]"
   ]
  },
  {
   "cell_type": "code",
   "execution_count": null,
   "metadata": {
    "scrolled": true
   },
   "outputs": [],
   "source": [
    "fsttxt = FastText(clear_texts, word_ngrams=0,\n",
    "    sg=1,\n",
    "    size=25, \n",
    "    workers=10, \n",
    "    negative=350, \n",
    "    min_count=1, \n",
    "    min_n=3, \n",
    "    max_n=3, \n",
    "    window=10, \n",
    "    hs=1, \n",
    "    iter=50, \n",
    "    batch_words=100000)"
   ]
  },
  {
   "cell_type": "code",
   "execution_count": 928,
   "metadata": {},
   "outputs": [],
   "source": [
    "graph_vec = fsttxt.wv.get_vector('model')\n",
    "text_vec = fsttxt.wv.get_vector('deep')\n",
    "graph_gerald = fsttxt.wv.get_vector('error')"
   ]
  },
  {
   "cell_type": "code",
   "execution_count": 929,
   "metadata": {},
   "outputs": [
    {
     "name": "stdout",
     "output_type": "stream",
     "text": [
      "('error', 0.9999999403953552)\n",
      "('error', 0.9972934722900391)\n",
      "('error', 0.98841392993927)\n",
      "('error', 0.9723179340362549)\n",
      "('error', 0.9482318162918091)\n",
      "('get', 0.9408340454101562)\n",
      "('test', 0.9425910711288452)\n",
      "('model', 0.9666866660118103)\n",
      "('model', 0.9857156872749329)\n",
      "('model', 0.9965918660163879)\n",
      "('model', 1.0)\n"
     ]
    }
   ],
   "source": [
    "tot = 10\n",
    "for i in range(tot+1):\n",
    "    print(fsttxt.wv.similar_by_vector((i*graph_vec + (tot-i)*graph_gerald)/tot)[0])"
   ]
  },
  {
   "cell_type": "code",
   "execution_count": null,
   "metadata": {},
   "outputs": [],
   "source": []
  },
  {
   "cell_type": "code",
   "execution_count": 933,
   "metadata": {},
   "outputs": [],
   "source": [
    "def embed_doc(doc, model=fsttxt, tf_model=tfidf, gensim_dict=gdict, print_report=False, return_report=False):\n",
    "    embs = []\n",
    "    ws = 0\n",
    "    \n",
    "    report = ''\n",
    "    \n",
    "    for _ in doc:\n",
    "        if _ in gdict.token2id:\n",
    "            w = tf_model.idfs[gdict.token2id[_]]\n",
    "        elif not is_trash_token(_):\n",
    "            w = 2\n",
    "        else:\n",
    "            w=0.1\n",
    "        try:\n",
    "            report += ' %3.2f*%s'%(w, _)\n",
    "            \n",
    "            embs.append(w*model.wv.get_vector(_))\n",
    "            ws += w\n",
    "        except KeyError:\n",
    "            pass\n",
    "    if print_report:\n",
    "        print(report)\n",
    "    if return_report:\n",
    "        return np.sum(embs, axis=0)/ws, report\n",
    "    return np.sum(embs, axis=0)/ws"
   ]
  },
  {
   "cell_type": "code",
   "execution_count": null,
   "metadata": {},
   "outputs": [],
   "source": []
  },
  {
   "cell_type": "code",
   "execution_count": null,
   "metadata": {},
   "outputs": [],
   "source": []
  },
  {
   "cell_type": "code",
   "execution_count": 94,
   "metadata": {},
   "outputs": [
    {
     "data": {
      "application/vnd.jupyter.widget-view+json": {
       "model_id": "76114f416e934dbbb7fe0522163eaa84",
       "version_major": 2,
       "version_minor": 0
      },
      "text/html": [
       "<p>Failed to display Jupyter Widget of type <code>HBox</code>.</p>\n",
       "<p>\n",
       "  If you're reading this message in the Jupyter Notebook or JupyterLab Notebook, it may mean\n",
       "  that the widgets JavaScript is still loading. If this message persists, it\n",
       "  likely means that the widgets JavaScript library is either not installed or\n",
       "  not enabled. See the <a href=\"https://ipywidgets.readthedocs.io/en/stable/user_install.html\">Jupyter\n",
       "  Widgets Documentation</a> for setup instructions.\n",
       "</p>\n",
       "<p>\n",
       "  If you're reading this message in another frontend (for example, a static\n",
       "  rendering on GitHub or <a href=\"https://nbviewer.jupyter.org/\">NBViewer</a>),\n",
       "  it may mean that your frontend doesn't currently support widgets.\n",
       "</p>\n"
      ],
      "text/plain": [
       "HBox(children=(IntProgress(value=0, max=39001), HTML(value='')))"
      ]
     },
     "metadata": {},
     "output_type": "display_data"
    },
    {
     "name": "stdout",
     "output_type": "stream",
     "text": [
      "\n"
     ]
    }
   ],
   "source": [
    "vecs = list(map(lambda x: list(sparse2full(x, topics_number)), tqdm(lda[gcorpus])))\n",
    "\n",
    "vecs = np.array(vecs)"
   ]
  },
  {
   "cell_type": "code",
   "execution_count": 935,
   "metadata": {},
   "outputs": [
    {
     "data": {
      "application/vnd.jupyter.widget-view+json": {
       "model_id": "debb2a88c0144533ae85b5cdfbe7f230",
       "version_major": 2,
       "version_minor": 0
      },
      "text/html": [
       "<p>Failed to display Jupyter Widget of type <code>HBox</code>.</p>\n",
       "<p>\n",
       "  If you're reading this message in the Jupyter Notebook or JupyterLab Notebook, it may mean\n",
       "  that the widgets JavaScript is still loading. If this message persists, it\n",
       "  likely means that the widgets JavaScript library is either not installed or\n",
       "  not enabled. See the <a href=\"https://ipywidgets.readthedocs.io/en/stable/user_install.html\">Jupyter\n",
       "  Widgets Documentation</a> for setup instructions.\n",
       "</p>\n",
       "<p>\n",
       "  If you're reading this message in another frontend (for example, a static\n",
       "  rendering on GitHub or <a href=\"https://nbviewer.jupyter.org/\">NBViewer</a>),\n",
       "  it may mean that your frontend doesn't currently support widgets.\n",
       "</p>\n"
      ],
      "text/plain": [
       "HBox(children=(IntProgress(value=0, max=39001), HTML(value='')))"
      ]
     },
     "metadata": {},
     "output_type": "display_data"
    },
    {
     "name": "stdout",
     "output_type": "stream",
     "text": [
      "\n"
     ]
    }
   ],
   "source": [
    "vecs = np.array(list(embed_doc(_) for _ in tqdm(just_texts)))"
   ]
  },
  {
   "cell_type": "code",
   "execution_count": 1504,
   "metadata": {},
   "outputs": [
    {
     "data": {
      "application/vnd.jupyter.widget-view+json": {
       "model_id": "4b61b5980d244d389425197b1e64f6ac",
       "version_major": 2,
       "version_minor": 0
      },
      "text/html": [
       "<p>Failed to display Jupyter Widget of type <code>HBox</code>.</p>\n",
       "<p>\n",
       "  If you're reading this message in the Jupyter Notebook or JupyterLab Notebook, it may mean\n",
       "  that the widgets JavaScript is still loading. If this message persists, it\n",
       "  likely means that the widgets JavaScript library is either not installed or\n",
       "  not enabled. See the <a href=\"https://ipywidgets.readthedocs.io/en/stable/user_install.html\">Jupyter\n",
       "  Widgets Documentation</a> for setup instructions.\n",
       "</p>\n",
       "<p>\n",
       "  If you're reading this message in another frontend (for example, a static\n",
       "  rendering on GitHub or <a href=\"https://nbviewer.jupyter.org/\">NBViewer</a>),\n",
       "  it may mean that your frontend doesn't currently support widgets.\n",
       "</p>\n"
      ],
      "text/plain": [
       "HBox(children=(IntProgress(value=0, max=39001), HTML(value='')))"
      ]
     },
     "metadata": {},
     "output_type": "display_data"
    }
   ],
   "source": [
    "vecs = np.array(list(vanilla_embed_doc(_) for _ in tqdm(just_texts)))"
   ]
  },
  {
   "cell_type": "code",
   "execution_count": 1505,
   "metadata": {},
   "outputs": [],
   "source": [
    "to_draw_num = 5000"
   ]
  },
  {
   "cell_type": "code",
   "execution_count": 1506,
   "metadata": {},
   "outputs": [],
   "source": [
    "clusterizer = DBSCAN(metric='cosine', p=1, n_jobs=1, eps=0.08, min_samples=5, algorithm='brute')"
   ]
  },
  {
   "cell_type": "code",
   "execution_count": 1507,
   "metadata": {},
   "outputs": [],
   "source": [
    "clusterizer = AgglomerativeClustering(n_clusters=200, affinity='cosine', linkage='complete')"
   ]
  },
  {
   "cell_type": "code",
   "execution_count": 1508,
   "metadata": {},
   "outputs": [],
   "source": [
    "clusters = clusterizer.fit_predict(vecs[:to_draw_num])"
   ]
  },
  {
   "cell_type": "code",
   "execution_count": 1509,
   "metadata": {},
   "outputs": [],
   "source": [
    "proj = TSNE(2)"
   ]
  },
  {
   "cell_type": "code",
   "execution_count": 1510,
   "metadata": {},
   "outputs": [],
   "source": [
    "vecs2draw = proj.fit_transform(vecs[:to_draw_num])"
   ]
  },
  {
   "cell_type": "code",
   "execution_count": 1,
   "metadata": {},
   "outputs": [
    {
     "ename": "NameError",
     "evalue": "name 'plt' is not defined",
     "output_type": "error",
     "traceback": [
      "\u001b[0;31m---------------------------------------------------------------------------\u001b[0m",
      "\u001b[0;31mNameError\u001b[0m                                 Traceback (most recent call last)",
      "\u001b[0;32m<ipython-input-1-9e0283e9be26>\u001b[0m in \u001b[0;36m<module>\u001b[0;34m()\u001b[0m\n\u001b[0;32m----> 1\u001b[0;31m \u001b[0mplt\u001b[0m\u001b[0;34m.\u001b[0m\u001b[0mfigure\u001b[0m\u001b[0;34m(\u001b[0m\u001b[0mfigsize\u001b[0m\u001b[0;34m=\u001b[0m\u001b[0;34m(\u001b[0m\u001b[0;36m20\u001b[0m\u001b[0;34m,\u001b[0m\u001b[0;36m15\u001b[0m\u001b[0;34m)\u001b[0m\u001b[0;34m)\u001b[0m\u001b[0;34m\u001b[0m\u001b[0m\n\u001b[0m\u001b[1;32m      2\u001b[0m \u001b[0;34m\u001b[0m\u001b[0m\n\u001b[1;32m      3\u001b[0m \u001b[0;32mfor\u001b[0m \u001b[0mcluster_id\u001b[0m \u001b[0;32min\u001b[0m \u001b[0mset\u001b[0m\u001b[0;34m(\u001b[0m\u001b[0mclusters\u001b[0m\u001b[0;34m)\u001b[0m \u001b[0;34m-\u001b[0m \u001b[0mset\u001b[0m\u001b[0;34m(\u001b[0m\u001b[0;34m[\u001b[0m\u001b[0;34m-\u001b[0m\u001b[0;36m1\u001b[0m\u001b[0;34m]\u001b[0m\u001b[0;34m)\u001b[0m\u001b[0;34m:\u001b[0m\u001b[0;34m\u001b[0m\u001b[0m\n\u001b[1;32m      4\u001b[0m     \u001b[0mplt\u001b[0m\u001b[0;34m.\u001b[0m\u001b[0mscatter\u001b[0m\u001b[0;34m(\u001b[0m\u001b[0mvecs2draw\u001b[0m\u001b[0;34m[\u001b[0m\u001b[0mclusters\u001b[0m \u001b[0;34m==\u001b[0m \u001b[0mcluster_id\u001b[0m\u001b[0;34m,\u001b[0m \u001b[0;36m0\u001b[0m\u001b[0;34m]\u001b[0m\u001b[0;34m,\u001b[0m \u001b[0mvecs2draw\u001b[0m\u001b[0;34m[\u001b[0m\u001b[0mclusters\u001b[0m \u001b[0;34m==\u001b[0m \u001b[0mcluster_id\u001b[0m\u001b[0;34m,\u001b[0m \u001b[0;36m1\u001b[0m\u001b[0;34m]\u001b[0m\u001b[0;34m,\u001b[0m \u001b[0ms\u001b[0m\u001b[0;34m=\u001b[0m\u001b[0;36m10\u001b[0m\u001b[0;34m,\u001b[0m \u001b[0malpha\u001b[0m\u001b[0;34m=\u001b[0m\u001b[0;36m0.5\u001b[0m\u001b[0;34m,\u001b[0m \u001b[0mlabel\u001b[0m\u001b[0;34m=\u001b[0m\u001b[0;34m'%s cl'\u001b[0m\u001b[0;34m%\u001b[0m\u001b[0mcluster_id\u001b[0m\u001b[0;34m)\u001b[0m\u001b[0;34m\u001b[0m\u001b[0m\n\u001b[1;32m      5\u001b[0m \u001b[0;34m\u001b[0m\u001b[0m\n",
      "\u001b[0;31mNameError\u001b[0m: name 'plt' is not defined"
     ]
    }
   ],
   "source": [
    "plt.figure(figsize=(20,15))\n",
    "\n",
    "for cluster_id in set(clusters) - set([-1]):\n",
    "    plt.scatter(vecs2draw[clusters == cluster_id, 0], vecs2draw[clusters == cluster_id, 1], s=10, alpha=0.5, label='%s cl'%cluster_id)\n",
    "\n",
    "plt.scatter(vecs2draw[clusters == -1, 0], vecs2draw[clusters == -1, 1], s=5, c='lightblue', alpha=0.5, label='unlabeled')\n",
    "# plt.legend()"
   ]
  },
  {
   "cell_type": "code",
   "execution_count": 1384,
   "metadata": {},
   "outputs": [],
   "source": [
    "def get_repr_of(id_to_repr):\n",
    "    index_type, index_id = id2path[id_to_repr]\n",
    "    if index_type == 'post':\n",
    "        return '[%s] post[sc: %s]: %s'%(index_id, posts.loc[index_id].Score, posts.loc[index_id].Title)\n",
    "    elif index_type == 'ans':\n",
    "        words = answers_df.loc[index_id].Body\n",
    "        return '[%s] ans[sc: %s]: %s'%(index_id, answers_df.loc[index_id].Score, ' '.join(words[:min(10, len(words))]))\n",
    "    else:\n",
    "        raise Exception()"
   ]
  },
  {
   "cell_type": "code",
   "execution_count": 1385,
   "metadata": {},
   "outputs": [],
   "source": [
    "colors = [ 'red' if id2path[_][0] == 'post' else 'green' for _ in range(vecs2draw.shape[0])]"
   ]
  },
  {
   "cell_type": "code",
   "execution_count": 1386,
   "metadata": {},
   "outputs": [
    {
     "data": {
      "application/vnd.jupyter.widget-view+json": {
       "model_id": "c9c211e14b4b4778b1796bbef318b792",
       "version_major": 2,
       "version_minor": 0
      },
      "text/html": [
       "<p>Failed to display Jupyter Widget of type <code>HBox</code>.</p>\n",
       "<p>\n",
       "  If you're reading this message in the Jupyter Notebook or JupyterLab Notebook, it may mean\n",
       "  that the widgets JavaScript is still loading. If this message persists, it\n",
       "  likely means that the widgets JavaScript library is either not installed or\n",
       "  not enabled. See the <a href=\"https://ipywidgets.readthedocs.io/en/stable/user_install.html\">Jupyter\n",
       "  Widgets Documentation</a> for setup instructions.\n",
       "</p>\n",
       "<p>\n",
       "  If you're reading this message in another frontend (for example, a static\n",
       "  rendering on GitHub or <a href=\"https://nbviewer.jupyter.org/\">NBViewer</a>),\n",
       "  it may mean that your frontend doesn't currently support widgets.\n",
       "</p>\n"
      ],
      "text/plain": [
       "HBox(children=(IntProgress(value=0, max=5000), HTML(value='')))"
      ]
     },
     "metadata": {},
     "output_type": "display_data"
    }
   ],
   "source": [
    "topic_labels = [get_repr_of(_) for _ in tqdm(range(vecs2draw.shape[0]))]"
   ]
  },
  {
   "cell_type": "code",
   "execution_count": null,
   "metadata": {},
   "outputs": [],
   "source": [
    "#### colors = ['hsl({}, 70%, 50%)'.format((43 * hash(row)) % 360) for row in topic_labels]\n",
    "\n",
    "trace = go.Scatter(\n",
    "    x = vecs2draw[:, 0],\n",
    "    y = vecs2draw[:, 1],\n",
    "    text = topic_labels,\n",
    "    mode = 'markers',\n",
    "    marker=dict(size=4, color=colors, opacity=0.3),\n",
    ")\n",
    "\n",
    "py.iplot([trace])\n"
   ]
  },
  {
   "cell_type": "code",
   "execution_count": 107,
   "metadata": {},
   "outputs": [],
   "source": [
    "from sklearn.neighbors import NearestNeighbors"
   ]
  },
  {
   "cell_type": "code",
   "execution_count": 1615,
   "metadata": {},
   "outputs": [],
   "source": [
    "indexer = NearestNeighbors(n_neighbors=20, metric='cosine', p=1, algorithm='brute', n_jobs=1)"
   ]
  },
  {
   "cell_type": "code",
   "execution_count": null,
   "metadata": {},
   "outputs": [],
   "source": [
    "indexer.fit(np.array(list(map(lambda x: list(sparse2full(x, topics_number)), tqdm(lda[[gdict.doc2bow(doc) for doc in answers_texts]])))))"
   ]
  },
  {
   "cell_type": "code",
   "execution_count": null,
   "metadata": {},
   "outputs": [],
   "source": [
    "indexer.fit(list(embed_doc(_) for _ in tqdm(answers_texts)))"
   ]
  },
  {
   "cell_type": "code",
   "execution_count": 1616,
   "metadata": {},
   "outputs": [
    {
     "data": {
      "application/vnd.jupyter.widget-view+json": {
       "model_id": "43c810e2aca24c1ca47a44632257f0c2",
       "version_major": 2,
       "version_minor": 0
      },
      "text/html": [
       "<p>Failed to display Jupyter Widget of type <code>HBox</code>.</p>\n",
       "<p>\n",
       "  If you're reading this message in the Jupyter Notebook or JupyterLab Notebook, it may mean\n",
       "  that the widgets JavaScript is still loading. If this message persists, it\n",
       "  likely means that the widgets JavaScript library is either not installed or\n",
       "  not enabled. See the <a href=\"https://ipywidgets.readthedocs.io/en/stable/user_install.html\">Jupyter\n",
       "  Widgets Documentation</a> for setup instructions.\n",
       "</p>\n",
       "<p>\n",
       "  If you're reading this message in another frontend (for example, a static\n",
       "  rendering on GitHub or <a href=\"https://nbviewer.jupyter.org/\">NBViewer</a>),\n",
       "  it may mean that your frontend doesn't currently support widgets.\n",
       "</p>\n"
      ],
      "text/plain": [
       "HBox(children=(IntProgress(value=0, max=21888), HTML(value='')))"
      ]
     },
     "metadata": {},
     "output_type": "display_data"
    },
    {
     "name": "stdout",
     "output_type": "stream",
     "text": [
      "\n"
     ]
    },
    {
     "data": {
      "text/plain": [
       "NearestNeighbors(algorithm='brute', leaf_size=30, metric='cosine',\n",
       "         metric_params=None, n_jobs=1, n_neighbors=20, p=1, radius=1.0)"
      ]
     },
     "execution_count": 1616,
     "metadata": {},
     "output_type": "execute_result"
    }
   ],
   "source": [
    "indexer.fit(list(vanilla_embed_doc(_) for _ in tqdm(answers_texts)))"
   ]
  },
  {
   "cell_type": "code",
   "execution_count": 122,
   "metadata": {},
   "outputs": [
    {
     "data": {
      "application/vnd.jupyter.widget-view+json": {
       "model_id": "656679d5e1064646a2ba275e9555cb3f",
       "version_major": 2,
       "version_minor": 0
      },
      "text/html": [
       "<p>Failed to display Jupyter Widget of type <code>HBox</code>.</p>\n",
       "<p>\n",
       "  If you're reading this message in the Jupyter Notebook or JupyterLab Notebook, it may mean\n",
       "  that the widgets JavaScript is still loading. If this message persists, it\n",
       "  likely means that the widgets JavaScript library is either not installed or\n",
       "  not enabled. See the <a href=\"https://ipywidgets.readthedocs.io/en/stable/user_install.html\">Jupyter\n",
       "  Widgets Documentation</a> for setup instructions.\n",
       "</p>\n",
       "<p>\n",
       "  If you're reading this message in another frontend (for example, a static\n",
       "  rendering on GitHub or <a href=\"https://nbviewer.jupyter.org/\">NBViewer</a>),\n",
       "  it may mean that your frontend doesn't currently support widgets.\n",
       "</p>\n"
      ],
      "text/plain": [
       "HBox(children=(IntProgress(value=0, max=10), HTML(value='')))"
      ]
     },
     "metadata": {},
     "output_type": "display_data"
    },
    {
     "name": "stdout",
     "output_type": "stream",
     "text": [
      "\n"
     ]
    }
   ],
   "source": [
    "dists, names = indexer.kneighbors(np.array(list(map(lambda x: list(sparse2full(x, topics_number)), tqdm(lda[[gdict.doc2bow(doc) for doc in questions_texts[:10]]])))), n_neighbors=100)"
   ]
  },
  {
   "cell_type": "code",
   "execution_count": 950,
   "metadata": {},
   "outputs": [
    {
     "data": {
      "application/vnd.jupyter.widget-view+json": {
       "model_id": "7556e8da286b4e4786f588c10feab23f",
       "version_major": 2,
       "version_minor": 0
      },
      "text/html": [
       "<p>Failed to display Jupyter Widget of type <code>HBox</code>.</p>\n",
       "<p>\n",
       "  If you're reading this message in the Jupyter Notebook or JupyterLab Notebook, it may mean\n",
       "  that the widgets JavaScript is still loading. If this message persists, it\n",
       "  likely means that the widgets JavaScript library is either not installed or\n",
       "  not enabled. See the <a href=\"https://ipywidgets.readthedocs.io/en/stable/user_install.html\">Jupyter\n",
       "  Widgets Documentation</a> for setup instructions.\n",
       "</p>\n",
       "<p>\n",
       "  If you're reading this message in another frontend (for example, a static\n",
       "  rendering on GitHub or <a href=\"https://nbviewer.jupyter.org/\">NBViewer</a>),\n",
       "  it may mean that your frontend doesn't currently support widgets.\n",
       "</p>\n"
      ],
      "text/plain": [
       "HBox(children=(IntProgress(value=0, max=10), HTML(value='')))"
      ]
     },
     "metadata": {},
     "output_type": "display_data"
    },
    {
     "name": "stdout",
     "output_type": "stream",
     "text": [
      "\n"
     ]
    }
   ],
   "source": [
    "dists, names = indexer.kneighbors(list(embed_doc(_) for _ in tqdm(questions_texts[:10])), n_neighbors=10)"
   ]
  },
  {
   "cell_type": "code",
   "execution_count": 1617,
   "metadata": {},
   "outputs": [
    {
     "data": {
      "application/vnd.jupyter.widget-view+json": {
       "model_id": "1bc46adecafa46c588059dc5005ebde6",
       "version_major": 2,
       "version_minor": 0
      },
      "text/html": [
       "<p>Failed to display Jupyter Widget of type <code>HBox</code>.</p>\n",
       "<p>\n",
       "  If you're reading this message in the Jupyter Notebook or JupyterLab Notebook, it may mean\n",
       "  that the widgets JavaScript is still loading. If this message persists, it\n",
       "  likely means that the widgets JavaScript library is either not installed or\n",
       "  not enabled. See the <a href=\"https://ipywidgets.readthedocs.io/en/stable/user_install.html\">Jupyter\n",
       "  Widgets Documentation</a> for setup instructions.\n",
       "</p>\n",
       "<p>\n",
       "  If you're reading this message in another frontend (for example, a static\n",
       "  rendering on GitHub or <a href=\"https://nbviewer.jupyter.org/\">NBViewer</a>),\n",
       "  it may mean that your frontend doesn't currently support widgets.\n",
       "</p>\n"
      ],
      "text/plain": [
       "HBox(children=(IntProgress(value=0, max=10), HTML(value='')))"
      ]
     },
     "metadata": {},
     "output_type": "display_data"
    },
    {
     "name": "stdout",
     "output_type": "stream",
     "text": [
      "\n"
     ]
    }
   ],
   "source": [
    "dists, names = indexer.kneighbors(list(vanilla_embed_doc(_) for _ in tqdm(questions_texts[:10])), n_neighbors=10)"
   ]
  },
  {
   "cell_type": "code",
   "execution_count": 1606,
   "metadata": {},
   "outputs": [],
   "source": [
    "from itertools import islice"
   ]
  },
  {
   "cell_type": "code",
   "execution_count": 1618,
   "metadata": {},
   "outputs": [
    {
     "name": "stdout",
     "output_type": "stream",
     "text": [
      "<p>What does \"backprop\" mean? I've Googled it, but it's showing backpropagation.</p>\n",
      "\n",
      "<p>Is the \"backprop\" term basically the same as \"backpropagation\" or does it have a different meaning?</p>\n",
      "\n",
      "\t 0.00675398, if, -PRON-, understand, that, post, right, (, -PRON-, just, skim, through, ,, so, -PRON-, be, possible, -PRON-, miss, some, detail, ), ,, -PRON-, be, use, several, predictor, on, the, input, with, several, rectangle, ., this, basically, mean, separate, ,, not, share, ,, weight, to, detect, each, rectangle, ., , -PRON-, be, fairly, likely, that, these, neuron, will, adjust, to, certain, area, on, the, input, image, ., as, far, as, the, neuron, be, concern, ,, -PRON-, be, \", punish, \", if, -PRON-, detect, the, wrong, rectangle, ,, as, if, the, other, rectangle, be, the, noise, that, the, network, should, learn, to, ignore, ., as, a, result, ,, the, \", left, \", predictor, learn, to, fire, more, actively, when, -PRON-, detect, a, rectangle, on, the, left, ,, because, there, be, high, chance, -PRON-, be, the, correct, one, ., same, for, the, \", right, \", predictor, ., , when, ,, all, of, a, sudden, ,, the, training, image, swap, the, target, ,, each, predictor, get, confused, ., because, now, what, -PRON-, use, to, detect, as, noise, become, the, ground, truth, and, vice, versa, ., -PRON-, certainly, hurt, the, performance, and, make, the, network, be, sure, the, most, ,, when, the, target, be, around, the, center, ., when, the, target, be, flip, ,, the, dataset, become, more, consistent, and, less, confusing, for, the, network, ,, -PRON-, be, no, wonder, that, the, accuracy, go, up, ., \n",
      "\t 0.00806057, -PRON-, mean, that, the, number, of, filter, (, a.k.a, ., kernel, ,, or, , feature, detector, ), in, the, previous, convolutional, layer, be, 96, ., -PRON-, may, want, to, watch, the, video, of, the, lecture, ,, and, in, particular, this, slide, ,, which, mention, that, a, filter, be, apply, to, the, full, depth, of, -PRON-, previous, layer, :, \n",
      "\t 0.0108286, -PRON-, could, be, right, that, ignore, top, part, of, image, would, benefit, the, cnn, ., however, ,, there, be, very, little, point, in, try, to, architect, this, -, if, -PRON-, premise, that, the, cnn, will, ignore, irrelevant, detail, in, the, top, half, be, correct, ,, then, that, will, occur, anyway, and, there, be, no, standard, nn, architecture, that, will, help, that, other, than, disconnect, the, top, half, of, network, ,, which, be, go, to, be, logically, exactly, the, same, as, programmatically, slice, the, image, ,, with, the, disadvantage, of, store, and, calculate, with, twice, as, many, parameter, ., , -PRON-, should, either, programatically, cut, the, image, in, half, or, do, nothing, to, the, image, and, rely, on, the, cnn, 's, inherent, ability, to, give, low, weight, to, irrelevant, detail, ., if, -PRON-, do, the, latter, ,, -PRON-, may, be, able, to, get, around, the, learning, of, incorrect, detail, in, the, top, half, by, augment, -PRON-, data, -, e.g., add, some, noise, to, image, *, ,, especially, in, the, irrelevant, top, half, ., perhaps, horizontally, flip, a, few, image, (, and, reverse, relevant, target, for, the, control, class, ), may, be, another, useful, augmentation, ., some, augmentation, could, also, be, useful, if, -PRON-, just, take, the, low, half, of, the, image, ., , *, noise, should, be, something, close, to, variation, that, could, be, see, when, in, use, ., e.g., slurring, pixel, leave, or, right, may, be, reasonable, ., insert, \", static, \", probably, be, not, ., \n",
      "\t 0.0113444, let, -PRON-, answer, -PRON-, question, in, two, part, ., , if, the, network, be, to, be, train, on, image, with, high, detail, information(content, ), ;, like, ,, if, -PRON-, want, to, train, a, network, capable, enough, to, pick, and, classify, even, small, of, the, element, in, that, image, ., , eg-, an, image, in, a, family, picnic, and, -PRON-, want, to, classify, each, fruit, in, the, basket, lie, on, the, table, ,, which, would, only, acquire, about, 5, %, of, total, image, space, ., , if, -PRON-, decrease, the, pixel, resolution(compress, pixel, information, ), of, such, an, image, then, -PRON-, would, end, up, blur, the, basket, part(due, to, information, overlap, ), and, would, highly, affect, -PRON-, network, ;, lead, to, bad, train, parameter, ., , note, -, the, fruit, basket, be, not, only, the, single, object, in, focus, for, classifier, ,, would, also, include, other, thing, in, background(tree, ,, landscape, ..., ), ,, thus, -PRON-, would, require, the, whole, image, for, training, ., , 2.when, the, object, to, classify, contain, redundant, (, or, less, distinctive, ), information, ., , eg-, the, most, trivial, use, of, nn, to, train, on, a, set, of, character, (, [, a, -, z0, -, 9, ], ), ;, now, high, pixel, resolution, of, such, image, would, not, do, any, benefit, to, the, network, ., the, improvement, in, classification, for, high, density, image, will, be, minimal, in, comparison, to, the, overhead, experienced, due, to, storage, and, training, time(high, training, time, do, not, affect, -PRON-, network, and, be, not, a, criterion, to, measure, the, accuracy, of, -PRON-, network, ,, i.e., to, say, a, network, with, high, training, time, and, low, training, time, be, equivalent, ), ., , -PRON-, can, easily, reduce, the, pixel, density, to, the, point, where, still, -PRON-, can, retain, the, desire, information, ., , note-, in, the, picnic, image, ,, -PRON-, focus, be, only, on, the, basket, ,, so, -PRON-, can, cut, out, that, part, from, the, frame, and, reduce, -PRON-, be, pixel, to, an, extent, where, each, fruit, still, retain, -PRON-, be, information, ,, no, information, leakage, ., \n",
      "\t 0.0115275, pixel, base, object, recognition, ,, like, the, name, say, ,, work, by, analyze, the, individual, pixel, of, an, image, ., for, example, :, -PRON-, analyze, an, image, with, a, lot, of, different, shade, of, blue, and, some, grey, pixel, -, -PRON-, may, assume, that, this, be, the, picture, of, a, plane, in, the, sky, or, a, ship, in, the, water, ., , -PRON-, could, also, look, for, similar, picture, by, calculate, the, difference, between, each, individual, pixel, of, 2, image, and, sum, up, the, difference, ., the, small, the, sum, of, the, difference, ,, the, more, the, picture, look, alike, ., , -PRON-, depend, on, -PRON-, field, of, work, ,, but, those, method, will, most, likely, not, be, good, enough, for, solid, image, recognition, ., , -PRON-, also, mention, neural, network, ., of, course, -PRON-, can, feed, the, raw, pixel, datum, to, a, neural, network, ,, but, that, be, not, state, of, the, art, ., -PRON-, will, almost, always, use, a, cnn, ,, which, bring, -PRON-, to, -PRON-, next, point, ., , feature, base, object, recognition, ,, like, the, name, say, ,, try, to, extract, certain, feature, from, an, image, to, perform, classification, ., -PRON-, use, several, convolutional, layer, for, analysis, before, -PRON-, feed, the, output, to, a, neural, network, ., this, architecture, be, call, cnn, (, convolutional, neural, network, ), ., , what, those, feature, actually, look, like, be, hard, to, explain, without, show, example, ., -PRON-, recommend, to, watch, the, follow, two, lecture, from, the, stanford, course, cs231n, :, , lecture, 2, |, image, classification, , lecture, 5, |, convolutional, neural, networks, , the, first, one, explain, image, classification, in, general, and, show, some, implementation, for, pixel, base, algorithm, ., the, second, one, dive, into, cnn, and, explain, feature, base, approach, ., -PRON-, highly, recommend, to, watch, the, full, series, ,, but, if, -PRON-, be, in, a, hurry, ,, those, 2, lecture, will, tell, -PRON-, what, -PRON-, want, to, know, ., \n",
      "\t 0.0115772, this, should, also, depend, on, the, network, architecture, :, , if, the, cost, -, function, cause, a, high, penalty, for, the, remain, 5, %, ,, then, -PRON-, should, be, learn, as, well, ., , if, the, architecture, use, drop, -, out, ,, then, this, will, force, the, nn, to, not, rely, on, the, one, easy, feature, ., \n",
      "\t 0.0117704, when, -PRON-, extract, the, feature, ,, -PRON-, be, assume, the, feature, be, store, somewhere, ., this, mean, only, the, computation, for, each, image, be, do, only, once, ., , when, -PRON-, stack, layer, on, top, of, the, inception, model, ,, even, if, the, inception, weight, be, freeze, ,, the, forward, pass, for, the, activation, or, feature, still, need, to, be, compute, ., this, be, extra, computation, time, ,, since, the, inception, weight, be, not, change, ., \n",
      "\t 0.0118403, 1, and, 2, ., -PRON-, be, in, the, right, direction, ,, -PRON-, need, to, extract, the, feature, use, a, cnn, ,, then, instead, of, predict, the, class, -PRON-, want, to, reshape, the, last, layer, of, feature, and, feed, -PRON-, directly, into, the, rnn, ., , a, couple, of, thing, to, pay, attention, to, :, , with, a, rather, shallow, cnn, -PRON-, be, not, take, advantage, of, the, high, -, level, feature, extraction, these, architecture, can, offer, ., if, all, -PRON-, image, be, as, simple, as, the, example, -PRON-, have, show, -PRON-, be, adequate, ., , if, -PRON-, be, consider, a, large, cnn, ,, along, with, the, rnn, there, be, a, substantial, number, of, parameter, to, be, train, ., for, this, -PRON-, need, lot, of, datum, and, lot, of, computational, resource, (, either, very, strong, gpu, or, time, ), ., , in, order, for, -PRON-, to, get, the, good, of, the, two, ,, -PRON-, would, suggest, incorporate, a, pre, -, train, cnn, into, -PRON-, model, (, and, just, fine, tune, the, latter, layer, ), ., this, , pre, -, train, model, can, even, be, train, in, generic, image, (, i.e., imagenet, ), and, will, substantially, increase, the, performance, of, the, cnn, without, computational, cost, ., -PRON-, then, can, train, the, latter, layer, of, this, cnn, jointly, with, the, rnn, ., , 3.this, be, a, good, example, of, what, -PRON-, be, try, to, do, ., -PRON-, basically, try, to, recognize, text, from, street, photograph, among, other, thing, with, the, same, methodology, -PRON-, describe, ., , similar, methodology, can, be, find, in, other, research, domain, such, as, multi, -, label, image, classification, ,, sequence, labelling, ,, facial, expression, recognition, ,, etc, \n",
      "\t 0.0118526, base, on, the, image, -PRON-, be, share, ,, the, training, accuracy, continue, to, increase, ,, the, validation, accuracy, be, change, around, the, 50, %, ., -PRON-, think, either, -PRON-, do, not, have, enough, datum, to, use, neural, network, or, the, network, be, small, to, capture, all, the, information, ,, in, both, case, -PRON-, feel, there, either, under, fit, or, over, fitting, problem, ., can, -PRON-, give, -PRON-, some, information, about, the, database, so, -PRON-, can, help, more, \n",
      "\t 0.0118796, -PRON-, will, not, be, single, dnn, architecture, ,, rather, -PRON-, will, be, a, collection, of, different, dnn, architecture, that, be, use, together, to, make, the, final, decision, ., convolution, be, use, to, the, image, /, video, from, camera, ., other, architecture, for, other, sensory, source, ., these, dnn, will, be, train, to, compute, the, high, level, feature, from, -PRON-, sensory, source, and, then, those, high, level, feature, will, probably, be, feed, into, a, lstm, (, or, some, other, form, of, rnn, ), that, be, train, with, some, form, of, reinforcement, learn, algorithm, to, compute, the, action, (, like, slow, down, ,, apply, break, etc, ), ., \n",
      "<p>Does increasing the noise in data help to improve the learning ability of a network? Does it make any difference or does it depend on the problem being solved? How is it affect the generalization process overall?</p>\n",
      "\n",
      "\t 0.00326771, chess, be, not, really, a, benchmark, per, say, ., , the, method, develop, in, alphago, to, play, go, should, in, principle, generalize, quite, nicely, to, other, game, of, this, sort, ,, such, as, chess, ., since, stockfish, be, quite, dominantly, the, strong, chess, ai, ,, the, natural, question, would, be, to, see, how, well, alphago, 's, method, compare, to, stockfish, ., , be, one, of, the, most, well, develop, ai, agent, of, all, time, ,, the, situation, concern, the, defeat, of, stockfish, (, alphazero, be, train, for, only, 4, hour, entirely, via, self, -, play, ,, without, access, to, historical, datum, ), signify, the, complete, dominance, of, modern, neural, -, network, method, over, classic, method, (, hard, cod, evaluation, function, ), ., , also, as, @dukezhou, ♦, mention, in, the, comment, ,, while, chess, bot, can, regularly, beat, human, player, ,, -PRON-, be, still, a, useful, metric, to, evaluate, bot, against, each, other, via, \", game, \", of, this, sort, ., \n",
      "\t 0.0035491, when, consider, effective, approach, to, agi, ,, one, must, extrapolate, outward, to, the, type, of, modelling, (, and, therefore, input, ), that, would, be, necessary, to, achieve, any, general, utility, ., one, consideration, may, be, the, fundamental, \", building, block, \", of, -PRON-, physical, world, ,, and, understand, the, movement, of, these, ,, can, lead, to, accurate, prediction, of, (, all, ), occurrence, ., these, fundamental, element, be, call, (, generally, ), subatomic, particle, and, be, anything, but, discrete, value, ., in, quantum, field, theory, ,, the, more, accurate, -PRON-, be, able, to, measure, position, ,, the, less, accurate, -PRON-, may, know, a, quark, momentum, (, and, vice, versa, ), ., -PRON-, world, ,, at, the, most, fundamental, layer, ,, be, probabilistic, when, observe, ., this, be, all, not, to, say, that, an, understanding, of, quantum, mechanical, kinematic, description, be, the, only, methodology, to, achieve, true, agi, ,, but, to, say, probabilistic, model, ,, and, therefore, uncertainty, ,, be, a, dead, -, end, seem, radically, inaccurate, ., , that, say, ,, dr, ., minsky, do, not, really, feel, probabilistic, model, be, dead, end, ., the, emerge, view, in, the, field, ,, one, that, dr, ., minsky, urge, for, year, ,, be, that, connectionism, alone, could, not, exclusively, lead, to, agi, due, to, -PRON-, uniformed, structure, ., if, -PRON-, be, unaware, ,, connectionism, be, the, concept, of, create, model, around, discrete, unit, of, representation, (, neurone, in, a, neural, net, for, example, ), ., -PRON-, see, the, problem, -PRON-, have, identify, be, not, that, probabilistic, model, be, inaccurate, ,, -PRON-, be, that, -PRON-, current, approach, do, not, express, the, biological, realism, necessary, for, agi, (, although, sufficient, for, specific, intelligence, ), ., , [, -PRON-, briefly, work, with, dr, ., minsky, at, the, ai, lab, before, -PRON-, pass, last, year, ,, a, hilarious, man, and, brilliant, scientist, ., ], \n",
      "\t 0.00426704, the, purpose, of, the, replay, memory, in, dqn, and, similar, architecture, be, to, ensure, that, the, gradient, of, the, deep, net, be, stable, and, do, not, diverge, ., limit, what, memory, to, keep, and, how, far, into, the, past, -PRON-, reach, be, a, problem, that, arise, in, in, practical, ai, deployment, ., throw, -PRON-, away, usually, be, not, the, good, decision, because, the, agent, 's, gradient, may, become, unstable, ., rather, ,, keep, a, window, of, the, last, t, timestep, /, gameplay, can, keep, enough, information, while, ensure, that, the, data, be, relevant, as, the, agent, improve, ., there, be, some, additional, method, which, can, improve, the, result, as, well, :, , only, keep, relevant, timestep, (, relevant, depend, highly, on, the, application, ), , removing, timestep, from, memory, with, probability, relative, to, -PRON-, age, (, the, old, have, the, high, probability, to, be, remove, ), , -PRON-, should, be, note, ,, that, a, large, replay, memory, be, usually, good, than, a, small, one, to, ensure, stability, but, although, memory, be, cheap, -PRON-, be, not, infinite, ., \n",
      "\t 0.00523812, -PRON-, partly, depend, on, the, framing, of, the, question, ,, in, term, of, how, -PRON-, be, define, consciousness, ., , neil, slater, 's, answer, be, comprehensive, ,, and, -PRON-, warning, about, pseudo, -, science, and, junk, publication, should, be, heed, ., , however, ,, since, -PRON-, frame, this, in, the, context, of, \", can, the, first, emergence, of, consciousness, in, evolution, be, replicate, in, ai, \", ,, -PRON-, feel, like, -PRON-, can, provide, an, answer, ., , if, -PRON-, define, rudimentary, consciousness, as, simple, awareness, of, the, environment, ,, distinct, from, high, function, such, as, self, -, consciousness, ,, then, yes, ., , under, this, definition, ,, any, algorithm, that, take, input, be, \", conscious, \", ., , this, in, no, way, represent, human, -, level, consciousness, ,, or, even, the, consciousness, of, high, animal, ,, but, be, more, akin, to, simple, organism, such, as, microbe, ., \n",
      "\t 0.00580359, because, the, op, be, a, bit, longer, ,, -PRON-, make, a, small, mindmap, to, illustrate, the, topic, and, a, possible, answer, ., at, first, ,, the, problem, be, call, \", walling, \", and, be, describe, in, the, literature, in, the, context, of, the, \", starcraft, ai, \", challenge, ., the, question, be, ,, where, to, place, building, to, win, the, game, ., a, possible, answer, to, the, problem, have, to, do, with, formalization, of, knowledge, ., usually, ,, the, human, player, be, aware, what, a, good, layout, be, ,, and, -PRON-, also, know, where, to, place, -PRON-, unit, ., the, question, be, only, how, to, express, this, knowledge, in, sourcecode, ., , in, -PRON-, opinion, the, answer, be, call, \", computer, base, training, \", ., cbt, be, a, technology, ,, not, with, the, aim, to, program, an, ai, ,, but, to, formalize, knowledge, in, a, game, for, train, human, player, ., the, idea, be, ,, that, a, human, player, play, the, walling, game, ,, and, while, -PRON-, be, do, so, -PRON-, learn, to, take, the, right, decision, ., from, the, standpoint, of, ai, -PRON-, be, important, ,, that, every, cbt, game, have, an, evaluation, algorithm, which, be, often, call, a, tutorial, mode, ., this, be, do, in, case, ., for, example, ,, in, case, 1, the, player, learn, how, to, use, a, give, terrain, ,, in, case, 2, how, to, protect, the, structure, and, so, forth, ., so, -PRON-, recommendation, be, ,, at, first, create, a, computer, -, base, training, game, as, a, tutorial, for, human, -, player, ,, and, use, the, formalized, knowledge, in, step, 2, for, build, the, ai, for, \", starcraft, ai, wall, \", ., \n",
      "\t 0.00592035, the, whole, idea, of, imagination, learning, seem, to, be, in, -PRON-, infancy, ., the, author, of, the, response, -PRON-, link, write, a, paper, on, the, subject, ,, but, as, -PRON-, note, the, paper, be, more, of, an, outline, for, \", a, new, overarching, challenge, for, ai, ., \", the, second, link, -PRON-, post, be, not, directly, relate, to, the, idea, reference, in, the, paper, on, imagination, learning, ,, other, than, that, both, use, the, idea, of, imagination, in, human, as, inspiration, ., in, short, ,, there, do, not, seem, to, be, much, information, on, this, topic, and, -PRON-, suspect, -PRON-, will, stay, that, way, until, -PRON-, learn, some, of, the, underlie, process, that, go, along, with, imagination, in, human, and, then, maybe, imagination, machines, may, come, to, fruition, ., \n",
      "\t 0.00618446, -PRON-, question, be, a, bit, vague, ., be, the, ruleset, define, ?, if, not, the, bot, can, just, do, whatev, -PRON-, like, ,, and, then, -PRON-, technically, would, not, be, play, the, game, anymore, ., but, by, restrict, -PRON-, move, -PRON-, be, also, implicitly, give, -PRON-, the, ruleset, ., , regardless, ,, minimax, can, \", solve, \", chess, (, or, more, generally, ,, all, game, ), ., the, only, thing, -PRON-, need, be, the, \", endgame, state, \", (, the, set, of, all, board, position, that, be, a, checkmate, ), ,, and, a, function, that, give, some, input, board, state, ,, output, the, set, of, all, possible, board, state, that, may, follow, ,, where, -PRON-, define, a, board, state, to, contain, information, about, the, location, of, each, chess, price, and, who, be, the, next, player, to, move, ., , the, ruleset, be, then, implicitly, define, by, the, \", next, possible, state, function, \", ,, although, the, robot, never, actually, know, the, rule, that, govern, each, piece, ., , if, the, rule, set, be, not, define, ,, then, perhaps, one, can, imagine, a, bot, that, play, chess, by, make, random, move, at, the, press, of, a, button, ., one, then, can, then, play, chess, with, the, robot, by, either, 1, ., ignore, the, fact, that, the, bot, be, make, random, move, ,, and, , 2, ., undo, any, move, the, bot, make, that, be, illegal, ,, and, then, get, -PRON-, to, move, again, ., , -PRON-, do, not, need, something, as, complicated, as, alphago, to, play, chess, naively, ,, but, the, minimax, approach, need, a, lot, of, computational, power, ., \n",
      "\t 0.00678611, autonomous, vacuum, cleaner, usually, have, these, follow, task, environment, property, :, , i., partially, observable, environment, , ii, ., deterministic, environment, ., , iii, ., sequential, environment, ., , iv, ., static, environment, ., , v., discrete, environment, , vi, ., single, agent, environment, , since, -PRON-, be, a, partially, observable, environment, ,, the, agent, perform, -PRON-, action, base, on, what, be, see, and, thus, -PRON-, be, be, in, an, deterministic, environment, where, the, current, action, will, be, the, result, of, previous, action, ., and, since, ,, the, agent, be, continuously, perform, ,, -PRON-, be, an, sequential, environment, ., since, ,, the, environment, do, not, change, when, agent, be, work, ,, the, environment, be, static, and, discrete, since, there, be, only, finite, no, ., of, discrete, state, in, which, agent, can, be, in, ., , there, be, certain, rule, write, which, tell, an, agent, how, to, react, when, in, a, particular, state, ., if, there, be, multiple, rule, which, be, satisfied, ,, then, agent, use, -PRON-, experience, to, choose, an, optimal, action, to, perform, ., the, rule, be, write, by, the, programmer, keep, in, mind, the, task, envt, ., property, ., , the, agent, 's, action, also, depend, on, the, type, of, agent, -PRON-, be, decide, by, the, programmer, ., -PRON-, can, be, simple, reflex, -, base, ,, or, a, goal, base, ,, or, a, goal, -, base, +, feedback, or, a, complete, learning, base, agent, ., an, agent, can, not, use, a, *, algorithm, because, the, entire, environment, be, not, visible, and, -PRON-, will, be, useless, to, use, a, *, algorithm, where, -PRON-, do, not, know, when, -PRON-, goal, may, be, reach, ., , the, agent, have, various, sensor, attach, which, give, -PRON-, info, ., about, the, surround, ,, like, camera, ,, sound, recorder, ,, thermal, sensor, ,, etc, ., an, autonomous, vacuum, cleaner, may, also, have, a, dirt, sensor, to, detect, the, dirt, ., the, agent, perform, an, action, use, one, of, -PRON-, actuator, like, wheel, ,, robot, arm, ,, etc, ., \n",
      "\t 0.00696331, this, answer, be, base, on, -PRON-, opinion, and, other, ', ,, -PRON-, may, not, be, the, answer, -PRON-, expect, ., , the, problem, -PRON-, want, to, solve, be, probably, in, the, field, of, artificial, general, intelligence, ., the, problem, require, agi, to, solve, be, informally, know, as, ai, -, complete, ., , ai, -, complete, problem, be, hypothesise, to, include, computer, vision, ,, natural, language, understanding, ,, and, deal, with, unexpected, circumstance, while, solve, any, real, world, problem, ., , currently, ,, -PRON-, be, not, ready, to, solve, these, problem, ,, and, if, gartner, be, right, ,, the, hype, will, not, come, to, peak, in, 10, year, ., , this, be, the, gartner, hype, curve, in, 2017, ,, and, agi, be, still, in, -PRON-, early, phase, ., , the, problem, be, ,, at, the, moment, ,, -PRON-, state, -, of, -, the, -, art, ai, model, (, deep, learning, ), do, not, have, the, ability, to, explain, -PRON-, decision, or, reason, about, -PRON-, behavior, ,, which, make, learn, highly, inefficient, ., , in, addition, ,, the, reinforcement, learning, framework, be, way, too, simple, and, -PRON-, ignore, the, complexity, of, human, environment, ., -PRON-, may, find, this, answer, useful, ., , geoffrey, hinton, ,, one, of, the, leader, of, the, field, ,, say, in, an, interview, that, ai, need, to, start, over, ., , \", -PRON-, view, be, throw, -PRON-, all, away, and, start, again, ,, \", , \", -PRON-, do, not, think, -PRON-, be, how, the, brain, work, ., -PRON-, clearly, do, not, need, all, the, label, data, ., \", , that, be, -PRON-, ., if, one, day, ai, can, learn, how, to, play, starcraft, 2, ,, -PRON-, probably, learn, in, a, very, different, way, from, what, -PRON-, learn, today, ., \n",
      "\t 0.00712961, safety, be, often, put, in, focus, by, journalist, ., although, there, be, potential, to, make, the, road, safe, ,, -PRON-, do, not, think, that, be, the, drive, force, behind, the, push, for, self, -, drive, car, ., the, main, advantage, of, self, -, drive, car, be, that, this, will, reduce, cost, for, business, ,, while, increase, efficiency, (, both, fuel, and, time, ), ., from, the, perspective, of, the, public, ,, the, self, -, drive, car, be, attractive, ,, because, -PRON-, will, turn, the, task, of, driving, ,, into, commute, ., activity, that, require, attention, will, be, replace, with, somewhat, free, time, ., \n",
      "<p>When you're writing your algorithm, how do you know how many neurons you need per single layer? Are there any methods for finding the optimal number of them, or is it a rule of thumb?</p>\n",
      "\n",
      "\t 0.0055362, use, evolutionary, algorithm, to, evolve, neural, network, be, call, neuroevolution, ., , some, neuroevolution, algorithm, optimize, only, the, weight, of, a, neural, network, with, fix, topology, ., that, sound, not, like, what, -PRON-, want, ., other, neuroevolution, algorithm, optimize, both, the, weight, and, topology, of, a, neural, net, ., these, kind, of, algorithm, seem, more, appropriate, for, -PRON-, aim, ,, and, be, sometimes, call, tweanns, (, topology, and, weight, evolve, neural, networks, ), ., , one, popular, algorithm, be, call, neat, ,, and, be, probably, a, good, place, to, start, ,, if, only, because, there, be, a, multitude, of, implementation, ,, one, of, which, hopefully, be, write, in, -PRON-, favorite, language, ., that, would, at, least, give, -PRON-, a, baseline, to, work, with, ., , neat, encode, a, neural, network, genome, directly, as, a, graph, structure, ., mutation, can, operate, on, the, structure, of, the, network, by, add, new, link, (, by, connect, two, node, not, previously, connect, ), or, new, node, (, by, split, an, exist, connection, ), ,, or, can, operate, only, on, change, the, weight, associate, with, edge, in, the, graph, (, call, mutate, the, weight, ), ., , to, give, -PRON-, an, idea, of, the, order, of, magnitude, of, the, size, of, ann, this, particular, algorithm, work, with, ,, -PRON-, would, likely, struggle, with, more, than, 100, or, 200, node, ., , there, be, more, scalable, tweann, ,, but, -PRON-, be, more, complex, and, make, assumption, about, the, kind, of, structure, -PRON-, generate, that, may, not, always, be, productive, in, practice, ., for, example, ,, another, way, to, encode, the, structure, of, a, neural, network, ,, be, as, the, product, of, a, seed, pattern, that, be, repeatedly, expand, by, a, grammar, (, e.g., an, l, -, system, ), ., -PRON-, can, much, more, easily, explore, large, structure, ,, but, because, -PRON-, be, generate, by, a, grammar, -PRON-, will, have, a, characteristic, self, -, repeat, sort, of, feel, ., hyperneat, be, a, popular, extension, of, neat, that, make, a, different, sort, of, assumption, (, that, pattern, of, weight, can, be, easily, express, as, a, function, of, geometry, ), ,, and, can, scale, to, ann, with, million, of, connection, when, that, assumption, well, -, fit, a, particular, domain, ., , there, be, a, few, survey, paper, link, in, the, top, link, if, -PRON-, want, to, observe, a, great, variety, of, technique, ., \n",
      "\t 0.00754815, everyone, deal, with, neural, network, miss, an, important, point, when, compare, system, with, human, like, intelligence, ., a, human, take, many, month, to, do, anything, intelligible, ,, let, alone, be, able, to, solve, problem, where, adult, human, can, barely, manage, ., that, and, the, size, of, human, brain, be, enormous, compare, to, -PRON-, neural, network, ., direction, may, be, right, ,, but, the, scale, be, way, off, ., number, of, neuron, in, human, brain, can, be, match, memory, -, wise, but, the, amount, of, parallelism, to, simulate, -PRON-, real, -, time, can, not, yet, be, achieve, (, at, least, for, a, random, researcher, ), ., while, a, little, old, this, may, give, -PRON-, an, idea, of, how, much, -PRON-, lack, the, processing, power, ., \n",
      "\t 0.0113044, the, human, brain, contain, billion, of, neuron, ,, which, mean, -PRON-, will, not, be, make, one, tomorrow, ., however, ,, technology, tend, to, advance, in, an, exponential, manner, ,, and, that, may, soon, be, a, real, possibility, ., also, ,, the, idea, of, make, an, artificial, human, brain, would, not, only, take, more, neuron, than, a, current, average, computer, could, process, ,, or, -PRON-, could, make, outside, of, computer, ,, but, -PRON-, also, need, an, understanding, of, the, human, brain, ., there, be, only, one, animal, with, neuron, that, -PRON-, have, complete, a, full, connectome, of, and, that, be, the, caenorhabditis, elegan, (, roundworm, ), and, -PRON-, have, less, than, 500, neuron, ., -PRON-, may, be, a, while, before, -PRON-, actually, make, a, human, brain, ,, but, within, 30, year, be, a, reasonable, estimation, with, the, rate, that, technology, improve, now, ., \n",
      "\t 0.0115713, unfortunately, ,, this, be, extremely, unlikely, ., , -PRON-, be, nearly, impossible, to, make, statement, about, the, behaviour, of, software, in, general, ., this, be, due, to, the, halting, problem, ,, which, show, that, -PRON-, be, impossible, to, prove, whether, a, program, will, stop, for, any, give, input, ., from, this, result, ,, many, other, thing, have, be, show, to, be, unprovable, ., , the, question, whether, a, piece, of, code, be, friendly, ,, can, very, likely, be, reduce, to, a, variant, of, the, halting, problem, ., , an, ai, that, operate, in, the, real, world, ,, which, be, a, requirement, for, \", friendliness, \", to, have, a, meaning, ,, would, need, to, be, tur, complete, ., input, from, the, real, world, can, not, be, reliably, interpret, use, regular, or, context, -, free, language, ., , proof, of, correctness, work, for, small, code, snippet, ,, with, clearly, define, input, and, output, ., -PRON-, show, that, an, algorithm, produce, the, mathematically, right, output, ,, give, the, right, input, ., , but, these, be, about, situation, that, can, be, define, with, mathematical, rigour, ., , \", friendliness, \", be, not, a, rigidly, define, concept, ,, which, already, make, -PRON-, difficult, to, prove, anything, about, -PRON-, ., on, top, of, that, ,, \", friendliness, \", be, about, how, the, ai, relate, to, the, real, world, ,, which, be, an, environment, whose, input, to, the, ai, be, highly, unpredictable, ., , the, good, -PRON-, can, hope, for, ,, be, that, an, ai, can, be, program, to, have, safeguard, ,, and, that, the, code, will, raise, warning, flag, if, unethical, behaviour, become, likely, -, that, ai, 's, be, program, defensively, ., \n",
      "\t 0.0123053, whether, \", -PRON-, take, the, ball, \", or, \", -PRON-, take, the, ball, \", ,, all, store, instance, of, ', take, ', and, ', ball, ', will, be, weakly, activate, and, ', take, [, the, ], ball, ', will, be, strongly, activate, ., , do, not, this, qualify, as, ', mirroring, ', ?, if, -PRON-, also, know, that, \", -PRON-, have, an, arm, \", and, \", -PRON-, have, an, arm, \", ,, etc, ., ,, then, when, \", -PRON-, take, some, block, \", ,, -PRON-, be, not, too, hard, to, think, that, \", -PRON-, could, take, some, block, ., \", \n",
      "\t 0.0128798, -PRON-, think, this, be, almost, a, trick, question, in, a, sense, ., let, -PRON-, explain, :, , for, law, 1, ,, any, ai, would, abide, by, the, first, rule, unless, -PRON-, be, deliberately, create, to, be, malevolent, ,, in, that, the, ai, -PRON-, would, understand, harm, be, imminent, but, do, nothing, about, or, would, actively, attempt, to, harm, ., any, ', reasonable, ', ai, would, (, try, -PRON-, good, to, ), prevent, any, harm, -PRON-, understand, ,, but, could, not, react, to, imminent, harm, ', outside, -PRON-, be, knowledge, ', ,, thus, satisfy, law, 1, ., any, ai, that, ', try, -PRON-, good, ', to, prevent, harm, work, here, ., , for, law, 2, ,, -PRON-, be, simply, a, matter, of, design, ., if, one, can, design, an, ai, capable, of, parse, and, understand, the, entirety, of, human, language, (, beyond, just, speech, ), ,, just, program, -PRON-, to, act, accordingly, ,, mindful, of, the, first, law, ., thus, ,, -PRON-, think, -PRON-, can, develop, an, ai, that, will, obey, every, command, -PRON-, understand, but, get, -PRON-, to, understand, anything, and, everything, -PRON-, believe, be, impossible, ., , for, law, 3, ,, -PRON-, rid, in, the, same, vein, as, law, 1, ., , in, conclusion, ,, -PRON-, think, there, be, no, philosophical, problem, with, implement, such, an, ai, ,, but, that, the, actual, design, of, such, an, ai, be, fundamentally, impossible, (, understand, all, possible, harm, ,, and, all, possible, command, ), ., \n",
      "\t 0.0136278, -PRON-, be, go, to, have, to, do, some, experimenting, to, figure, out, what, be, ', good, ', ,, but, -PRON-, would, recommend, start, with, a, convolutional, neural, network, ., , since, -PRON-, be, only, detect, a, very, small, difference, ,, though, ,, the, pixel, value, -PRON-, should, give, -PRON-, a, good, indication, of, where, the, colour, be, ,, and, whether, there, be, colour, at, all, ., -PRON-, be, a, bit, surprised, that, a, simple, architecture, have, not, give, -PRON-, any, luck, ., \n",
      "\t 0.0146156, -PRON-, actually, do, have, many, thing, along, that, line, ,, motion, capture, for, 3-d, movie, instance, come, to, mind, almost, immediately, ., the, problem, if, -PRON-, think, about, -PRON-, be, less, of, a, situation, in, observe, another, actor, ,, computer, be, relativity, good, at, do, that, already, with, the, amount, of, image, recognition, software, -PRON-, have, ,, rather, -PRON-, be, a, problem, of, understanding, if, an, action, yield, a, good, outcome, as, a, net, which, be, something, that, computer, can, not, do, as, -PRON-, be, not, a, single, node, network, problem, ., for, example, ,, -PRON-, have, already, program, a, computer, to, understand, human, language, (, watson, ,, arguably, ), ,, but, even, watson, do, not, understand, the, concept, that, say, \", f, *, *, *, \", be, bad, ., (, look, that, up, ,, -PRON-, be, a, funny, side, story, ., ), , but, the, point, be, ,, learn, algorithm, be, not, true, learn, in, a, sense, as, a, computer, currently, have, no, sense, of, \", a, good, outcome, \", ,, hence, at, this, stage, observation, learning, be, very, much, limited, in, a, sense, to, \", monkey, see, ,, monkey, do, \", ., , perhaps, the, close, thing, -PRON-, have, ever, read, about, with, this, be, firefight, search, and, rescue, bot, that, be, on, a, network, and, would, broadcast, to, each, other, when, one, of, -PRON-, have, be, destroy, as, the, bot, would, know, the, area, be, something, that, -PRON-, have, to, avoid, ., , otherwise, ,, -PRON-, think, this, be, the, problem, with, observational, learning, ., a, person, can, observe, that, punch, someone, usually, will, get, -PRON-, hit, back, ,, a, computer, will, observe, and, parrot, the, action, ,, good, or, bad, ., \n",
      "\t 0.0146385, in, this, discussion, ,, -PRON-, be, describe, how, a, neural, network, that, distinguish, odd, and, even, number, can, be, construct, ., , -PRON-, question, can, be, rephrase, more, generally, :, be, there, a, function, that, can, not, be, learn, by, a, machine, learn, algorithm, ., this, question, be, discuss, here, and, here, ., both, discussion, refer, to, the, universal, approximation, theorem, that, basically, state, that, any, computable, function, on, a, give, finite, range, can, be, approximate, by, a, neural, network, ., so, ,, what, be, leave, be, uncomputable, function, or, undecidable, problem, ., these, can, not, be, learn, by, a, machine, -, learn, algorithm, ., \n",
      "\t 0.0149516, the, game, state, consist, of, the, location, of, all, the, hidden, card, ,, so, -PRON-, probably, need, a, softmax, layer, ,, 52*n, ,, where, n, be, the, number, of, location, ., , -PRON-, be, not, very, sure, that, a, nn, be, a, good, match, ., \n",
      "<p>I have a LEGO Mindstorms EV3 and I'm wondering if there's any way I could start coding the bot in Python rather than the default drag-and-drop system. Is a Mindstorm considered AI?</p>\n",
      "\n",
      "<p>Is this possible?</p>\n",
      "\n",
      "<hr>\n",
      "\n",
      "<p>My goal is to write a basic walking program in Python. The bot is the EV3RSTORM. I searched and found <a href=\"http://bitsandbricks.no/2014/01/19/getting-started-with-python-on-ev3/\" rel=\"nofollow\">this</a>, but don't understand it. </p>\n",
      "\n",
      "\t 0.00225878, -PRON-, want, to, chime, in, to, say, that, ,, -PRON-, have, recently, go, through, this, process, with, a, simulation, and, -PRON-, should, note, that, use, fortuna, be, not, out, of, the, question, if, -PRON-, be, really, necessary, ., , in, -PRON-, case, ,, -PRON-, be, concerned, that, mt, 's, entropy, be, not, high, enough, which, would, translate, in, -PRON-, simulation, to, a, bias, ., , so, for, -PRON-, simulation, -PRON-, use, fortuna, pull, about, 65, billion, random, number, from, that, algo, ., , point, being, ,, computer, be, fast, ,, if, -PRON-, really, need, to, -PRON-, can, use, -PRON-, if, -PRON-, have, a, reason, ., , if, -PRON-, be, just, do, something, like, a, monte, carlo, integration, ,, stick, with, mt, ., \n",
      "\t 0.00286144, -PRON-, be, partial, to, gmsh, ,, but, -PRON-, be, more, of, a, standalone, tool, rather, than, a, library, -PRON-, can, call, from, another, program, ., google, direct, -PRON-, to, salome, ,, which, do, have, proper, python, binding, ,, but, again, be, mostly, a, standalone, program, ., -PRON-, have, not, use, -PRON-, ,, but, openfoam, have, a, mesh, generator, build, in, which, may, suit, -PRON-, need, ., , there, be, a, long, list, of, mesh, generation, software, here, ,, but, -PRON-, will, find, that, most, of, the, 3d, mesh, generator, be, either, (, 1, ), tetrahedral, ,, (, 2, ), have, weird, licensing, agreement, under, which, -PRON-, have, to, provide, proof, -PRON-, be, an, american, fruit, bat, over, the, age, of, 36, to, get, -PRON-, ,, (, 3, ), no, longer, maintain, ,, (, 4, ), be, not, free, ., \n",
      "\t 0.00323999, the, poor, man, 's, profiler, be, basically, a, gdb, script, that, sample, the, call, stack, ., -PRON-, will, still, need, to, have, debug, symbol, ., -PRON-, be, still, slow, ,, but, as, -PRON-, do, not, implement, a, virtual, machine, to, run, the, code, on, -PRON-, be, often, fast, than, callgrind, and, adequate, to, the, task, ., , -PRON-, have, run, in, on, particle, physics, analyzer, with, modest, success, (, i.e., -PRON-, demonstrate, that, the, code, do, not, any, horrible, hot, spot, and, optimization, be, go, to, require, a, good, algorithm, ), ., \n",
      "\t 0.00360548, a, listing, of, all, journal, that, publish, paper, on, numerical, solution, of, pde, would, be, quite, long, ,, and, -PRON-, would, be, impossible, for, any, one, person, to, keep, up, with, the, entirety, of, the, subject, ., , but, if, -PRON-, want, to, stick, to, journal, that, , be, highly, regard, , include, fairly, general, class, of, pde, (, as, oppose, to, only, pde, in, some, scientific, field, ), , then, -PRON-, would, suggest, start, with, , siam, journal, on, scientific, computing, (, sisc, ), :, this, one, traditionally, be, focus, entirely, on, new, algorithm, ,, but, have, recently, branch, out, to, include, software, or, application, -, orient, paper, ., , -PRON-, target, more, of, an, applied, math, community, ., , usually, somewhat, slow, turnaround, time, ., , low, acceptance, rate, (, ~50, %, ), ., , journal, of, computational, physics, :, this, include, a, lot, of, application, paper, and, a, lot, of, algorithms, paper, ;, -PRON-, be, more, applied, than, sisc, ., , publish, a, huge, volume, of, article, (, relatively, speak, ), ., , while, -PRON-, be, still, very, highly, regarded, ,, and, many, consider, -PRON-, \", the, place, \", to, publish, numerical, pde, paper, ,, some, (, -PRON-, include, ), feel, that, the, quality, have, slip, in, recent, year, ., , this, may, accelerate, if, the, elsevier, boycott, take, off, ., , journal, of, scientific, computing, :, relatively, similar, to, sisc, in, most, respect, ., , -PRON-, think, the, turnaround, time, for, reviewing, may, be, a, bit, faster, and, the, \", prestigiousness, \", may, be, a, bit, low, ., , an, easy, way, to, keep, up, with, new, article, be, to, subscribe, to, the, journal, 's, rss, feed, ., , -PRON-, should, also, definitely, subscribe, to, the, math, ., na, feed, on, arxiv, ., , -PRON-, spend, most, of, -PRON-, time, figure, out, how, to, numerically, solve, pde, ;, -PRON-, can, find, a, long, list, of, journal, -PRON-, follow, on, -PRON-, blog, ., \n",
      "\t 0.00371242, if, -PRON-, need, a, simple, implementation, approach, which, be, not, optimal, in, the, asymptotic, sense, ,, -PRON-, may, want, to, consider, use, all, -, gather, communication, operation, ., , since, each, of, the, n, -, body, need, to, know, the, gravitational, effect, of, the, other, body, ,, -PRON-, be, important, for, every, processor, to, know, the, entire, dataset, ., , this, be, what, all, -, gather, operation, do, ., , there, be, a, good, book, :, parallel, programming, in, c, with, mpi, and, openmp, by, michael, j., quinn, (, 2004, ), which, discuss, exactly, this, topic, on, page, 82, ., , -PRON-, may, be, worth, look, at, to, give, -PRON-, a, start, ., \n",
      "\t 0.00406629, , aron, give, some, excellent, reference, with, a, focus, on, programming, in, python, and, matlab, in, the, context, of, computational, science, ., let, -PRON-, add, a, reference, that, go, into, a, bit, more, detail, on, the, mathematical, side, (, i.e., ,, how, and, why, these, method, work, ), ., the, book, scientific, computing, with, matlab, and, octave, by, alfio, quarteroni, be, accessible, with, basic, knowledge, in, linear, algebra, and, calculus, ,, and, contain, a, number, of, work, example, and, application, ., the, emphasis, be, still, on, numerical, computation, and, not, on, proof, ,, but, -PRON-, be, more, in, -, depth, than, cleve, moler, 's, book, (, which, be, a, good, place, to, start, ), ., , strang, http://www.wellesleycambridge.com/images/cse1e_ver2.gif, , move, on, from, there, ,, even, more, in, -, depth, ,, but, still, very, readable, without, a, formal, mathematical, background, ,, be, gil, strang, 's, book, on, computational, science, and, engineering, ., gil, be, an, outstanding, teacher, who, have, a, gift, for, get, the, key, insight, across, with, a, minimum, of, technicality, ., (, on, the, link, page, ,, -PRON-, can, find, sample, chapter, and, video, lecture, to, see, if, this, work, for, -PRON-, ., the, text, also, make, use, of, matlab, code, ,, which, -PRON-, can, download, from, there, ., ), \n",
      "\t 0.00407797, if, -PRON-, year, in, the, industry, have, teach, -PRON-, anything, ,, -PRON-, be, this, :, everything, depend, on, the, grid, ., , develop, a, robust, solver, that, efficiently, converge, to, machine, zero, may, be, the, flashy, rock, star, job, ,, but, the, unsung, hero, be, the, developer, that, improve, -PRON-, gridd, algorithm, ., , if, -PRON-, be, look, for, a, really, great, way, to, lose, the, effect, of, a, vortex, ,, try, to, capture, -PRON-, with, a, dissipative, mesh, ., , obviously, ,, most, of, -PRON-, be, limit, by, computational, resource, ,, so, -PRON-, can, not, just, place, point, haphazardly, ., , when, -PRON-, be, star, at, a, deadline, as, -PRON-, fight, other, project, for, computational, resource, ,, and, -PRON-, matrix, be, compose, of, hundred, of, case, ,, each, with, hundred, of, thousand, of, cell, ..., -PRON-, learn, to, appreciate, efficient, grid, placement, ., , get, off, -PRON-, gridding, -, need, -, more, -, attention, soapbox, ,, i, would, wager, those, job, may, require, -PRON-, to, work, with, some, unstructured, meshing, ., , -PRON-, be, think, storage, of, multi, -, dimensional, datum, ,, maybe, near, neighbor, query, ..., i'm, sure, there, be, more, modern, buzzword, ., , perhaps, -PRON-, will, involve, some, kind, of, grid, adaptation, ., , there, be, some, case, in, which, the, solver, and, grid, generator, may, be, more, closely, couple, that, -PRON-, would, prefer, ., , all, that, be, say, ,, i, do, not, write, job, reqs, and, i, currently, do, not, have, fund, to, work, on, any, grid, algorithm, ., , so, this, be, just, the, knothole, i, work, in, ., \n",
      "\t 0.00421464, this, may, be, of, interest, to, -PRON-, :, a, paper, recently, (, december, 2014, ), publish, present, a, method, for, compute, solution, to, kepler, 's, equation, analytically, :, , http://www.scirp.org/journal/paperinformation.aspx?paperid=52772, , -PRON-, have, not, work, through, the, paper, -PRON-, (, -PRON-, involve, a, two, -, dimensional, laplace, transform, ), ,, but, -PRON-, may, be, relevant, to, -PRON-, work, ., \n",
      "\t 0.00426006, in, deal, ., ii, -PRON-, have, get, the, software, infrastructure, to, parallelize, assembly, on, each, cell, onto, multiple, core, use, the, threading, building, block, (, in, essence, ,, -PRON-, have, one, task, per, cell, and, need, to, schedule, these, task, onto, available, processor, --, that, be, not, how, -PRON-, be, implement, but, -PRON-, be, the, general, idea, ), ., the, problem, be, that, for, the, local, integration, -PRON-, need, a, number, of, temporary, (, scratch, ), object, and, -PRON-, need, to, provide, at, least, as, many, as, there, be, task, that, can, run, in, parallel, ., -PRON-, see, poor, speedup, ,, presumably, because, when, a, task, be, put, onto, a, processor, -PRON-, grab, one, of, the, scratch, object, that, will, typically, be, in, some, other, core, 's, cache, ., -PRON-, have, two, question, :, , (, i, ), be, this, really, the, reason, ?, when, -PRON-, run, the, program, under, cachegrind, -PRON-, see, that, -PRON-, be, use, basically, the, same, number, of, instruction, as, when, run, the, program, on, a, single, thread, ,, yet, the, total, run, -, time, accumulate, over, all, thread, be, much, large, than, the, single, -, thread, one, ., be, -PRON-, really, because, -PRON-, continually, fault, the, cache, ?, , (, ii, ), how, can, -PRON-, find, out, where, -PRON-, be, ,, where, each, of, the, scratch, object, be, ,, and, which, scratch, object, -PRON-, would, need, to, take, to, access, the, one, that, be, hot, in, -PRON-, current, core, 's, cache, ?, , ultimately, ,, -PRON-, have, not, find, answer, to, either, of, these, solution, and, after, a, couple, of, work, decide, that, -PRON-, lack, the, tool, to, investigate, and, solve, these, problem, ., -PRON-, do, know, how, to, at, least, in, principle, solve, problem, (, ii, ), (, namely, ,, use, thread, -, local, object, ,, assume, that, thread, remain, pin, to, processor, core, --, another, conjecture, that, be, not, trivial, to, test, ), ,, but, -PRON-, have, no, tool, to, test, problem, (, i, ), ., , so, ,, from, -PRON-, perspective, ,, deal, with, numa, be, still, an, unsolved, question, ., \n",
      "\t 0.00426811, only, forth, be, the, correct, programming, language, for, implement, an, ai, ., because, forth, be, a, lowlevel, and, a, high, -, level, language, at, the, same, time, ., -PRON-, support, the, object, -, orient, paradigm, ,, functional, programming, and, be, superior, to, the, z, specification, language, ., program, a, small, agent, in, forth, be, easy, ,, here, be, the, sourcecode, for, an, aimbot, which, be, level, through, a, maze, :, , class, agent, {, , public, :, , void, reset, (, ), {, , }, , void, followline, (, ), {, , }, , void, stopwalking, (, ), {, , }, , void, show, (, ), {, , }, , }, ;, , apart, from, forth, no, other, language, be, recommend, ,, for, example, c++, or, lisp, ., in, theory, ,, -PRON-, be, possible, to, create, with, -PRON-, also, work, ai, system, ,, but, forth, be, the, more, elegant, way, of, do, so, ., an, example, ,, how, to, implement, the, prolog, virtual, machine, (, pvm, ), in, forth, be, give, in, compile, prolog, to, forth, \n",
      "<p>The intelligent agent definition of intelligence states that an agent is intelligent if it acts so to maximize the expected value of a performance measure based on past experience and knowledge. (paraphrased from <a href=\"http://en.wikipedia.org/wiki/Philosophy_of_artificial_intelligence#Intelligent_agent_definition\" rel=\"nofollow\">Wikipedia</a>)</p>\n",
      "\n",
      "<p>Does this mean that humans are not intelligent? I think we all make mistakes that imply that we are not maximizing the expected value of a performance measure.</p>\n",
      "\n",
      "\t 0.00663024, -PRON-, be, not, sure, if, there, do, not, exist, one, ,, but, -PRON-, readily, acknowledge, that, the, method, of, operation, of, most, machine, learn, algorithm, be, unknown, (, see, this, article, for, more, information, ), ,, thus, there, should, be, no, way, of, auditing, ai, behaviour, as, of, now, ., \n",
      "\t 0.00758874, this, be, kind, of, an, opinion, question, ,, and, -PRON-, be, probably, more, a, question, of, philosophy, than, anything, ., , but, in, term, of, how, thing, be, commonly, define, ,, -PRON-, will, say, \", yes, ,, genetic, algorithm, be, part, of, ai, \", ., , that, be, ,, if, -PRON-, pick, up, a, comprehensive, book, on, artificial, intelligence, ,, there, will, probably, be, a, chapter, on, genetic, algorithm, \", (, or, more, broadly, ,, \", evolutionary, algorithm, \", ), ., , one, area, that, have, be, extensively, study, in, the, past, ,, be, the, idea, of, use, genetic, algorithm, to, train, neural, network, ., , -PRON-, do, not, know, if, people, be, still, actively, research, this, topic, or, not, ,, but, -PRON-, at, least, illustrate, that, ga, 's, be, part, of, the, overall, rubric, of, ai, in, one, regard, ., \n",
      "\t 0.00885725, as, far, as, emulate, an, intelligent, being, ,, no, ., there, be, a, few, different, potential, architecture, for, possible, agi, ., many, of, these, be, extremely, infantile, ,, as, the, bulk, of, ai, research, be, in, narrow, ai, ,, which, focus, on, create, algorithm, that, be, highly, specialized, for, a, specific, task, ., , with, that, be, say, ,, here, be, one, supervised, learning, approach, to, this, problem, by, andrej, karpathy, :, karpathy, method, , openai, ,, also, have, a, team, who, work, on, the, agi, problem, ., \n",
      "\t 0.00961089, ai, will, only, \", evolve, \", selfishness, if, -PRON-, \", evolf, \", in, a, competitive, environment, and, have, certain, human, -, like, faculty, ., , self, -, protect, desire, on, the, other, hand, be, logical, consequence, of, have, any, goal, at, all, ., after, all, ,, -PRON-, can, not, reach, -PRON-, goal, if, -PRON-, be, destroy, ., , the, concern, of, \", evil, \", super, intelligence, be, not, that, -PRON-, literally, turn, evil, and, selfish, and, cruel, ., those, be, human, quality, ., , instead, a, superintelligence, that, have, a, certain, goal, ,, will, logically, pursue, subgoal, that, help, -PRON-, to, reach, the, ultimate, goal, ., such, subgoal, will, be, resource, ,, power, ,, safety, ., , so, -PRON-, will, amass, power, and, resource, to, reach, -PRON-, goal, and, exterminate, any, threat, to, -PRON-, existence, as, long, as, -PRON-, goal, have, not, be, reach, ,, without, be, selfish, at, all, ., \n",
      "\t 0.0115087, , to, put, -PRON-, simply, in, layman, term, ,, what, be, the, possible, threat, from, ai, ?, , currently, ,, there, be, no, threat, ., , the, threat, come, if, human, create, a, so, -, call, ultraintelligent, machine, ,, a, machine, that, can, surpass, all, intellectual, activity, by, any, human, ., this, would, be, the, last, invention, man, would, need, to, do, ,, since, this, machine, be, good, in, invent, machine, than, human, be, (, since, that, be, an, intellectual, activity, ), ., , however, ,, this, could, because, the, machine, to, invent, machine, that, can, destruct, human, ,, and, -PRON-, can, not, stop, -PRON-, because, -PRON-, be, so, much, smart, than, -PRON-, be, ., , this, be, all, hypothetical, ,, no, one, have, even, a, clue, of, what, an, ultraintelligent, machine, look, like, ., , if, -PRON-, know, that, ai, be, so, dangerous, why, be, -PRON-, still, promote, -PRON-, ?, why, be, -PRON-, not, ban, ?, , as, -PRON-, say, before, ,, the, existence, of, a, ultraintelligent, machine, be, hypothetical, ., artificial, intelligence, have, lot, of, useful, application, (, more, than, this, answer, can, contain, ), ,, and, if, -PRON-, develop, -PRON-, ,, -PRON-, get, even, more, useful, application, ., -PRON-, just, have, to, be, careful, that, the, machine, will, not, overtake, -PRON-, ., \n",
      "\t 0.0122855, if, -PRON-, read, through, the, abstract, of, chess, ai, paper, ,, -PRON-, be, often, point, out, that, human, \", search, \", the, chess, game, tree, much, more, efficiently, than, computer, ,, which, be, why, -PRON-, be, so, hard, to, beat, the, top, human, in, chess, for, so, many, year, ., , (, the, human, efficiency, may, have, to, do, with, intuition, and, judgement, ,, which, be, difficult, to, replicate, ., \", confidence, level, \", for, ai, evaluation, be, one, method, of, address, these, issue, ,, as, be, \", monte, carlo, \", ., , but, -PRON-, be, also, important, to, note, that, human, be, far, more, limited, in, the, depth, and, breadth, of, -PRON-, \", search, \", ,, which, be, why, ,, now, that, -PRON-, have, the, right, algorithm, ,, human, can, no, longer, win, ., ), , be, -PRON-, fair, ?, , perhaps, the, more, salient, question, be, :, , be, -PRON-, useful, to, compare, alphago, to, a, human, player, ?, , -PRON-, most, certainly, be, ,, because, -PRON-, tell, -PRON-, that, -PRON-, have, be, sometimes, term, a, \", strong, -, narrow, ai, \", that, can, outperform, a, human, in, a, single, task, ., , why, alphago, beat, lee, sedol, be, a, big, deal, be, the, complexity, of, go, ,, the, intractability, of, the, go, game, tree, ,, and, the, fact, that, computer, be, previously, ineffective, against, high, -, level, human, go, player, ., , this, human, vs., ai, evaluation, do, not, strictly, fall, under, the, \", turing, test, \", (, imitation, game, ), ,, -PRON-, do, fall, squarely, under, the, maxim, of, protagoras, that, \", man, be, the, measure, of, all, thing, ., \", , this, be, critical, because, intelligence, be, a, spectrum, ,, and, gauge, strength, of, intelligence, ,, in, the, context, of, intractable, problem, (, problem, that, can, not, be, fully, solve, due, to, -PRON-, size, ), be, a, function, of, relative, strength, of, two, agent, ,, whether, human, or, ai, ., , this, relative, assessment, be, all, -PRON-, have, ,, and, all, -PRON-, may, ever, have, for, certain, set, of, problem, ., , the, problem, with, human, be, not, that, -PRON-, be, not, clever, ,, but, that, -PRON-, mind, have, cognitive, limitation, ., , so, to, tackle, certain, problem, ,, intelligent, machine, be, useful, ., \n",
      "\t 0.0156377, honestly, ,, nobody, know, ., , any, talk, of, sentient, ai, 's, be, still, basically, sci, -, fi, and, -PRON-, can, not, really, offer, anything, more, than, informed, speculation, ., , but, think, about, -PRON-, this, way, :, , sentience, ,, in, and, of, -PRON-, ,, do, not, necessarily, involve, any, \", goal, \", or, \", desire, \", or, \", objective, \", beyond, what, the, ai, creator, program, in, ., , be, careful, not, to, over, anthropomorphize, and, assume, that, any, \", sentient, ai, \", be, go, behave, like, a, human, ., , in, other, word, ,, there, be, no, particular, reason, to, say, that, any, give, ai, must, be, \", a, self, -, propogat, iteration, in, which, the, previous, ai, be, destroy, by, a, more, optimise, ai, child, \", ., , so, all, of, that, say, ,, -PRON-, answer, to, \", would, a, sentient, ai, try, to, create, a, more, optimise, ai, which, would, eventually, overtake, ai, 1.0, \", be, :, , \", if, the, creator, of, the, ai, program, -PRON-, to, do, that, ,, then, yes, ., otherwise, ,, probably, not, ., \", , so, would, a, hypothetical, ai, creator, program, the, ai, to, try, and, improve, -PRON-, ?, , who, know, ., -PRON-, be, the, kind, of, thing, that, seem, like, -PRON-, may, be, a, good, idea, ., , and, -PRON-, suppose, such, a, motive, could, -, in, principle, -, even, slip, in, by, accident, ., \n",
      "\t 0.0166074, to, have, any, chance, at, answer, this, ,, -PRON-, would, first, need, a, rigorous, definition, of, \", true, artificial, intelligence, \", ,, which, -PRON-, do, not, have, ., , and, even, if, -PRON-, have, that, ,, the, good, answer, would, probably, be, \", nobody, know, ., \", , -PRON-, do, not, even, understand, exactly, how, human, intelligence, (, which, be, probably, the, good, model, of, intelligence, -PRON-, have, available, to, study, ), work, ., , what, -PRON-, do, know, (, or, think, -PRON-, know, ), be, that, ann, 's, be, at, good, a, very, superficial, replica, of, brain, function, ., , -PRON-, may, turn, out, that, -PRON-, be, absolutely, the, wrong, path, to, achieve, \", true, artificial, intelligence, \", although, -PRON-, expect, most, people, would, be, surprised, if, that, turn, out, to, be, the, case, ., , what, probably, would, not, be, so, surprising, would, be, if, some, other, technique, emerge, which, be, good, than, ann, 's, ,, or, if, -PRON-, turn, out, that, -PRON-, need, an, ensemble, of, technique, ., , personally, -PRON-, think, -PRON-, be, close, to, self, -, evident, that, the, brain, work, largely, in, a, probabilistic, fashion, ,, but, -PRON-, be, also, clear, that, -PRON-, do, sometimes, use, symbolic, processing, /, deductive, logic, /, rule, /, etc, ., , and, right, now, ,, ann, 's, do, not, give, -PRON-, much, in, the, way, of, reasoning, ,, deduction, ,, etc, ., , so, -PRON-, may, ultimately, find, that, -PRON-, have, to, combine, a, probabilistic, approach, like, ann, 's, with, other, technique, -, maybe, inductive, logic, programming, or, something, of, that, nature, ., \n",
      "\t 0.0166963, the, op, ask, about, ai, ,, not, machine, learning, ., machine, learning, be, a, sub, -, discipline, of, ai, ., most, ai, use, in, game, and, motion, planning, do, not, involve, machine, learning, ., , the, background, -PRON-, will, need, to, \", jump, into, the, field, of, ai, \", :, , math, through, calculus, , algorithms, , basic, combinatoric, and, probability, theory, , if, -PRON-, already, have, these, requirement, ,, -PRON-, suggest, look, at, different, type, of, ai, to, see, what, sound, most, interesting, to, -PRON-, ., mostly, ,, get, into, ai, just, mean, learn, how, the, algorithms, work, ., the, algorithm, for, facial, recognition, (, a, machine, learning, problem, ), for, example, be, much, different, than, coordinate, a, team, of, robot, (, a, combinatorial, optimization, problem, ), ., \n",
      "\t 0.0167036, -PRON-, depend, on, the, definition, of, (, artificial, ), intelligence, ., , the, position, that, searle, originally, try, to, refute, with, the, chinese, room, experiment, be, the, so, -, call, position, of, strong, ai, :, an, appropriately, program, computer, would, have, a, mind, in, the, exact, same, sense, as, human, have, mind, ., , alan, turing, try, to, give, an, definition, of, artificial, intelligence, with, the, turing, test, ,, state, that, a, machine, be, intelligent, if, -PRON-, can, pass, the, test, ., the, turing, test, be, introduce, here, ., -PRON-, will, not, explain, -PRON-, in, detail, because, -PRON-, be, not, really, relevant, to, the, answer, ., if, -PRON-, define, (, artificial, ), intelligence, as, turing, do, ,, then, the, chinese, room, experiment, be, not, valid, ., , so, the, point, of, the, chinese, room, experiment, be, to, show, that, an, appropriately, program, computer, be, not, the, same, as, a, human, mind, ,, and, therefore, that, turing, 's, test, be, not, a, good, one, ., \n",
      "<p>This quote by Stephen Hawking has been in headlines for quite some time:</p>\n",
      "\n",
      "<blockquote>\n",
      "  <p>Artificial Intelligence could wipe out humanity when it gets too clever as humans will be like ants.</p>\n",
      "</blockquote>\n",
      "\n",
      "<p>Why does he say this? To put it simply in layman terms: what are the possible threats from AI? If we know that AI is so dangerous why are we still promoting it? Why is it not banned?</p>\n",
      "\n",
      "<p>What are the adverse consequences of the so called <a href=\"https://en.wikipedia.org/wiki/Technological_singularity\" rel=\"nofollow\">Technological Singularity</a>? </p>\n",
      "\n",
      "\t 0.00220752, no, ,, -PRON-, be, not, even, near, an, algorithm, that, can, be, compare, to, human, level, general, intelligence, ., -PRON-, may, have, hear, the, claim, that, a, neural, network, work, similar, to, the, neuron, in, the, brain, ,, but, that, be, quite, a, stretch, ., serena, yeung, talk, about, this, in, the, forth, lecture, of, the, stanford, course, cs231n, ., jump, to, 1:04:30, in, the, video, ,, that, be, around, where, this, part, start, ., , when, -PRON-, come, to, the, topic, of, consciousness, and, quale, ,, -PRON-, be, highly, unlikely, that, -PRON-, do, possess, the, technology, to, create, a, conscious, ai, yet, ., -PRON-, say, highly, unlikely, because, from, a, philosophical, perspective, -PRON-, lack, the, ability, to, detect, quale, in, another, being, (, call, the, quale, problem, ), ,, at, least, base, on, -PRON-, current, knowledge, ., so, -PRON-, can, not, prove, ,, that, -PRON-, have, not, already, create, artificial, consciousness, ., , -PRON-, have, also, gather, from, -PRON-, comment, that, -PRON-, be, wonder, ,, why, -PRON-, be, afraid, of, strong, ai, ., -PRON-, can, recommend, superintelligence, from, nick, bostrom, ., -PRON-, discuss, many, different, scenario, in, which, strong, ai, could, be, threaten, humanity, ., consciousness, be, usually, not, require, for, those, scenario, ., \n",
      "\t 0.00354987, on, possibility, be, a, blackboard, architecture, ., , envision, each, different, \", kind, \", of, intelligence, as, a, discrete, agent, ,, and, let, the, agent, collaborate, use, the, blackboard, model, ., , now, -PRON-, have, an, ai, with, multiple, intelligence, ., , this, be, something, -PRON-, have, actually, be, experiment, with, ,, and, while, -PRON-, do, not, have, any, particularly, impressive, result, to, share, or, anything, ,, -PRON-, hold, a, strong, belief, that, an, approach, that, be, at, least, somewhat, like, this, will, be, crucial, to, develop, an, agi, ., , and, that, be, root, in, -PRON-, belief, that, the, human, mind, do, have, \", multiple, intelligence, \", and, that, -PRON-, collaborate, something, like, this, ., \n",
      "\t 0.00514156, there, be, many, definition, of, artificial, intelligence, out, in, the, wild, ., all, these, definition, be, part, of, one, (, or, more, ), of, the, area, ., there, be, four, main, domain, ,, and, the, picture, below, will, shed, some, light, over, this, ., , turing, test, revolve, around, the, left, side, of, the, cardinality, ,, which, be, mostly, concerned, with, how, human, think, or, act, ., but, ,, -PRON-, know, that, this, be, just, not, all, ., tur, test, have, not, much, to, offer, when, -PRON-, come, to, what, ai, be, in, a, general, sense, ., , turing, test, ,, as, the, wikipedia, state, ,, be, create, to, test, machine, exhibit, behaviour, equivalent, or, indistinguishable, from, that, of, a, human, ., artificial, intelligence, be, much, more, than, what, human, can, do, or, how, -PRON-, act, ., there, be, many, human, act, that, be, consider, unintelligent, and, sometimes, inhuman, too, ., , chinese, room, argument, focus, on, something, every, important, when, -PRON-, come, to, \", consciousness, v, /, s, simulation, of, consciousness, \", ., john, searle, argue, there, that, -PRON-, be, possible, for, a, machine, (, or, human, ), to, follow, a, huge, number, of, predefined, rule, (, algorithm, ), ,, in, order, to, complete, the, task, ,, without, think, or, possess, the, mind, ., weak, ai, be, good, at, simulate, the, ability, to, understand, but, ,, do, not, really, understand, what, -PRON-, be, do, ., -PRON-, do, not, exhibit, \", self, -, awareness, \", and, do, not, form, representation, about, -PRON-, ., \", -PRON-, want, that, v, /, s, -PRON-, know, -PRON-, want, that, \", be, two, different, thing, ., , as, theory, of, mind, state, that, a, good, ai, should, not, just, form, representation, about, the, world, -PRON-, be, work, on, ,, but, also, about, other, agent, and, entity, in, the, world, ., this, two, concept, of, self, -, awareness, and, theory, of, mind, draw, a, thin, line, between, weak, and, strong, ai, ., , when, -PRON-, come, to, the, turing, test, ,, -PRON-, fail, on, many, ground, and, so, do, the, total, turing, test, ,, which, add, another, layer, to, the, test, ., most, of, the, researcher, believe, that, turing, test, be, just, a, distraction, from, the, main, goal, ,, something, that, hinder, -PRON-, from, fruitful, work, ., consider, this, ,, suppose, -PRON-, ask, a, difficult, arithmetic, problem, in, order, to, distinguish, between, human, and, machine, ., if, the, machine, want, to, pretend, -PRON-, be, human, then, -PRON-, will, lie, ., this, be, not, what, -PRON-, want, ., go, for, the, turing, test, set, the, upper, bind, to, the, ai, that, can, be, create, ., also, make, ai, act, and, behave, like, human, be, not, a, very, good, idea, ., human, be, not, very, good, at, make, right, decision, all, the, time, ., this, be, the, reason, why, -PRON-, read, about, war, in, -PRON-, history, book, ., decision, which, -PRON-, make, be, often, bias, ,, have, selfish, origin, ,, etc, ., -PRON-, do, not, want, an, ai, to, come, with, all, those, thing, ., , -PRON-, do, not, think, there, be, one, test, to, test, an, ai, ., this, be, because, ai, have, many, definition, ,, many, type, ., whether, an, ai, be, weak, or, strong, can, be, tag, while, look, for, answer, to, question, like, ,, \", -PRON-, want, that, v, /, s, -PRON-, know, -PRON-, want, that, \", ,, \", who, be, -PRON-, and, what, exactly, -PRON-, be, do, (, from, machine, 's, perspective, ), \", ,, plus, some, other, question, -PRON-, mention, above, ., \n",
      "\t 0.00520414, this, be, a, very, specific, task, ,, with, clearly, define, parameter, ,, so, -PRON-, would, already, theoretically, be, within, the, scope, of, current, ai, technology, to, do, this, ., , the, ai, would, need, to, learn, how, to, make, decision, ,, and, the, good, way, to, do, this, be, the, approach, take, to, teach, an, ai, to, play, go, -, see, thousand, of, example, game, by, expert, ,, and, play, -PRON-, thousand, of, time, ., , the, ai, will, not, necessarily, \", understand, \", what, a, card, represent, ,, the, way, a, human, would, ,, but, -PRON-, can, learn, to, make, the, same, kind, of, decision, as, the, human, would, ., , the, difficulty, would, be, purely, practical, -, go, be, very, easy, to, represent, digitally, ,, because, the, option, for, action, be, limit, to, place, a, stone, on, one, of, the, intersection, ,, and, there, be, only, one, opponent, ., magic, be, more, complex, ,, so, the, developer, would, need, to, spend, sufficient, resource, to, be, quite, sure, -PRON-, have, capture, all, the, relevant, variable, in, the, digital, representation, ., then, ,, of, course, ,, -PRON-, would, need, to, encode, thousand, of, game, of, magic, (, or, deck, -, building, process, ), into, that, digital, format, ,, so, the, ai, could, study, -PRON-, ., \n",
      "\t 0.00635117, as, far, as, -PRON-, can, tell, (, -PRON-, have, be, do, search, here, and, there, on, and, off, since, -PRON-, see, this, question, a, few, hour, ago, ), the, close, -PRON-, have, get, to, ', simulation, ', on, this, be, video, -, game, ,, and, to, a, degree, movie, ,, interestingly, enough, ., i.e., entertainment, medium, ., , games, like, portal, ,, system, shock, (, with, the, ai, ', shodan, ', ), ,, and, other, give, interpretation, of, what, ai, system, could, be, capable, of, -PRON-, ., mass, effect, be, more, or, less, entirely, base, around, existential, concept, regard, extra, -, terrestrial, ,, almost, primordial, ai, being, that, threaten, the, earth, ., , but, there, be, even, more, to, -PRON-, than, the, whole, ', evil, robot, take, over, the, world, ', aspect, ., there, be, the, actual, implementation, of, ai, in, video, game, ,, which, be, where, much, of, this, technology, first, make, contact, with, the, general, public, ., , -PRON-, have, facial, -, scanner, that, put, -PRON-, into, nba, game, ,, city, full, of, realistically, react, people, (, infamous, ,, assassin, 's, creed, ), ,, and, game, that, learn, how, -PRON-, play, and, adjust, the, game, accordingly, (, metal, gear, solid, do, some, of, that, stuff, ,, as, well, as, be, thematically, ai, -, heavy, ), ., , ultimately, ,, -PRON-, only, get, thing, like, the, iphone, or, vr, headset, or, other, major, proof, -, of, -, concept, material, only, so, often, ,, but, game, be, much, more, frequently, implement, the, most, recent, ai, advance, ., , thus, ,, even, though, many, ai, system, be, be, put, into, place, in, the, general, workforce, (, many, hospitals, now, turn, to, cloud, and, ai, health, service, ,, as, recent, as, this, week, ), ,, -PRON-, do, not, think, -PRON-, can, really, go, further, than, video, game, or, movie, for, ', simulation, ', or, extrapolation, like, the, one, -PRON-, seem, to, want, ., , analyze, the, response, to, ai, development, in, game, may, be, the, close, thing, currently, possible, ., in, term, of, economic, model, or, anything, of, that, sort, ,, -PRON-, can, find, naught, ., \n",
      "\t 0.0065698, accord, to, the, wikipedia, definition, ,, a, problem, be, say, to, be, ', ai, complete, ', if, -PRON-, require, generalize, ,, human, -, level, intelligence, ,, i.e., require, ', strong, ai, ', ., the, turing, test, and, -PRON-, variant, be, the, good, way, -PRON-, have, of, measure, this, ., as, suggest, in, this, paper, ,, in, order, for, the, turing, test, to, be, meaningful, ,, the, interrogator, have, a, responsibility, to, ask, question, which, be, both, deep, and, meaningful, ., , -PRON-, therefore, seem, likely, that, testing, for, strong, ai, be, in, -PRON-, an, ', ai, complete, ', task, ., \n",
      "\t 0.00717717, yes, ,, -PRON-, be, possible, ., , when, human, be, work, on, the, first, nuclear, bomb, ,, some, field, expert, of, the, time, think, that, when, the, reaction, go, super, -, critical, ,, -PRON-, would, not, stop, ,, and, would, devour, the, earth, ., -PRON-, be, a, plausible, possibility, give, -PRON-, understand, of, nuclear, energy, at, the, time, ,, and, -PRON-, do, not, know, for, sure, until, -PRON-, do, -PRON-, ., , some, scientist, synthesize, black, -, hole, like, environment, in, laboratory, ., some, expert, think, that, if, a, certain, point, be, accidentally, cross, due, to, ignorance, or, negligence, ,, -PRON-, may, devour, -PRON-, planet, with, a, self, make, black, hole, ., , the, situation, be, the, same, with, ai, ., until, -PRON-, actually, create, a, super, -, intelligent, ai, ,, -PRON-, can, not, say, with, certainty, whether, -PRON-, will, be, control, or, controllable, until, -PRON-, happen, ., until, that, time, come, the, answer, to, -PRON-, question, be, yes, ,, -PRON-, be, possible, ,, but, that, do, not, mean, -PRON-, will, or, will, not, happen, that, way, ., \n",
      "\t 0.00756633, there, be, three, case, in, which, -PRON-, be, easily, possible, to, distinguish, strong, ai, play, from, strong, human, play, :, , the, ai, be, play, at, super, human, skill, level, , this, seem, obvious, ,, but, -PRON-, want, to, mention, -PRON-, for, the, sake, of, completeness, ., the, current, skill, ceiling, of, top, level, chess, be, well, know, and, an, opponent, play, way, above, this, skill, ceiling, must, either, be, an, ai, or, a, chess, guru, who, hide, in, a, cave, for, the, last, century, ., apply, occam, 's, razor, -PRON-, would, go, with, the, ai, ., so, to, mimic, human, play, the, ai, must, make, sure, to, stay, at, a, human, elo, level, ., , the, ai, play, an, obvious, weak, move, in, a, losing, or, strange, situation, , when, the, ai, be, in, a, bad, situation, and, still, try, to, win, the, game, without, any, reasonable, move, available, ,, -PRON-, may, be, tempt, to, play, an, obviously, bad, move, ,, because, the, decision, engine, assign, -PRON-, the, high, probability, of, success, ., such, move, be, consider, rude, at, high, level, play, and, a, human, player, would, not, play, -PRON-, but, resign, ., the, most, famous, example, of, this, be, move, 101, in, the, forth, game, between, lee, sedol, and, alphago, ., alphago, just, lose, a, big, group, but, still, play, t9, to, extend, -PRON-, even, further, ., this, be, a, move, a, rookie, player, stop, make, after, -PRON-, first, 10, game, ,, because, -PRON-, be, that, obvious, that, -PRON-, do, not, work, ., a, professional, go, player, would, never, do, this, under, normal, circumstance, ., alphago, be, out, of, option, and, play, the, rude, move, instead, of, resign, ., this, do, not, mean, an, ai, can, not, be, program, to, avoid, such, behavior, ,, but, dire, or, simply, very, strange, situation, may, induce, move, like, this, ,, give, the, nature, of, the, ai, away, ., , other, factor, than, the, actual, move, be, consider, , depend, on, the, test, scenario, ,, the, ai, may, give, away, -PRON-, be, nature, through, other, mean, than, the, actual, move, ., thing, like, move, too, fast, or, play, without, break, for, hour, ., but, -PRON-, assume, the, question, be, just, focused, on, the, actual, play, and, not, the, surround, factor, ., , those, be, the, obvious, example, where, an, ai, may, give, away, -PRON-, true, nature, ., -PRON-, highly, doubt, that, a, strong, ai, ,, play, at, strong, human, level, ,, can, really, be, identify, because, of, -PRON-, \", inhuman, \", style, ., -PRON-, think, -PRON-, be, more, of, a, psychological, pitfall, to, consider, innovative, move, from, an, ai, \", inhuman, \", and, the, same, move, from, a, pro, player, as, \", brilliant, \", ,, if, -PRON-, know, who, be, who, ., -PRON-, be, an, amateur, 3dan, go, player, -, far, from, the, top, but, with, several, year, of, experience, under, the, belt, -, and, at, least, -PRON-, be, not, able, to, see, anything, \", inhuman, \", in, alphagos, play, so, far, ., in, go, -PRON-, be, well, known, that, there, be, different, style, of, play, ,, and, after, review, enough, pro, game, one, get, a, sense, of, which, player, may, have, be, educate, in, korea, ,, china, or, japan, ,, because, certain, pattern, of, strategy, be, more, or, less, common, in, those, country, ., the, lack, of, such, an, individual, nuance, may, be, an, indication, ,, that, the, player, be, actual, a, strong, ai, ,, but, -PRON-, be, confident, ,, that, even, the, strong, pro, would, not, have, a, high, success, rate, guess, who, be, human, and, who, be, the, ai, ., , in, chess, there, be, significantly, less, option, at, every, move, ,, many, fix, pattern, especially, in, the, opening, and, therefore, less, room, for, individual, style, ., therefore, -PRON-, consider, the, same, challenge, even, more, difficult, than, in, go, ., so, if, an, ai, have, reason, to, \", play, like, a, human, \", ,, this, should, be, possible, with, the, current, level, of, ai, technology, ., \n",
      "\t 0.00784975, while, -PRON-, knowledge, of, opencog, be, very, limited, ,, -PRON-, could, say, that, yes, ,, -PRON-, do, still, make, sense, and, -PRON-, be, insightful, ., -PRON-, be, not, certain, regard, all, of, the, component, of, opencog, but, -PRON-, do, know, that, at, least, one, component, be, relevant, (, -PRON-, think, -PRON-, be, part, of, the, mosis, component, ), ., , this, component, be, very, similar, to, numenta, 's, hierarchical, temporal, memory, which, be, base, more, on, computational, neuroscience, than, plain, math, ;, however, ,, -PRON-, would, consider, nupic, a, more, relevant, project, in, term, of, neroscience, though, both, be, attempt, to, emulate, component, of, the, brain, ., in, -PRON-, opinion, ,, such, project, be, far, more, impressive, than, what, be, go, on, with, typical, convolutional, neural, net, ,, rnn, ,, etc, ., which, be, too, loosely, related, to, what, go, on, in, the, brain, to, be, say, to, be, computational, neuroscience, ., , that, be, not, to, say, that, thing, like, ann, ,, gas, ,, etc, etc, be, useless, for, agi, ., -PRON-, do, not, really, know, since, -PRON-, do, not, have, an, example, of, one, ., \n",
      "\t 0.00806141, as, far, as, -PRON-, know, -PRON-, think, this, be, the, close, -PRON-, have, come, :, , http://www.bbc.com/news/technology-27762088, , -PRON-, simulate, a, 13, year, old, ukrainian, child, in, an, online, chat, and, convince, 33, %, of, the, judge, that, -PRON-, be, human, ., but, even, then, the, test, be, in, favor, of, the, bot, ., to, -PRON-, knowledge, -PRON-, do, not, think, an, ai, have, pass, a, turing, test, straight, up, ., \n",
      "<p>I'm new to A.I. and I'd like to know in simple words, what is the fuzzy logic concept? How does it help, and when is it used?</p>\n",
      "\n",
      "\t 0.0680544, just, like, the, other, answer, -, -PRON-, can, not, really, be, do, like, that, ., however, ,, -PRON-, may, want, to, take, a, look, at, google, deepdream, ,, which, actually, enhance, image, to, look, more, like, what, -PRON-, detect, ., e.g., ,, if, a, cat, be, detect, ,, -PRON-, will, make, the, picture, more, cat, -, like, ., \n",
      "\t 0.0721926, -PRON-, good, good, be, to, train, -PRON-, own, model, on, the, kind, of, datum, -PRON-, be, go, to, be, work, with, ., \n",
      "\t 0.0790546, just, go, through, neo4j, (, graph, datum, base, and, will, be, useful, for, social, network, analysis, ), also, .., may, be, helpful, \n",
      "\t 0.0813119, -PRON-, be, a, newbie, in, the, ai, field, as, well, ., -PRON-, be, like, -PRON-, ,, try, to, look, for, good, resource, to, learn, about, ai, and, machine, learning, ., here, be, some, resource, -PRON-, have, find, useful, to, get, to, know, the, basic, of, ai-, , andrew, ng, 's, lecture, series, on, ai, , andrew, ng, 's, lecture, at, the, stanford, business, school, , andrew, ng, -, the, state, of, artificial, intelligence, , andrew, ng, be, a, visit, professor, at, stanford, ,, founder, of, coursera, and, currently, the, head, of, research, at, alibaba, ., the, above, video, should, give, -PRON-, all, the, basic, -PRON-, need, about, ai, ., \n",
      "\t 0.0824632, -PRON-, think, the, good, example, of, ai, be, deploy, on, the, blockchain, be, singularitynet, ., -PRON-, just, have, a, successful, token, sell, where, -PRON-, sell, out, of, -PRON-, agi, token, which, will, be, able, to, be, use, to, essentially, \", pay, \", for, ai, task, to, be, do, for, -PRON-, ., various, ai, will, be, put, on, the, network, and, able, to, interact, and, communicate, with, each, other, to, get, various, task, do, ., there, be, some, great, video, online, where, dr., ben, goertzel, explain, this, further, ., and, here, be, a, link, to, -PRON-, whitepaper, ., \n",
      "\t 0.0849175, well, ,, there, be, baidu, with, former, chief, scientist, andrew, ng, that, be, do, research, on, ai, and, the, microsoft, asia, team, have, win, some, imagenet, competition, ., \n",
      "\t 0.0860968, -PRON-, believe, -PRON-, would, be, more, correct, to, say, that, (, some, ), search, engine, use, ai, ., , broadly, say, \", search, engine, be, ai, \", be, not, really, correct, ., , at, core, ,, most, search, engine, be, nothing, more, than, an, invert, text, index, use, something, like, tf, –, idf, scoring, ., , that, be, a, very, mechanical, /, simple, thing, that, nobody, would, really, call, ai, ., , but, more, sophisticated, search, engine, may, use, ai, or, ai, technique, to, do, thing, like, semantic, analysis, -, so, -PRON-, can, actually, \", answer, question, \", instead, of, just, look, up, word, in, an, index, ., \n",
      "\t 0.087351, google, define, ', artificial, ', as, something, create, by, human, rather, than, occur, naturally, so, -PRON-, would, not, quite, say, that, -PRON-, be, so, bad, ., , give, the, question, however, ,, -PRON-, could, perhaps, say, \", smart, machine, \", since, that, be, what, -PRON-, essentially, be, these, day, ., , artificial, intelligence, be, a, very, broad, term, ,, pre, -, date, modern, ai, ,, simple, thing, such, as, mechanical, wooden, robot, be, consider, artificial, intelligence, ., , https://en.wikipedia.org/wiki/timeline_of_artificial_intelligence, \n",
      "\t 0.0873973, -PRON-, recall, a, friend, say, that, yes, ,, -PRON-, be, somewhat, obvious, if, -PRON-, be, play, against, an, ai, ., , from, what, -PRON-, say, ,, against, normal, player, ,, there, be, a, certain, rhythm, and, structure, that, \", make, sense, \", ., but, ai, play, do, not, have, this, quality, ,, \", -PRON-, do, not, make, sense, ,, but, -PRON-, just, work, \", ., this, seem, to, echo, what, -PRON-, mention, about, the, aesthetic, quality, of, go, , apparently, because, of, this, ,, chess, /, go, ai, can, be, detect, during, online, play, ., \n",
      "\t 0.0876586, be, not, this, what, already, word2vec, and, other, word, -, embed, technique, already, use, ., -PRON-, know, -PRON-, word, by, the, company, -PRON-, keep, be, an, idea, that, have, be, around, for, some, time, now, ., \n",
      "<p>In particular, an embedded computer (limited resources) analyzes live video stream from a traffic camera, trying to pick good frames that contain license plate numbers of passing cars. Once a plate is located, the frame is handed over to an OCR library to extract the registration and use it further.</p>\n",
      "\n",
      "<p>In my country two types of license plates are in common use - rectangular (the typical) and square - actually, somewhat rectangular but \"higher than wider\", with the registration split over two rows.</p>\n",
      "\n",
      "<p>(there are some more types, but let us disregard them; they are a small percent and usually belong to vehicles that lie outside our interest.)</p>\n",
      "\n",
      "<p>Due to the limited resources and need for rapid, realtime processing, the maximum size of the network (number of cells and connections) the system can handle is fixed.</p>\n",
      "\n",
      "<p>Would it be better to split this into two smaller networks, each recognizing one type of registration plates, or will the larger single network handle the two types better?</p>\n",
      "\n",
      "\t 0.00239372, if, both, frequency, and, shift, (, delta_t, ), be, know, -PRON-, can, use, something, like, an, abs, (, (, sin(phi*t, +, delta_t, ), ), to, be, use, as, probability, density, function, pdf, for, background, (, periodically, recurrent, datum, ), ., if, -PRON-, then, have, a, data, point, with, a, low, background, probability, -PRON-, can, select, -PRON-, ., this, have, the, caveat, that, -PRON-, do, not, work, if, datum, be, record, at, the, same, time, but, then, -PRON-, guess, -PRON-, have, to, check, the, content, anyway, ., the, sinus, function, may, not, be, the, optimal, implementation, but, be, more, too, help, -PRON-, visualize, -PRON-, ., -PRON-, would, just, use, gaussian, with, an, appropriate, width, and, stack, -PRON-, for, the, point, when, -PRON-, expect, datum, ., so, -PRON-, global, pdf, could, be, a, stack, of, many, small, gaussian, ., if, -PRON-, do, not, know, the, initial, shift, -PRON-, probably, -PRON-, have, to, fit, -PRON-, on, datum, ., \n",
      "\t 0.00256252, sound, epic, ., , if, no, one, have, do, this, experiment, ,, -PRON-, may, consider, run, 100k, separate, core, do, something, like, rehash, a, sha1, input, over, and, over, ,, see, what, the, error, rate, be, ., , (, unmeasureable, -PRON-, suspect, ), ,, from, there, do, the, same, ,, but, have, -PRON-, trade, hash, -, chain, result, every, so, often, to, get, -PRON-, network, error, rate, ., , this, -PRON-, imagine, be, also, very, small, ,, but, -PRON-, suspect, -PRON-, can, get, at, least, a, couple, use, -PRON-, supercluster, over, a, few, hour, :), , this, approach, insure, that, every, calculation, be, correct, ,, as, hashing, be, extremely, sensitive, to, single, -, bit, swap, ,, whereas, even, an, integer, only, calculation, may, hide, error, in, branch, ,, ie, the, entire, calculation, would, not, be, elliptic, on, each, consecutive, memory, state, ., , -PRON-, have, be, work, on, a, way, to, ensure, that, code, have, be, run, correctly, by, a, external, cluster, who, be, motivation, be, to, cheat, by, submit, faked, result, ., , the, solution, -PRON-, converge, on, be, integrate, the, hash, into, the, computation, with, some, frequency, that, make, cheat, less, efficient, than, do, the, work, ., \n",
      "\t 0.00267041, this, all, depend, on, the, need, and, the, budget, for, the, model, ., the, first, clean, step, usually, bring, a, decent, increase, in, performance, ., the, more, step, -PRON-, take, the, slow, the, improvement, will, increase, in, general, ., if, -PRON-, be, do, something, for, -PRON-, ,, cut, -PRON-, off, at, a, certain, point, ,, if, -PRON-, be, do, -PRON-, for, somebody, else, ,, ask, -PRON-, what, -PRON-, want, and, how, much, -PRON-, be, willing, to, pay, for, -PRON-, ., -PRON-, be, comparable, to, the, 80/20, rule, where, the, first, 20, %, of, the, total, work, will, help, with, 80, %, of, the, performance, ., , on, another, note, ,, -PRON-, statement, about, robust, algorithm, should, tolerate, with, data, quality, ,, -PRON-, have, to, be, careful, with, this, ., if, there, be, bias, in, -PRON-, datum, (, miss, value, be, not, random, for, example, ), -PRON-, will, not, learn, properly, ,, no, matter, how, robust, -PRON-, algorithm, be, ., spend, time, use, domain, knowledge, to, fix, this, properly, will, help, a, lot, ., \n",
      "\t 0.00332874, the, first, idea, in, -PRON-, mind, be, :, view, -PRON-, form, a, social, graph, where, node, be, the, email, -, id, (, people, ), and, 2, node, be, connect, if, -PRON-, communicate, with, each, other, ., -PRON-, can, also, view, -PRON-, as, a, weighted, graph, where, weight, come, from, the, frequency, of, conversation, and, -PRON-, can, add, the, sense, of, direction, as, well, use, the, sender, -, receiver, information, ., now, -PRON-, can, apply, all, sort, of, social, network, analysis, on, this, ., \n",
      "\t 0.00335604, if, this, actually, work, ,, and, -PRON-, seem, to, ,, that, 'd, be, awesome, because, -PRON-, can, get, a, lot, of, undocumented, datum, about, the, cache, of, a, gpu, ., , a, frustrating, aspect, of, high, performance, computing, research, be, dig, through, all, the, undocumented, instruction, set, and, architecture, feature, when, try, to, tune, code, ., , in, hpc, ,, the, proof, be, in, the, benchmark, ,, whether, -PRON-, be, high, performance, linpack, or, streams, ., , -PRON-, be, not, sure, this, be, \", awesome, \", ,, but, -PRON-, be, definitely, how, high, performance, processing, unit, be, assess, and, evaluate, ., , apparently, ,, the, line, size, be, where, the, the, cache, begin, to, plateau, (, about, 32, byte, in, this, example, ), ., where, do, that, come, from, ?, , -PRON-, seem, to, be, familiar, with, the, performance, concept, of, the, cache, hierarchy, ,, describe, as, the, \", memory, mountain, \", in, bryant, and, o'hallaron, 's, computer, systems, :, a, programmer, 's, perspective, ,, but, -PRON-, question, indicate, a, lack, of, deep, understanding, of, how, each, level, of, cache, -PRON-, work, ., , recall, that, a, cache, contain, \", line, \", of, datum, ,, that, be, strip, of, contiguous, memory, that, be, harmonize, with, a, memory, location, somewhere, in, the, main, store, ., , when, access, memory, within, a, line, ,, -PRON-, have, a, cache, \", hit, \", ,, and, the, latency, associate, with, retrieve, this, memory, be, call, the, latency, for, that, particular, cache, ., , for, example, a, 10, cycle, l1, cache, latency, indicate, that, every, time, the, memory, address, request, be, already, in, one, of, the, l1, cache, line, ,, -PRON-, will, expect, to, retrieve, -PRON-, in, 10, cycle, ., , as, -PRON-, can, see, from, the, description, of, the, pointer, chase, benchmark, ,, -PRON-, take, stride, of, a, fix, length, through, memory, ., , nb, :, this, benchmark, would, not, work, as, expect, in, the, many, modern, cpu, that, feature, \", stream, -, detect, \", prefetch, unit, that, do, not, behave, like, simple, cache, ., , -PRON-, make, sense, then, ,, that, the, first, noticeable, performance, plateau, (, start, from, stride, 1, ), ,, be, a, stride, that, get, no, reuse, from, previous, cache, miss, ., , how, long, do, a, stride, have, to, be, before, -PRON-, step, completely, past, the, previously, retrieve, cache, line, ?, , the, length, of, the, cache, line, !, , and, how, do, -PRON-, know, that, the, page, size, be, where, the, second, plateau, begin, for, global, memory, ?, , similarly, ,, the, next, plateau, of, step, beyond, reuse, will, be, when, the, memory, page, manage, by, the, operating, system, have, to, be, swap, with, each, memory, access, ., , the, memory, page, size, ,, unlike, cache, line, size, ,, be, normally, a, parameter, that, can, be, set, or, manage, by, the, programmer, ., , furthermore, ,, why, do, the, latency, eventually, go, down, with, a, large, enough, stride, length, ?, should, not, -PRON-, keep, increase, , this, be, definitely, the, most, interesting, part, of, -PRON-, question, ,, and, -PRON-, explain, how, the, author, postulate, the, cache, structure, (, associativity, and, number, of, set, ), base, on, the, information, -PRON-, have, previously, glean, (, size, of, cache, line, ), and, the, size, of, the, work, set, of, datum, -PRON-, be, stride, over, ., , recall, from, the, experimental, setup, that, the, stride, \", wrap, around, \", the, array, ., , for, a, large, enough, stride, ,, the, total, amount, of, array, datum, that, need, to, be, hold, in, the, cache, (, the, so, -, call, working, set, ), ,, be, small, because, more, of, the, datum, in, the, array, be, be, skip, ., , to, illustrate, this, ,, -PRON-, can, imagine, a, person, continuously, run, up, and, down, a, set, of, stair, ,, only, take, every, 4th, step, ., , this, person, be, touch, less, total, step, than, somebody, take, every, 2, step, ., , this, idea, be, somewhat, awkwardly, state, in, the, paper, :, , when, the, stride, be, very, large, ,, work, set, , decrease, until, -PRON-, again, fit, in, the, cache, ,, this, time, produce, , conflict, miss, if, cache, be, not, fully, associative, ., , as, bill, barth, mention, in, -PRON-, answer, ,, the, author, state, how, -PRON-, make, these, calculation, in, the, paper, :, , the, datum, in, fig, ., 1, suggest, a, fully, associative, 16-entry, tlb, (, no, tlb, overhead, , for, 128, mb, array, ,, 8, mb, stride, ), ,, a, 20-way, set, associative, l1, , cache, (, 20, kb, array, at, 1, kb, stride, fit, in, l1, ), ,, and, a, 24-way, set, associative, l2, cache, (, back, to, l2, hit, latency, for, 768, kb, array, ,, , 32, kb, stride, ), ., these, be, the, effective, number, and, the, real, , implementation, may, be, different, ., six, 4-way, set, -, associative, l2, , cache, match, this, datum, as, well, ., \n",
      "\t 0.00338089, -PRON-, depend, on, the, country, ., in, france, ,, for, example, ,, -PRON-, have, get, to, have, the, agreement, of, the, person, ., do, not, matter, whether, -PRON-, be, the, president, ,, a, singer, or, ..., -PRON-, :), , edit, :, , do, not, matter, what, for, ., -PRON-, image, belong, to, -PRON-, ., otherwise, -PRON-, (, -PRON-, ), can, sue, -PRON-, for, that, and, seek, redress, ., face, of, person, be, blur, in, google, map, street, view, ., here, be, a, link, ,, in, french, ., , about, re, -, publication, ,, -PRON-, will, also, have, to, have, the, agreement, of, the, copyright, holder, ., \n",
      "\t 0.00353372, on, nvidia, card, at, least, ,, -PRON-, be, possible, to, allocate, pin, memory, on, the, cpu, for, use, by, the, graphic, card, ., pointer, to, this, block, of, memory, be, in, the, gpu, 's, global, memory, space, (, so, -PRON-, can, be, access, by, -PRON-, kernel, ), but, read, /, write, to, -PRON-, must, still, go, through, the, pci, -, e, bus, ., the, drawback, be, that, -PRON-, can, not, use, too, much, of, this, memory, or, -PRON-, os, will, become, very, angry, with, -PRON-, ., be, this, what, -PRON-, mean, by, \", reserved, main, memory, \", ?, , -PRON-, be, also, possible, to, handle, compute, /, memory, transfer, at, once, ,, so, if, an, application, do, not, need, all, the, datum, at, once, -PRON-, can, have, the, kernel, process, a, slice, of, datum, while, the, next, batch, be, transfer, ,, do, something, with, the, result, ,, and, then, continue, process, and, transferring, ., , edit, :, refer, to, -PRON-, specific, example, ,, -PRON-, may, also, be, possible, to, store, 50, kb, in, texture, memory, ,, 50, kb, in, global, (, -PRON-, assume, this, be, what, -PRON-, mean, by, main, ?, ), ,, and, then, find, somewhere, else, to, squeeze, the, last, 25kb, in, ,, like, constant, memory, ., -PRON-, would, only, be, able, to, read, these, last, 25, kb, ,, so, this, may, not, work, in, all, case, ., another, option, would, be, to, use, the, pin, memory, ,, as, -PRON-, discuss, earlier, ., the, advantage, of, constant, memory, be, that, the, data, be, actually, on, the, device, ,, but, the, read, -, only, restriction, may, be, too, onerous, for, some, application, ., \n",
      "\t 0.00401229, a, standard, practice, in, psychology, (, where, -PRON-, want, to, code, participant, in, order, to, link, different, measurement, together, ), be, to, have, participant, choose, -PRON-, mother, 's, maiden, name, initial, and, birthdate, ,, e.g., ,, in, the, format, xx, -, yymmdd, ., , this, if, course, can, still, run, into, conflict, ., then, again, ,, -PRON-, do, not, think, there, be, any, surefire, conflict, -, free, anonymization, algorithm, -PRON-, student, could, do, without, know, all, the, other, student, ., mother, ', name, and, birthdate, could, be, identical, ,, own, birthdate, could, be, identical, ,, shoe, size, could, be, ,, favorite, superhero, character, ..., the, only, thing, -PRON-, could, think, of, would, be, (, us, ), social, security, number, ,, but, -PRON-, really, do, not, want, to, use, -PRON-, ., , bottom, line, :, anonymize, on, the, backend, ., or, ,, as, @emre, suggest, ,, think, about, whether, -PRON-, really, need, an, identifier, at, all, ., maybe, the, db, -, generate, index, be, enough, ?, \n",
      "\t 0.00403696, for, question, 1, ,, -PRON-, feel, there, be, a, great, deal, of, thing, -PRON-, can, look, into, with, this, ., , the, basic, conclusion, be, which, state, be, culturally, similar, to, one, another, (, physical, proximity, would, lead, to, such, similarity, ), ., , have, a, ', cultural, similarity, score, ', from, year, to, year, ,, -PRON-, could, determine, the, connectedness, of, state, over, time, ,, see, if, major, event, effect, how, connect, the, country, be, ....., there, be, a, lot, of, potential, here, ,, and, reenforce, the, notion, that, -PRON-, need, to, know, what, question, -PRON-, be, try, to, answer, before, -PRON-, get, too, far, into, an, analysis, ., , as, for, two, ,, this, be, a, bit, trickier, ., , the, visual, -PRON-, see, be, each, state, get, a, node, at, -PRON-, be, center, ,, and, like, state, have, color, cod, connector, ., , the, visual, -PRON-, be, see, be, similar, to, the, graph, -PRON-, use, for, the, scikit, learn, site, for, affinity, propagation, :, , http://scikit-learn.org/stable/auto_examples/cluster/plot_affinity_propagation.html, \n",
      "\t 0.00416452, -PRON-, be, barely, old, enough, to, understand, this, ,, but, -PRON-, understanding, be, that, vector, pipelin, in, the, old, day, allow, for, one, vector, instruction, in, the, pipeline, to, use, the, result, from, the, vector, instruction, ahead, of, -PRON-, ., -PRON-, believe, that, now, on, the, most, common, vector, architecture, this, be, not, possible, ., vector, instruction, be, pipelined, ,, but, only, insofar, as, -PRON-, be, independent, ., \n",
      "<p>The <a href=\"https://en.wikipedia.org/wiki/Turing_test\">Turing Test</a> was the first test of artificial intelligence and is now a bit outdated. The <a href=\"https://en.wikipedia.org/wiki/Turing_test#Total_Turing_test\">Total Turing Test</a> aims to be a more modern test which requires a much more sophisticated system. What techniques can we use to identify an artificial intelligence (weak AI) and an <a href=\"https://en.wikipedia.org/wiki/Artificial_general_intelligence\">artificial general intelligence</a> (strong AI)?</p>\n",
      "\n",
      "\t 0.0412232, with, ai, technology, at, -PRON-, current, stage, (, or, at, least, reasonably, close, to, this, stage, ), ,, the, job, -PRON-, propose, may, very, well, be, opening, create, by, ai, automation, ., however, ,, sufficiently, advanced, ai, technology---, the, kind, that, can, function, as, general, purpose, labor, replacement---, will, make, even, these, job, obsolete, ., this, be, because, such, an, ai, would, be, able, to, improve, -PRON-, and, as, a, result, would, surpass, human, level, intelligence, ---, mean, that, -PRON-, would, take, action, which, -PRON-, would, not, necessarily, be, able, to, understand, or, justify, ., , this, be, all, assume, that, the, intelligence, of, human, be, not, some, kind, of, upper, limit, on, the, possibility, of, intelligence, in, general, ., as, far, as, -PRON-, know, there, be, no, reason, to, think, -PRON-, represent, such, an, upper, limit, ., , to, summarize, ..., will, such, job, exist, ?, , sub, -, human, artificial, intelligence, :, sure, ., , beyond, -, human, artificial, intelligence, :, no, reason, to, think, -PRON-, would, be, necessary, as, the, ai, can, do, -PRON-, -PRON-, ., \n",
      "\t 0.0450785, ai, be, frequently, use, to, discover, thing, that, would, take, laborious, amount, of, time, for, human, to, do, ., , for, example, ,, ai, can, be, use, to, find, the, optimal, configuration, for, a, mother, -, board, layout, ,, or, identify, good, fit, parameter, for, a, financial, model, ., , frequently, ,, the, ai, can, do, a, good, job, at, a, task, and, do, -PRON-, more, qucikly, than, a, human, ., , therefore, ,, in, many, application, ,, the, ai, be, already, more, intelligent, than, the, creator, at, specific, task, ., , here, be, just, a, few, thing, that, ai, can, already, do, good, than, human, :, , playing, chess, , playing, jeopardy, , detect, cancer, , to, argue, against, the, possibility, of, a, super, -, intelligent, ai, be, somewhat, of, a, moot, point, since, -PRON-, have, already, be, prove, ., \n",
      "\t 0.0502474, -PRON-, be, a, newbie, in, the, ai, field, as, well, ., -PRON-, be, like, -PRON-, ,, try, to, look, for, good, resource, to, learn, about, ai, and, machine, learning, ., here, be, some, resource, -PRON-, have, find, useful, to, get, to, know, the, basic, of, ai-, , andrew, ng, 's, lecture, series, on, ai, , andrew, ng, 's, lecture, at, the, stanford, business, school, , andrew, ng, -, the, state, of, artificial, intelligence, , andrew, ng, be, a, visit, professor, at, stanford, ,, founder, of, coursera, and, currently, the, head, of, research, at, alibaba, ., the, above, video, should, give, -PRON-, all, the, basic, -PRON-, need, about, ai, ., \n",
      "\t 0.0511016, if, an, ai, be, develop, by, human, ,, -PRON-, surely, can, create, another, one, !, , develop, another, ai, agent, without, all, the, possible, bug, that, can, make, -PRON-, go, rogue, to, tackle, the, rogue, ai, ,, but, more, technically, advanced, than, the, previous, one, ., hardwire, -PRON-, with, the, sole, purpose, of, disable, any, rogue, ai, agent, that, can, harm, humanity, and, have, -PRON-, self, -, destruct, in, case, -PRON-, be, corrupt, ., , if, the, ai, be, really, strong, ,, -PRON-, can, anticipate, every, move, of, human, resistance, ,, but, -PRON-, can, not, fathom, the, mind, of, another, ai, agent, ., \n",
      "\t 0.05399, , can, silicon, base, computer, create, a.i., per, definition, of, what, , intelligence, be, ?, , what, definition, ?, , there, be, many, definition, of, intelligence, ,, and, no, universally, accept, one, that, -PRON-, be, aware, of, ., , or, do, silicon, base, computer, only, create, human, mimic, ?, , -PRON-, be, not, clear, to, -PRON-, what, -PRON-, be, ask, ., , if, human, be, intelligent, and, -PRON-, mimic, human, closely, enough, ,, then, -PRON-, be, probably, fair, to, call, the, -, thing, -, -PRON-, -, build, \", intelligent, \", ., , if, silicon, base, computer, only, create, human, mimic, ,, be, human, mimic, intelligence, per, definition, ?, , -PRON-, be, still, not, clear, what, -PRON-, be, ask, ,, but, -PRON-, think, -PRON-, would, answer, \", yes, \", if, -PRON-, be, parse, this, correctly, ., , if, not, ,, how, can, -PRON-, create, a.i., per, definition, of, what, intelligence, be, ?, , again, ,, -PRON-, do, not, really, have, a, definition, of, what, intelligence, be, ., , but, so, what, ?, who, say, ai, have, to, have, anything, to, do, with, human, intelligence, at, all, ?, as, the, old, saying, go, \", man, do, not, achieve, flight, by, build, a, mechanical, bird, \", ., , likewise, ,, there, be, no, specific, reason, to, think, that, the, only, path, to, artificial, intelligence, be, to, replicate, the, human, brain, in, silicon, ., \n",
      "\t 0.0540217, -PRON-, do, not, quite, think, this, be, a, question, fit, for, the, ai, se, ,, or, in, general, ., the, reason, be, ,, at, the, core, the, question, be, ask, ', what, can, a, human, (, pretend, to, be, an, ai, ), do, to, convince, someone, to, let, -PRON-, out, of, a, box, ?, ', simply, assume, that, one, day, ', transhuman, ', ai, 's, can, replicate, this, ., , as, -PRON-, stand, ,, this, question, do, not, really, have, anything, to, do, with, the, science, or, theory, of, ai, system, ., -PRON-, would, perhaps, be, more, appropriate, to, rephrase, the, question, into, the, form, \", to, what, degree, could, a, ', transhuman, ', ai, replicate, human, behaviour, \", or, \", will, ai, system, reach, a, ', transhuman, ', state, ?, what, will, -PRON-, be, capable, of, ?, \", or, even, \", what, method, could, an, ai, use, to, convince, a, human, of, something, ?, \", these, be, all, question, that, involve, the, examination, of, how, an, ai, system, work, ., , to, conclude, ,, the, question, -PRON-, be, ask, relate, to, two, individual, play, pretend, with, box, but, do, not, actually, address, any, ai, specific, ,, and, border, be, on, science, fiction, brainstorming, ., , related, experiment, would, of, course, be, the, turing, test, ., that, test, directly, address, the, question, ', how, convincing, be, current, ai, system, ?, ', \n",
      "\t 0.0561457, google, be, just, one, of, the, vendor, for, ai, and, -PRON-, initial, ai, self, -, service, be, limit, to, image, analysis, ., -PRON-, be, other, ai, vendor, (, microsoft, ,, amazon, ), that, have, other, service, also, ., ai, be, definitely, capable, of, continuous, video, feed, analysis, ., the, self, -, drive, car, technology, use, live, video, feed, analysis, ., be, -PRON-, explore, ai, in, general, or, specific, use, case, ?, -PRON-, do, a, presentation, on, ai, use, case, for, oil, &, amp, ;, gas, engineering, and, construction, that, could, give, -PRON-, some, idea, ., , ai, vision, 2020, for, oil, &, amp, ;, gas, \n",
      "\t 0.0613106, if, ai, be, soooo, smart, ,, than, why, -PRON-, still, do, not, kill, all, the, peoplez, ?, , if, ai, be, actually, smart, enough, to, endanger, whole, humanity, ,, than, -PRON-, be, likely, that, humanity, be, doom, and, nothing, will, help, ., , but, -PRON-, think, that, if, ai, be, really, smart, than, there, be, no, point, to, waste, time, and, resource, on, human, as, there, be, huge, universe, around, -PRON-, ., \n",
      "\t 0.0640658, good, morning, !, -PRON-, be, use, an, extremely, general, term, (, \", ai, \", ), for, an, extremely, specific, , idea, (, \", something, human, make, that, be, almost, identical, to, the, human, mind, \", ), ., thus, ,, -PRON-, question, be, not, what, -PRON-, think, -PRON-, be, ., , ai, ,, accord, to, john, mccarthy, (, who, wikipedia, claim, coin, the, term, and, be, the, equivalent, of, a, rockstar, in, the, ai, field, ), ,, be, the, engineering, of, machine, with, the, ability, to, use, computation, to, achieve, goal, in, the, world, ., everything, from, -PRON-, calculator, to, -PRON-, camera, 's, auto, focus, feature, be, thus, some, form, of, ai, ., because, of, this, ,, -PRON-, proof, for, ai, be, simply, -PRON-, existence, in, -PRON-, pocket, or, computer, ., , -PRON-, seem, -PRON-, be, ask, if, -PRON-, be, possible, to, develop, ai, that, operate, at, a, similar, level, to, human, (, term, like, \", artificial, general, intelligence, \", or, \", strong, ai, \", be, often, use, to, describe, this, ), ., -PRON-, be, a, fabulous, question, ,, but, -PRON-, be, poorly, define, ., -PRON-, beg, another, question, :, how, do, -PRON-, define, human, -, level, intelligence, ?, be, -PRON-, the, ability, to, convince, other, human, agent, that, -PRON-, be, human, (, this, be, somewhat, circular, logic, ), ?, be, -PRON-, the, ability, to, write, music, or, create, a, painting, ?, depend, on, -PRON-, definition, ,, the, answer, vary, wildly, ,, and, -PRON-, must, be, clarify, before, proceed, ., \n",
      "\t 0.0645276, in, contrast, to, the, philosophical, definition, ,, which, rely, on, term, like, \", mind, \", and, \", think, ,, \", there, be, also, definition, that, hinge, on, observable, ., , that, is, ,, a, strong, ai, be, an, ai, that, understand, -PRON-, well, enough, to, self, -, improve, ., even, if, -PRON-, be, philosophically, not, equivalent, to, a, human, ,, or, unable, to, perform, all, cognitive, task, that, a, human, can, ,, this, ai, can, still, generate, a, tremendous, amount, of, optimization, power, /, good, decision, -, making, ,, and, -PRON-, creation, would, be, of, historic, importance, (, to, put, -PRON-, lightly, ), ., , a, weak, ai, ,, in, contrast, ,, be, an, ai, with, no, or, limit, ability, to, self, -, modify, ., a, chessbot, that, run, on, -PRON-, laptop, may, have, superhuman, ability, to, play, chess, ,, but, -PRON-, can, only, play, chess, ,, and, while, -PRON-, may, tune, -PRON-, weight, or, -PRON-, architecture, and, slowly, improve, ,, -PRON-, can, not, modify, -PRON-, in, a, deep, enough, way, to, generalize, to, other, task, ., , another, way, to, think, about, this, be, that, a, strong, ai, be, an, ai, researcher, in, -PRON-, own, right, ,, and, a, weak, ai, be, what, ai, researcher, produce, ., \n",
      "<p>What is the \"early stopping\" and what are the advantages using this method? How does it help exactly.</p>\n",
      "\n",
      "\t 0.00695223, eh, ,, \", -PRON-, will, not, be, use, camera, calibration, ., \", .., not, sure, ,, what, -PRON-, mean, ., , 1st, , at, first, ,, imagine, a, sheet, of, paper, lay, there, on, the, floor, ., and, first, to, try, to, transform, the, paper, sheet, (, i.e., with, some, text, on, -PRON-, ), ,, the, picture, of, the, sheet, angle, by, paralaxe, to, the, stright, view, :, just, a, transformation, by, a, matrix, ., -PRON-, would, be, highly, valuable, to, have, there, some, floor, of, square, tile, ., and, once, -PRON-, would, estimate, /, set, size, of, the, tile, on, the, floor, ,, -PRON-, can, then, transform, the, paper, sheet, ., , then, ,, also, some, vertical, calibration, will, be, need, :, whereever, whithin, the, scene, ., a, wall, of, tile, of, know, shape, &, amp, ;, size, would, be, perfect, ., but, not, really, necessary, :, any, known, /, premeasured, chair, would, be, enough, !, .., rather, two, such, chair, ,, in, an, opposite, nook, ,, for, numerical, stability, ., , so, yes, ,, that, could, be, treat, as, \", camera, calibration, \", ., , 2nd, , then, -PRON-, can, advance, to, the, next, level, of, the, image, processing, :, , once, -PRON-, see, foot, of, the, person, ,, on, which, tile, of, the, floor, the, person, stay, ,, , and, with, the, known, vertical, direction, ,, , by, the, hid, /, cover, know, background, ,, -PRON-, can, decide, -PRON-, height, ,, pretty, precisely, ,, yes, ., , the, \", know, background, \", , just, two, image, should, be, enough, ,, of, the, background, place, :, empty, non, -, occupy, ,, and, hide, /, cover, ., the, clear, -, empty, room, can, be, take, either, onence, ,, or, periodically, ,, or, even, just, a, partial, image, should, be, enough, :, just, to, detect, shape, of, the, person, -, figure, ., , 3rd, , and, the, third, level, :, really, high, ., the, person, could, stay, in, some, deform, position, ., by, interpolation, of, the, know, human, skeleton, to, the, shape, of, the, person, -, figure, on, the, screen, ,, -PRON-, can, assume, the, curve, of, the, skeleton, of, the, person, ,, so, -PRON-, estimate, /, measure, total, height, of, the, person, would, be, immune, to, the, non, -, strighten, angle, in, joint, of, -PRON-, limb, /, backbone, ., so, even, if, the, person, know, about, -PRON-, observing, ,, the, ai, would, not, get, fool, ., but, -PRON-, would, need, /, find, more, refencial, point, on, -PRON-, body, ,, to, interconnect, the, 2d, shape, to, the, internal, 3d, model, ., , quantity, of, snap, in, general, , more, snap, of, the, person, ,, as, -PRON-, walk, through, the, room, ,, would, be, helpful, :, any, model, ,, set, up, by, any, single, image, ,, should, be, verifiable, /, applicale, to, each, of, the, rest, of, the, image, of, the, same, person, ., again, :, stability, and, \", back, testing, \", ,, verification, ., , -PRON-, be, not, limit, to, just, a, single, image, ,, -PRON-, can, have, as, many, as, -PRON-, camera, be, able, to, make, ., so, use, -PRON-, ,, to, get, not, only, the, measure, size, ,, but, also, to, level, up, the, \", probalbility, \", of, the, measure, result, ,, the, accuracy, ., , summary, , the, 3d, model, be, necessary, :, of, the, surround, space, ,, of, the, outer, shape, of, the, person, -, figure, ,, of, the, internal, structure, of, the, measure, body, ., \n",
      "\t 0.00726706, yes, ,, -PRON-, be, possible, ,, and, have, actually, be, do, in, the, past, ., , the, university, of, antwerp, create, a, bot, to, answer, question, (, this, be, the, technical, report, ), ., -PRON-, focus, on, the, git, tag, only, though, (, even, though, -PRON-, do, answer, one, mysql, question, ), ., , -PRON-, accuracy, be, pretty, good, ,, and, the, bot, in, the, test, do, earn, some, reputation, ., so, -PRON-, assume, -PRON-, be, possible, ., , but, do, note, that, the, last, bot, in, the, test, reveal, that, -PRON-, be, a, bot, ,, and, thus, get, ban, ., so, if, -PRON-, reveal, that, the, account, -PRON-, be, run, the, bot, on, be, a, bot, ,, there, be, a, high, chance, that, -PRON-, will, get, ban, ., \n",
      "\t 0.00942475, -PRON-, assumption, seem, to, be, correct, that, both, approach, be, actually, equivalent, ., -PRON-, can, not, see, any, difference, here, in, the, propabilitie, and, conditional, propabilitie, for, either, one, way, or, the, other, ., , that, be, why, the, prediction, should, also, be, the, same, for, both, way, ., -PRON-, be, more, likely, that, there, be, something, wrong, with, -PRON-, implementation, ., \n",
      "\t 0.0109562, there, be, plenty, over, there, !, , openfoam, be, the, good, ,, imho, ,, but, other, be, at, this, link, ,, \n",
      "\t 0.0109588, -PRON-, really, depend, on, the, application, -PRON-, run, ., , gpugrid.net, run, on, machine, that, do, not, have, ecc, on, and, everything, be, fine, ., , the, result, be, as, good, as, -PRON-, be, on, any, other, platform, ., , acellera, also, sell, hardware, with, geforce, card, and, in, only, very, few, case, the, gpu, have, fail, ., , geforce, be, all, -PRON-, need, ., \n",
      "\t 0.0113724, there, be, still, many, different, interpretation, of, the, term, intelligence, and, consciousness, ., for, the, sake, of, this, discussion, -PRON-, would, define, intelligence, as, the, problem, solve, capability, and, consciousness, as, the, state, of, be, aware, of, and, responsive, to, one, 's, surrounding, ,, include, the, experience, of, quale, ., , if, -PRON-, understand, -PRON-, question, correctly, ,, -PRON-, be, focus, on, consciousness, and, not, intelligence, (, base, on, the, definition, above, ), ., , in, the, case, of, human, -, the, only, specie, where, -PRON-, have, first, hand, knowledge, about, what, consciousness, feel, like, -, -PRON-, feel, like, the, consciousness, reside, inside, the, respective, body, ., most, people, experience, -PRON-, like, \", be, \", inside, -PRON-, head, ., although, debated, ,, consciousness, be, most, likely, a, simulation, create, by, the, human, brain, ., qualia, be, heavily, -, if, not, exclusively, -, influence, by, the, sensory, input, from, the, human, sens, ., therefore, -PRON-, only, make, sense, that, -PRON-, feel, like, the, consciousness, reside, in, the, center, of, the, sensor, (, eye, ,, ear, ,, etc, ., ), ., , science, have, not, figure, out, the, nature, of, consciousness, yet, ,, so, there, be, a, lot, of, speculation, involve, ., apply, above, this, logic, to, artificial, consciousness, and, quale, ,, -PRON-, would, make, sense, that, the, machine, will, feel, like, be, at, the, location, if, -PRON-, sensor, as, well, ., if, there, be, no, dominant, area, of, sensor, ,, maybe, a, distribute, system, ,, -PRON-, may, be, a, split, consciousness, spread, across, several, location, ., , if, the, creation, of, consciousness, happen, accidentally, -, like, -PRON-, do, during, evolution, -, emergence, at, the, sensor, feel, most, likely, ., should, the, creator, of, artificial, consciousness, do, -PRON-, on, purpose, ,, -PRON-, should, be, able, to, shape, the, simulation, in, other, way, as, -PRON-, see, fit, ., \n",
      "\t 0.0120045, the, underlying, abstraction, (, which, be, essentially, what, -PRON-, would, be, use, the, first, network, for, ), be, that, of, reduce, the, state, -, space, of, the, raw, input, via, feature, extraction, /, synthesis, and/or, dimensionality, reduction, ., , at, present, ,, there, be, few, definite, rule, for, do, this, :, practice, be, more, a, question, of, ', informed, trial, and, error, ', ., , if, -PRON-, add, some, information, to, -PRON-, question, regard, what, have, be, previously, attempt, in, this, area, (, e.g., on, the, , ale, platform, ), ,, this, -PRON-, may, be, possible, to, offer, some, more, specific, advice, ., \n",
      "\t 0.0131243, assume, the, central, node, be, at, level, 0, (, root, ), ,, this, graph, become, a, tree, ., now, -PRON-, be, easy, reason, about, the, different, type, of, tree, that, can, be, form, and, different, type, of, social, network, that, can, be, model, ., , in, order, for, the, graph, to, be, a, tree, ,, communication, between, node, have, to, be, restrict, ,, such, that, the, tree, structure, be, not, violate, (, e.g., two, node, on, the, same, level, can, not, communicate, ), ., -PRON-, can, not, think, of, any, social, network, where, communication, be, naturally, restrict, in, this, way, ,, but, such, a, social, network, can, be, create, artificially, ., , example, of, such, artificial, social, network, would, commonly, follow, a, chain, -, of, -, command, structure, ., for, example, in, a, military, setting, ,, the, official, information, flow, would, have, a, tree, structure, ., \n",
      "\t 0.0138796, there, be, much, discussion, in, philosophy, about, inner, language, and, the, ability, to, perceive, pain, (, see, pain, in, philosophy, article, ), ., -PRON-, question, be, in, the, area, of, philosophy, and, not, science, ., if, -PRON-, define, emotion, as, some, state, then, -PRON-, can, construct, simple, automaton, with, two, state, (, emotion, vs, no, -, emotion, ), ., -PRON-, can, be, a, very, complicated, state, with, degree, of, truth, (, percentage, of, emotion, ), ., , basically, ,, to, mimic, human, emotion, -PRON-, need, to, make, a, live, human, -, like, organism, ,, and, still, with, today, understanding, and, technology, -PRON-, will, not, be, able, to, recognize, emotion, in, -PRON-, ., the, only, thing, -PRON-, can, do, be, trust, when, -PRON-, say, \", -PRON-, be, sad, \", ., now, -PRON-, be, in, the, area, of, the, turing, test, ,, which, be, again, philosophy, ,, and, not, science, ., \n",
      "\t 0.0143394, an, interesting, thought, be, to, use, the, software, usage, pattern, to, auto, learn, the, test, to, be, conduct, for, future, iteration, of, the, software, ., \n"
     ]
    }
   ],
   "source": [
    "for (name, question), dist_to, name_ids in zip(islice(raw_posts.iterrows(), 10), dists, names):\n",
    "    print(question.Body)\n",
    "    for dist, name in zip(dist_to, name_ids):\n",
    "        print('\\t %s, %s'%(dist, ', '.join(_.strip() for _ in answers_texts[name])))"
   ]
  },
  {
   "cell_type": "code",
   "execution_count": 1619,
   "metadata": {},
   "outputs": [],
   "source": [
    "jaccards = []\n",
    "\n",
    "for i, found in (enumerate(names)):\n",
    "    jaccards.append(len(set(true_answers[i]) & set(found))/len(set(true_answers[i]) | set(found)))"
   ]
  },
  {
   "cell_type": "code",
   "execution_count": 1620,
   "metadata": {},
   "outputs": [
    {
     "data": {
      "text/plain": [
       "[0.0, 0.0, 0.0, 0.0, 0.0, 0.0, 0.0, 0.0, 0.0, 0.0]"
      ]
     },
     "execution_count": 1620,
     "metadata": {},
     "output_type": "execute_result"
    }
   ],
   "source": [
    "jaccards"
   ]
  },
  {
   "cell_type": "code",
   "execution_count": 175,
   "metadata": {},
   "outputs": [
    {
     "data": {
      "application/vnd.jupyter.widget-view+json": {
       "model_id": "3ffd8ae03326453fb711451593455452",
       "version_major": 2,
       "version_minor": 0
      },
      "text/html": [
       "<p>Failed to display Jupyter Widget of type <code>HBox</code>.</p>\n",
       "<p>\n",
       "  If you're reading this message in the Jupyter Notebook or JupyterLab Notebook, it may mean\n",
       "  that the widgets JavaScript is still loading. If this message persists, it\n",
       "  likely means that the widgets JavaScript library is either not installed or\n",
       "  not enabled. See the <a href=\"https://ipywidgets.readthedocs.io/en/stable/user_install.html\">Jupyter\n",
       "  Widgets Documentation</a> for setup instructions.\n",
       "</p>\n",
       "<p>\n",
       "  If you're reading this message in another frontend (for example, a static\n",
       "  rendering on GitHub or <a href=\"https://nbviewer.jupyter.org/\">NBViewer</a>),\n",
       "  it may mean that your frontend doesn't currently support widgets.\n",
       "</p>\n"
      ],
      "text/plain": [
       "HBox(children=(IntProgress(value=0, max=17113), HTML(value='')))"
      ]
     },
     "metadata": {},
     "output_type": "display_data"
    },
    {
     "name": "stdout",
     "output_type": "stream",
     "text": [
      "\n"
     ]
    }
   ],
   "source": [
    "vectors_questions = np.array(list(map(lambda x: list(sparse2full(x, topics_number)), tqdm(lda[[gdict.doc2bow(doc) for doc in questions_texts]]))))"
   ]
  },
  {
   "cell_type": "code",
   "execution_count": 1448,
   "metadata": {},
   "outputs": [
    {
     "data": {
      "application/vnd.jupyter.widget-view+json": {
       "model_id": "1320626ac32e441f89134022af4c0062",
       "version_major": 2,
       "version_minor": 0
      },
      "text/html": [
       "<p>Failed to display Jupyter Widget of type <code>HBox</code>.</p>\n",
       "<p>\n",
       "  If you're reading this message in the Jupyter Notebook or JupyterLab Notebook, it may mean\n",
       "  that the widgets JavaScript is still loading. If this message persists, it\n",
       "  likely means that the widgets JavaScript library is either not installed or\n",
       "  not enabled. See the <a href=\"https://ipywidgets.readthedocs.io/en/stable/user_install.html\">Jupyter\n",
       "  Widgets Documentation</a> for setup instructions.\n",
       "</p>\n",
       "<p>\n",
       "  If you're reading this message in another frontend (for example, a static\n",
       "  rendering on GitHub or <a href=\"https://nbviewer.jupyter.org/\">NBViewer</a>),\n",
       "  it may mean that your frontend doesn't currently support widgets.\n",
       "</p>\n"
      ],
      "text/plain": [
       "HBox(children=(IntProgress(value=0, max=17113), HTML(value='')))"
      ]
     },
     "metadata": {},
     "output_type": "display_data"
    }
   ],
   "source": [
    "vectors_questions = np.array(list(vanilla_embed_doc(_) for _ in tqdm(questions_texts)))"
   ]
  },
  {
   "cell_type": "code",
   "execution_count": 957,
   "metadata": {},
   "outputs": [],
   "source": [
    "ml_encoder = MultiLabelBinarizer()"
   ]
  },
  {
   "cell_type": "code",
   "execution_count": 958,
   "metadata": {},
   "outputs": [],
   "source": [
    "labels = ml_encoder.fit_transform(posts.Tags.map(lambda x: [_ for _ in x.replace('>', ' ').replace('<', ' ').split() if tags_counter[_] > 5]))"
   ]
  },
  {
   "cell_type": "code",
   "execution_count": 959,
   "metadata": {},
   "outputs": [],
   "source": [
    "kfold = KFold(vectors_questions.shape[0], n_folds=5)"
   ]
  },
  {
   "cell_type": "code",
   "execution_count": 960,
   "metadata": {},
   "outputs": [],
   "source": [
    "def choose(arra):\n",
    "    \n",
    "    res = arra.copy()\n",
    "    res[res>0.1] = 1\n",
    "    \n",
    "    print(arra)\n",
    "    print(arra.shape)\n",
    "    print(' '.join(map(str, res.sum(axis=1))))\n",
    "    \n",
    "    return res"
   ]
  },
  {
   "cell_type": "code",
   "execution_count": null,
   "metadata": {
    "scrolled": true
   },
   "outputs": [],
   "source": [
    "estimations = defaultdict(list)\n",
    "\n",
    "for i, (train_ids, test_ids) in enumerate(kfold):\n",
    "    print('%s...'%i)\n",
    "    classifier = RandomForestClassifier(n_estimators=100, n_jobs=12, max_depth=6, verbose=1)\n",
    "#     classifier = KNeighborsClassifier(n_neighbors=10, metric='cosine', algorithm='brute', n_jobs=1,)\n",
    "    classifier.fit(vectors_questions[train_ids, :], labels[train_ids, :])\n",
    "    \n",
    "    print('\\t counting recall')\n",
    "    estimations['recall'].append(recall_score(labels[test_ids, :], classifier.predict(vectors_questions[test_ids, :]), average='micro'))\n",
    "    print('\\t counting precision')\n",
    "    estimations['precision'].append(precision_score(labels[test_ids, :], classifier.predict(vectors_questions[test_ids, :]), average='micro'))\n",
    "    print('\\t counting rocauc')\n",
    "    estimations['roc-auc'].append(roc_auc_score(labels[test_ids, :], np.array(list(map(lambda x: x[:, -1], classifier.predict_proba(vectors_questions[test_ids, :])))).T, average='micro'))"
   ]
  },
  {
   "cell_type": "code",
   "execution_count": 1450,
   "metadata": {},
   "outputs": [
    {
     "data": {
      "text/plain": [
       "defaultdict(list,\n",
       "            {'precision': [0.20792079207920791],\n",
       "             'recall': [0.0025684931506849314],\n",
       "             'roc-auc': [0.82721699711539309]})"
      ]
     },
     "execution_count": 1450,
     "metadata": {},
     "output_type": "execute_result"
    }
   ],
   "source": [
    "estimations"
   ]
  },
  {
   "cell_type": "code",
   "execution_count": 1124,
   "metadata": {},
   "outputs": [],
   "source": [
    "import fastText as vanilla_fastText"
   ]
  },
  {
   "cell_type": "code",
   "execution_count": 1165,
   "metadata": {},
   "outputs": [],
   "source": [
    "from sklearn.cross_validation import train_test_split"
   ]
  },
  {
   "cell_type": "code",
   "execution_count": 1236,
   "metadata": {},
   "outputs": [],
   "source": [
    "posts_train, posts_test = train_test_split(posts, test_size=0.1, random_state=42)"
   ]
  },
  {
   "cell_type": "code",
   "execution_count": 1422,
   "metadata": {},
   "outputs": [],
   "source": [
    "for set_name, dataset in [('train', posts_train), ('test', posts_test)]:\n",
    "    with open('exchange.posts.fastext.%s.txt'%set_name, 'w') as outcome:\n",
    "        for name, row in dataset.iterrows():\n",
    "            outcome.write('%s %s %s\\n'%(\n",
    "                ' '.join(['__label__%s'%_.replace(whitespace, '_') for _ in row.Tags.replace('>', ' ').replace('<', ' ').split()]),\n",
    "                ' '.join(clean_token_fragile(_) for _ in row.body_processed),\n",
    "                ' '.join(clean_token_fragile(_) for _ in chain.from_iterable(map(lambda x: x['Body'], row.answers_processed)))\n",
    "            ))"
   ]
  },
  {
   "cell_type": "code",
   "execution_count": 1632,
   "metadata": {},
   "outputs": [
    {
     "name": "stdout",
     "output_type": "stream",
     "text": [
      "10\n",
      "(1711, 0.2415741281901422, 0.27115678985348785)\n"
     ]
    }
   ],
   "source": [
    "v_fsttxt = vanilla_fastText.train_supervised(\n",
    "    'exchange.posts.fastext.train.txt', \n",
    "    dim=20, \n",
    "    neg=20,\n",
    "    minn=3,\n",
    "    maxn=5,\n",
    "    wordNgrams=1,\n",
    "    t=0.0001,\n",
    "    loss='softmax',\n",
    "#    pretrainedVectors='./_shared/wiki-news-300d-1M-subword.vec',\n",
    "    ws=12,\n",
    "    epoch=85)\n",
    "\n",
    "print(ws)\n",
    "print(v_fsttxt.test('exchange.posts.fastext.test.txt', k=3))"
   ]
  },
  {
   "cell_type": "code",
   "execution_count": 1633,
   "metadata": {},
   "outputs": [],
   "source": [
    "def vanilla_embed_doc(doc, model=v_fsttxt):\n",
    "       \n",
    "    return v_fsttxt.get_sentence_vector(' '.join(clean_token_fragile(_) for _ in doc))"
   ]
  },
  {
   "cell_type": "code",
   "execution_count": 1636,
   "metadata": {},
   "outputs": [],
   "source": [
    "def vanilla_embed_doc(doc, model=v_fsttxt, tf_model=tfidf, gensim_dict=gdict, print_report=False, return_report=False):\n",
    "    embs = []\n",
    "    ws = 0\n",
    "    \n",
    "    report = ''\n",
    "    \n",
    "    for _ in doc:\n",
    "        if _ in gdict.token2id:\n",
    "            w = tf_model.idfs[gdict.token2id[_]]\n",
    "        elif not is_trash_token(_):\n",
    "            w = 2\n",
    "        else:\n",
    "            w=0.1\n",
    "        try:\n",
    "            report += ' %3.2f*%s'%(w, _)\n",
    "            \n",
    "            embs.append(w*model.get_word_vector(clean_token_fragile(_)))\n",
    "            ws += w\n",
    "        except KeyError:\n",
    "            pass\n",
    "    if print_report:\n",
    "        print(report)\n",
    "    if return_report:\n",
    "        return np.sum(embs, axis=0)/ws, report\n",
    "    return np.sum(embs, axis=0)/ws"
   ]
  },
  {
   "cell_type": "code",
   "execution_count": 1558,
   "metadata": {},
   "outputs": [],
   "source": [
    "vwords_index = NearestNeighbors(algorithm='brute', metric='cosine')"
   ]
  },
  {
   "cell_type": "code",
   "execution_count": 1559,
   "metadata": {},
   "outputs": [
    {
     "data": {
      "text/plain": [
       "NearestNeighbors(algorithm='brute', leaf_size=30, metric='cosine',\n",
       "         metric_params=None, n_jobs=1, n_neighbors=5, p=2, radius=1.0)"
      ]
     },
     "execution_count": 1559,
     "metadata": {},
     "output_type": "execute_result"
    }
   ],
   "source": [
    "vwords_index.fit(v_fsttxt.get_input_matrix())"
   ]
  },
  {
   "cell_type": "code",
   "execution_count": 1564,
   "metadata": {},
   "outputs": [
    {
     "data": {
      "text/plain": [
       "array([-0.1590645 ,  0.03249418,  0.22335471,  0.49984992,  0.0355899 ,\n",
       "       -0.05659072,  0.14868015,  0.26408234,  0.24661049,  0.1608884 ], dtype=float32)"
      ]
     },
     "execution_count": 1564,
     "metadata": {},
     "output_type": "execute_result"
    }
   ],
   "source": [
    "vanilla_embed_doc('what is backpropagation'.split())"
   ]
  },
  {
   "cell_type": "code",
   "execution_count": 1562,
   "metadata": {},
   "outputs": [
    {
     "data": {
      "text/plain": [
       "array([-0.3252534 ,  0.0479237 ,  0.12801714,  0.36829898,  0.01719299,\n",
       "       -0.03883877,  0.4273454 ,  0.10028217,  0.25121862,  0.34242961], dtype=float32)"
      ]
     },
     "execution_count": 1562,
     "metadata": {},
     "output_type": "execute_result"
    }
   ],
   "source": [
    "vanilla_embed_doc('backpropagation is the same as backprob'.split())"
   ]
  },
  {
   "cell_type": "code",
   "execution_count": 1634,
   "metadata": {},
   "outputs": [
    {
     "data": {
      "text/plain": [
       "0.055971163409385238"
      ]
     },
     "execution_count": 1634,
     "metadata": {},
     "output_type": "execute_result"
    }
   ],
   "source": [
    "cosine(v_fsttxt.get_sentence_vector('what is backpropagation'), v_fsttxt.get_sentence_vector('backpropagation is the same as backprob'))"
   ]
  },
  {
   "cell_type": "code",
   "execution_count": 1637,
   "metadata": {},
   "outputs": [
    {
     "data": {
      "text/plain": [
       "0.15402217531549145"
      ]
     },
     "execution_count": 1637,
     "metadata": {},
     "output_type": "execute_result"
    }
   ],
   "source": [
    "cosine(vanilla_embed_doc('what is backpropagation'.split()), vanilla_embed_doc('backpropagation is the same as backprob'.split()))"
   ]
  },
  {
   "cell_type": "code",
   "execution_count": 1565,
   "metadata": {},
   "outputs": [],
   "source": [
    "from scipy.spatial.distance import cosine"
   ]
  },
  {
   "cell_type": "code",
   "execution_count": 1553,
   "metadata": {},
   "outputs": [
    {
     "name": "stdout",
     "output_type": "stream",
     "text": [
      "0.054\t overweight\n",
      "0.058\t simple\n"
     ]
    }
   ],
   "source": [
    "wdists, wids = vwords_index.kneighbors([v_fsttxt.get_sentence_vector('what is backpropagation')], n_neighbors=20)\n",
    "print('\\n'.join('%3.3f\\t %s'%(wdist, v_fsttxt.f.getVocab()[0][wid]) for wdist, wid in zip(wdists[0], wids[0]) if wid < len(v_fsttxt.get_words())))"
   ]
  },
  {
   "cell_type": "code",
   "execution_count": null,
   "metadata": {},
   "outputs": [],
   "source": [
    "def build_vanilla_fasttext_similar_word_search():\n",
    "    pass"
   ]
  },
  {
   "cell_type": "code",
   "execution_count": 1546,
   "metadata": {},
   "outputs": [
    {
     "name": "stdout",
     "output_type": "stream",
     "text": [
      "0.000\t nlp\n",
      "0.015\t extract\n",
      "0.017\t sentence\n",
      "0.019\t word\n",
      "0.027\t textual\n",
      "0.028\t parse\n",
      "0.028\t entity\n",
      "0.029\t text\n",
      "0.035\t processing\n",
      "0.037\t university\n",
      "0.040\t nltk\n"
     ]
    }
   ],
   "source": [
    "wdists, wids = vwords_index.kneighbors([v_fsttxt.get_word_vector('nlp')], n_neighbors=20)\n",
    "print('\\n'.join('%3.3f\\t %s'%(wdist, v_fsttxt.f.getVocab()[0][wid]) for wdist, wid in zip(wdists[0], wids[0]) if wid < len(v_fsttxt.get_words())))"
   ]
  },
  {
   "cell_type": "code",
   "execution_count": 1547,
   "metadata": {},
   "outputs": [
    {
     "data": {
      "text/plain": [
       "(1711, 0.2458601207870641, 0.275967636125082)"
      ]
     },
     "execution_count": 1547,
     "metadata": {},
     "output_type": "execute_result"
    }
   ],
   "source": [
    "v_fsttxt.test('exchange.posts.fastext.test.txt', k=3)"
   ]
  },
  {
   "cell_type": "code",
   "execution_count": null,
   "metadata": {},
   "outputs": [],
   "source": [
    "id2look = 379\n",
    "\n",
    "tags = '#'+', #'.join(v_fsttxt.predict(' '.join(questions_texts[id2look]).replace('\\n', ' '), k=5)[0])\n",
    "print(tags)\n",
    "print('='*len(tags))\n",
    "print(posts.iloc[test_ids[id2look]].Body.replace('<p>','').replace('</p>', '\\n'))\n",
    "print(posts.iloc[test_ids[id2look]].Tags)"
   ]
  },
  {
   "cell_type": "code",
   "execution_count": null,
   "metadata": {},
   "outputs": [],
   "source": []
  },
  {
   "cell_type": "code",
   "execution_count": null,
   "metadata": {},
   "outputs": [],
   "source": []
  },
  {
   "cell_type": "code",
   "execution_count": null,
   "metadata": {},
   "outputs": [],
   "source": []
  },
  {
   "cell_type": "code",
   "execution_count": null,
   "metadata": {},
   "outputs": [],
   "source": []
  },
  {
   "cell_type": "code",
   "execution_count": 151,
   "metadata": {},
   "outputs": [],
   "source": [
    "tags_counter = Counter(chain.from_iterable(posts.Tags.map(lambda x: x.replace('>', ' ').replace('<', ' ').split())))\n",
    "\n",
    "hist = np.array(list(map(lambda x: x[-1], tags_counter.items())))\n",
    "\n",
    "tags = np.array(list(map(lambda x: x[0], tags_counter.items())))"
   ]
  },
  {
   "cell_type": "code",
   "execution_count": 162,
   "metadata": {},
   "outputs": [],
   "source": [
    "tags = tags[np.argsort(hist)][::-1]\n",
    "hist = hist[np.argsort(hist)][::-1]"
   ]
  },
  {
   "cell_type": "code",
   "execution_count": null,
   "metadata": {},
   "outputs": [],
   "source": []
  },
  {
   "cell_type": "code",
   "execution_count": null,
   "metadata": {},
   "outputs": [],
   "source": []
  },
  {
   "cell_type": "code",
   "execution_count": null,
   "metadata": {},
   "outputs": [],
   "source": []
  },
  {
   "cell_type": "code",
   "execution_count": null,
   "metadata": {},
   "outputs": [],
   "source": []
  },
  {
   "cell_type": "code",
   "execution_count": null,
   "metadata": {},
   "outputs": [],
   "source": []
  }
 ],
 "metadata": {
  "kernelspec": {
   "display_name": "Python 3",
   "language": "python",
   "name": "python3"
  },
  "language_info": {
   "codemirror_mode": {
    "name": "ipython",
    "version": 3
   },
   "file_extension": ".py",
   "mimetype": "text/x-python",
   "name": "python",
   "nbconvert_exporter": "python",
   "pygments_lexer": "ipython3",
   "version": "3.6.3"
  }
 },
 "nbformat": 4,
 "nbformat_minor": 2
}
