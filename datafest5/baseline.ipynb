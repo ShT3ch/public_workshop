{
 "cells": [
  {
   "cell_type": "code",
   "execution_count": null,
   "metadata": {},
   "outputs": [],
   "source": [
    "import artm"
   ]
  },
  {
   "cell_type": "code",
   "execution_count": null,
   "metadata": {},
   "outputs": [],
   "source": [
    "import logging\n",
    "\n",
    "logging.basicConfig(level=0)\n",
    "\n",
    "formatter = logging.Formatter('%(asctime)s,%(msecs)d %(name)s %(levelname)s %(message)s', datefmt='%H:%M:%S')\n",
    "\n",
    "logger = logging.getLogger('ARTM')\n",
    "fh = logging.FileHandler('/tmp/lastfm')\n",
    "fh.setLevel(0)\n",
    "fh.setFormatter(formatter)\n",
    "\n",
    "logger.addHandler(fh)\n",
    "\n",
    "logger.info('Logging started.')\n",
    "logger.info('Initialisation started...')\n"
   ]
  },
  {
   "cell_type": "code",
   "execution_count": null,
   "metadata": {},
   "outputs": [],
   "source": [
    "import pandas as pd\n",
    "import numpy as np\n",
    "from tqdm import tqdm\n",
    "\n",
    "import requests\n",
    "from lxml import etree\n",
    "\n",
    "from urllib.parse import quote_plus\n",
    "\n",
    "from time import sleep\n",
    "\n",
    "from collections import defaultdict\n",
    "\n",
    "from gensim.utils import simple_tokenize, simple_preprocess\n",
    "from gensim.parsing import preprocess_string\n",
    "\n",
    "from multiprocessing import Pool\n",
    "\n",
    "from scipy.spatial.distance import cosine"
   ]
  },
  {
   "cell_type": "code",
   "execution_count": null,
   "metadata": {},
   "outputs": [],
   "source": [
    "from annoy import AnnoyIndex"
   ]
  },
  {
   "cell_type": "code",
   "execution_count": null,
   "metadata": {},
   "outputs": [],
   "source": [
    "playlists = pd.read_csv('/data/lastfm_datafest5/lastfm-dataset-360K/usersha1-artmbid-artname-plays.tsv', sep='\\t', header=None)"
   ]
  },
  {
   "cell_type": "code",
   "execution_count": null,
   "metadata": {},
   "outputs": [],
   "source": [
    "users = pd.read_csv('/data/lastfm_datafest5/lastfm-dataset-360K/usersha1-profile.tsv', sep='\\t',  header=None)"
   ]
  },
  {
   "cell_type": "code",
   "execution_count": null,
   "metadata": {},
   "outputs": [],
   "source": [
    "playlists.head(5)"
   ]
  },
  {
   "cell_type": "code",
   "execution_count": null,
   "metadata": {},
   "outputs": [],
   "source": [
    "tracks = pd.read_csv('/data/lastfm_datafest5/dump.csv', sep='|')"
   ]
  },
  {
   "cell_type": "code",
   "execution_count": null,
   "metadata": {},
   "outputs": [],
   "source": [
    "tracks.head(5)"
   ]
  },
  {
   "cell_type": "code",
   "execution_count": null,
   "metadata": {},
   "outputs": [],
   "source": [
    "artist_needed = set(playlists.artmbid)"
   ]
  },
  {
   "cell_type": "code",
   "execution_count": null,
   "metadata": {},
   "outputs": [],
   "source": [
    "len(artist_needed)"
   ]
  },
  {
   "cell_type": "code",
   "execution_count": null,
   "metadata": {},
   "outputs": [],
   "source": [
    "tracks_needed = tracks.loc[tracks.artist_gid.isin(artist_needed)]\n",
    "\n",
    "tracks_needed.shape"
   ]
  },
  {
   "cell_type": "code",
   "execution_count": null,
   "metadata": {},
   "outputs": [],
   "source": [
    "tracks_needed.head()"
   ]
  },
  {
   "cell_type": "code",
   "execution_count": null,
   "metadata": {},
   "outputs": [],
   "source": [
    "big_lyrics = pd.read_csv('/data/lastfm_datafest5/lyrics.csv')\n",
    "\n",
    "big_lyrics.dropna(axis=0, inplace=True)"
   ]
  },
  {
   "cell_type": "code",
   "execution_count": null,
   "metadata": {},
   "outputs": [],
   "source": [
    "with Pool(16) as pool:\n",
    "    big_lyrics['preprocess'] = list(tqdm(pool.map(preprocess_string, big_lyrics.lyrics, chunksize=1000)))"
   ]
  },
  {
   "cell_type": "code",
   "execution_count": null,
   "metadata": {},
   "outputs": [],
   "source": [
    "big_lyrics.artist = big_lyrics.artist.apply(lambda x: list(simple_tokenize(x.lower())))\n",
    "\n",
    "big_lyrics.genre = big_lyrics.genre.str.lower()"
   ]
  },
  {
   "cell_type": "code",
   "execution_count": null,
   "metadata": {},
   "outputs": [],
   "source": [
    "playlists.columns = ['user_sha', 'artmbid', 'artname', 'plays']"
   ]
  },
  {
   "cell_type": "code",
   "execution_count": null,
   "metadata": {},
   "outputs": [],
   "source": [
    "raw_playlist_data = []\n",
    "\n",
    "for user, playlist in tqdm(playlists.groupby('user_sha')):\n",
    "    raw_playlist_data.append((user, list(playlist.artname)))"
   ]
  },
  {
   "cell_type": "code",
   "execution_count": null,
   "metadata": {},
   "outputs": [],
   "source": [
    "def to_vw_playlist(user, playlist):\n",
    "    res = '%s '%user\n",
    "    res += '|artist %s '%' '.join(' '.join(simple_tokenize(str(_))) for _ in playlist)\n",
    "    res += '|artist_f %s '%' '.join(str(_).replace(',', ' ').replace(':', '_').replace(' ', '_') for _ in playlist)\n",
    "    \n",
    "    return res"
   ]
  },
  {
   "cell_type": "code",
   "execution_count": null,
   "metadata": {},
   "outputs": [],
   "source": [
    "def to_vw_song(song, text, artist):\n",
    "    res = '%s '%song\n",
    "    res += '|text %s '%' '.join(str(_) for _ in text)\n",
    "    res += '|artist %s'%' '.join(artist)\n",
    "    \n",
    "    return res"
   ]
  },
  {
   "cell_type": "code",
   "execution_count": null,
   "metadata": {},
   "outputs": [],
   "source": [
    "common_wv_path =  '/data/lastfm_datafest5/vw/common'\n",
    "! rm $common_wv_path"
   ]
  },
  {
   "cell_type": "code",
   "execution_count": null,
   "metadata": {
    "scrolled": true
   },
   "outputs": [],
   "source": [
    "raw_playlists_vw_path = '/data/lastfm_datafest5/vw/raw_playlists'\n",
    "\n",
    "with open(common_wv_path, 'a') as outcome:\n",
    "    for rec in tqdm(raw_playlist_data):\n",
    "        outcome.write('%s\\n'%to_vw_playlist(*rec))"
   ]
  },
  {
   "cell_type": "code",
   "execution_count": null,
   "metadata": {
    "scrolled": true
   },
   "outputs": [],
   "source": [
    "raw_songs_vw_path = '/data/lastfm_datafest5/vw/raw_songs'\n",
    "\n",
    "with open(common_wv_path, 'a') as outcome:\n",
    "    for _, row in tqdm(big_lyrics.iterrows()):\n",
    "        outcome.write('%s\\n'%to_vw_song(row.song, row.preprocess, row.artist))"
   ]
  },
  {
   "cell_type": "code",
   "execution_count": null,
   "metadata": {},
   "outputs": [],
   "source": [
    "!rm -rf /data/lastfm_datafest5/common_batches\n",
    "\n",
    "!mkdir /data/lastfm_datafest5/common_batches"
   ]
  },
  {
   "cell_type": "code",
   "execution_count": null,
   "metadata": {},
   "outputs": [],
   "source": [
    "common_batch = artm.BatchVectorizer(\n",
    "    target_folder='/data/lastfm_datafest5/common_batches',\n",
    "    data_format='vowpal_wabbit',\n",
    "    data_path=raw_playlists_vw_path, \n",
    "    batch_size=10000)"
   ]
  },
  {
   "cell_type": "code",
   "execution_count": null,
   "metadata": {},
   "outputs": [],
   "source": [
    "songs_batch.dictionary.filter(min_df=3, max_df_rate=0.1, )"
   ]
  },
  {
   "cell_type": "code",
   "execution_count": null,
   "metadata": {},
   "outputs": [],
   "source": [
    "common_batch.dictionary.save_text('/data/common_dict.txt')"
   ]
  },
  {
   "cell_type": "code",
   "execution_count": null,
   "metadata": {},
   "outputs": [],
   "source": [
    "common_batch.dictionary.filter(min_df=2, max_df_rate=0.3)"
   ]
  },
  {
   "cell_type": "code",
   "execution_count": 523,
   "metadata": {},
   "outputs": [
    {
     "data": {
      "text/plain": [
       "artm.Dictionary(name=60040dda-04e0-48a1-9cbb-313b36958985, num_entries=272280)"
      ]
     },
     "execution_count": 523,
     "metadata": {},
     "output_type": "execute_result"
    }
   ],
   "source": [
    "common_batch.dictionary"
   ]
  },
  {
   "cell_type": "code",
   "execution_count": null,
   "metadata": {},
   "outputs": [],
   "source": [
    "hier = artm.hARTM(\n",
    "    class_ids={'artist':2, 'artist_f':8, 'text':0.1},\n",
    "    dictionary=common_batch.dictionary, \n",
    "    cache_theta=True,\n",
    "    theta_columns_naming='title', \n",
    "    num_document_passes=1, \n",
    "    num_processors=24)"
   ]
  },
  {
   "cell_type": "code",
   "execution_count": null,
   "metadata": {},
   "outputs": [],
   "source": [
    "level0 = hier.add_level(num_topics=100)\n",
    "\n",
    "level0.initialize(dictionary=common_batch.dictionary)"
   ]
  },
  {
   "cell_type": "code",
   "execution_count": null,
   "metadata": {},
   "outputs": [],
   "source": [
    "level0.regularizers.add(artm.DecorrelatorPhiRegularizer(\n",
    "    name='level0_phi_decor', \n",
    "    class_ids=['artist_f', 'artist'], \n",
    "    tau=10))\n",
    "level0.regularizers.add(artm.SmoothSparseThetaRegularizer(name='level0_theta_smoother', tau=2))"
   ]
  },
  {
   "cell_type": "code",
   "execution_count": null,
   "metadata": {},
   "outputs": [],
   "source": [
    "level0.fit_offline(batch_vectorizer=common_batch, num_collection_passes=25)"
   ]
  },
  {
   "cell_type": "code",
   "execution_count": null,
   "metadata": {},
   "outputs": [],
   "source": [
    "hier.tmp_files_path = '/tmp/'\n",
    "level1 = hier.add_level(num_topics=1000, parent_level_weight=1)"
   ]
  },
  {
   "cell_type": "code",
   "execution_count": null,
   "metadata": {},
   "outputs": [],
   "source": [
    "level1.initialize(dictionary=common_batch.dictionary)\n",
    "\n",
    "level1.regularizers.add(artm.HierarchySparsingThetaRegularizer(name=\"HierSp\", tau=10**5))\n",
    "level1.regularizers.add(artm.SmoothSparsePhiRegularizer(name=\"level1_phi_sparser\", tau=-4, class_ids=['text']))\n",
    "level1.regularizers.add(artm.DecorrelatorPhiRegularizer(name='level1_phi_decor', tau=4))"
   ]
  },
  {
   "cell_type": "code",
   "execution_count": null,
   "metadata": {},
   "outputs": [],
   "source": [
    "level1.fit_offline(batch_vectorizer=common_batch, num_collection_passes=5)"
   ]
  },
  {
   "cell_type": "code",
   "execution_count": null,
   "metadata": {},
   "outputs": [],
   "source": [
    "phi = hier.get_level(0).get_phi(class_ids=['artist_f'])"
   ]
  },
  {
   "cell_type": "code",
   "execution_count": 524,
   "metadata": {},
   "outputs": [
    {
     "data": {
      "text/plain": [
       "0.28731784025325469"
      ]
     },
     "execution_count": 524,
     "metadata": {},
     "output_type": "execute_result"
    }
   ],
   "source": [
    "cosine(phi.loc['linkin_park'], phi.loc['tupac'])"
   ]
  },
  {
   "cell_type": "code",
   "execution_count": 525,
   "metadata": {},
   "outputs": [
    {
     "data": {
      "text/plain": [
       "5.3968269519977241e-08"
      ]
     },
     "execution_count": 525,
     "metadata": {},
     "output_type": "execute_result"
    }
   ],
   "source": [
    "cosine(phi.loc['linkin_park'], phi.loc['linkin_park'])"
   ]
  },
  {
   "cell_type": "code",
   "execution_count": 526,
   "metadata": {},
   "outputs": [
    {
     "data": {
      "text/plain": [
       "0.21693327637531012"
      ]
     },
     "execution_count": 526,
     "metadata": {},
     "output_type": "execute_result"
    }
   ],
   "source": [
    "cosine(phi.loc['linkin_park'], phi.loc['coldplay'])"
   ]
  },
  {
   "cell_type": "code",
   "execution_count": null,
   "metadata": {},
   "outputs": [],
   "source": [
    "f = 100\n",
    "t = AnnoyIndex(f)  # Length of item vector that will be indexed\n",
    "\n",
    "for i, v in tqdm(enumerate(phi.values)):\n",
    "    t.add_item(i, v)\n",
    "\n",
    "t.build(100)"
   ]
  },
  {
   "cell_type": "code",
   "execution_count": null,
   "metadata": {},
   "outputs": [],
   "source": [
    "    # for id2see in range(10000, 10500, 10):\n",
    "    id2see = np.where(phi.index == 'linkin_park')[0][0]\n",
    "    print(phi.index[id2see])\n",
    "    print('\\t' + ', '.join(phi.index[t.get_nns_by_vector(phi.iloc[id2see], 20)]))\n",
    "    print('+'*80)"
   ]
  },
  {
   "cell_type": "code",
   "execution_count": 530,
   "metadata": {},
   "outputs": [],
   "source": [
    "def get_desc_h(tm, score_name, n_objcts, renamer={}, hlevel=0):\n",
    "    topic_desc = {}\n",
    "\n",
    "    collection = tm.get_level(hlevel).get_phi(class_ids=[score_name]).T.copy()\n",
    "    \n",
    "    if score_name in renamer:\n",
    "        collection.columns = [renamer[score_name][c] for c in collection.columns]\n",
    "    \n",
    "    non_active_topics = collection.index[collection.sum(axis=1) < 0.5]\n",
    "    logger.warn('Next topics are not active for \"%s\" modality: %s', score_name, list(non_active_topics))\n",
    "    collection = collection[~collection.index.isin(non_active_topics)]\n",
    "    \n",
    "    collection.iloc[:,:] = (collection.values/collection.sum(axis=1).values[:, np.newaxis])\n",
    "\n",
    "    for topic in collection.index:\n",
    "        topic_sample = collection.loc[topic].sort_values(ascending=False)[:n_objcts]\n",
    "\n",
    "        topic_desc[topic] = ', '.join(['%s:%3.3f'%(word, weight) for word, weight in topic_sample.iteritems()])\n",
    "    return topic_desc"
   ]
  },
  {
   "cell_type": "code",
   "execution_count": null,
   "metadata": {},
   "outputs": [],
   "source": []
  },
  {
   "cell_type": "code",
   "execution_count": 531,
   "metadata": {
    "scrolled": true
   },
   "outputs": [
    {
     "name": "stderr",
     "output_type": "stream",
     "text": [
      "/opt/conda/lib/python3.6/site-packages/bigartm-0.9.0-py3.6.egg/artm/master_component.py:752: DeprecationWarning: PyUnicode_AsEncodedObject() is deprecated; use PyUnicode_AsEncodedString() to encode from str to bytes or PyCodec_Encode() for generic encoding\n",
      "  args = messages.GetTopicModelArgs(model_name=model)\n",
      "/opt/conda/lib/python3.6/site-packages/ipykernel_launcher.py:10: DeprecationWarning: The 'warn' method is deprecated, use 'warning' instead\n",
      "  # Remove the CWD from sys.path while we load stuff.\n",
      "WARNING:ARTM:Next topics are not active for \"artist_f\" modality: []\n"
     ]
    },
    {
     "name": "stdout",
     "output_type": "stream",
     "text": [
      "topic_0 |||  rammstein:0.096, nirvana:0.080, marilyn_manson:0.059, ac/dc:0.048, the_offspring:0.044, linkin_park:0.041, serj_tankian:0.030, system_of_a_down:0.025, limp_bizkit:0.024, [unknown]:0.021, guano_apes:0.021, pink_floyd:0.019, bloodhound_gang:0.019, the_prodigy:0.016, metallica:0.014\n",
      "################################################################################\n",
      "topic_1 |||  nightwish:0.073, sonata_arctica:0.033, lacuna_coil:0.028, blind_guardian:0.022, apocalyptica:0.021, kamelot:0.020, epica:0.019, stratovarius:0.016, within_temptation:0.016, therion:0.016, hammerfall:0.016, avantasia:0.015, in_extremo:0.015, edguy:0.014, rhapsody_of_fire:0.013\n",
      "################################################################################\n",
      "topic_2 |||  red_hot_chili_peppers:0.120, evanescence:0.116, nirvana:0.060, nickelback:0.056, linkin_park:0.048, him:0.043, placebo:0.043, audioslave:0.042, lenny_kravitz:0.033, muse:0.030, 3_doors_down:0.025, bon_jovi:0.023, the_rasmus:0.023, foo_fighters:0.022, coldplay:0.022\n",
      "################################################################################\n",
      "topic_3 |||  norah_jones:0.110, amy_winehouse:0.041, adele:0.038, jamie_cullum:0.031, sarah_mclachlan:0.028, sia:0.023, corinne_bailey_rae:0.022, tracy_chapman:0.021, frank_sinatra:0.020, diana_krall:0.019, eva_cassidy:0.017, jewel:0.015, u2:0.014, amos_lee:0.014, dido:0.014\n",
      "################################################################################\n",
      "topic_4 |||  the_clash:0.061, ramones:0.030, the_velvet_underground:0.019, pixies:0.019, dinosaur_jr.:0.018, buzzcocks:0.016, devo:0.016, fugazi:0.016, sonic_youth:0.016, the_stooges:0.015, iggy_pop:0.015, the_jam:0.014, hüsker_dü:0.013, minutemen:0.013, the_cramps:0.013\n",
      "################################################################################\n",
      "topic_5 |||  switchfoot:0.031, relient_k:0.021, mute_math:0.015, jars_of_clay:0.014, skillet:0.013, hillsong_united:0.012, hillsong:0.011, chris_tomlin:0.011, nickel_creek:0.009, david_crowder_band:0.009, kutless:0.009, third_day:0.009, delirious?:0.009, thousand_foot_krutch:0.009, casting_crowns:0.009\n",
      "################################################################################\n",
      "topic_6 |||  vnv_nation:0.015, the_sisters_of_mercy:0.014, combichrist:0.013, apoptygma_berzerk:0.012, kmfdm:0.012, skinny_puppy:0.012, the_birthday_massacre:0.011, covenant:0.010, emilie_autumn:0.009, blutengel:0.009, bauhaus:0.009, front_242:0.009, and_one:0.008, death_in_june:0.008, diary_of_dreams:0.008\n",
      "################################################################################\n",
      "topic_7 |||  enigma:0.059, enya:0.033, vangelis:0.032, depeche_mode:0.027, mike_oldfield:0.026, pet_shop_boys:0.025, loreena_mckennitt:0.024, era:0.023, delerium:0.023, erasure:0.017, deep_forest:0.016, jean-michel_jarre:0.015, secret_garden:0.015, a-ha:0.015, amethystium:0.014\n",
      "################################################################################\n",
      "topic_8 |||  feist:0.086, metric:0.050, m.i.a.:0.026, beck:0.026, death_cab_for_cutie:0.025, cold_war_kids:0.025, sufjan_stevens:0.022, mgmt:0.021, the_kills:0.020, vampire_weekend:0.019, architecture_in_helsinki:0.018, santogold:0.015, kings_of_leon:0.015, the_national:0.015, broken_social_scene:0.015\n",
      "################################################################################\n",
      "topic_9 |||  the_beatles:0.035, dave_matthews_band:0.034, grateful_dead:0.033, phish:0.018, a.r._rahman:0.015, frank_sinatra:0.015, simon_&_garfunkel:0.012, ennio_morricone:0.011, henry_mancini:0.010, rodrigo_y_gabriela:0.009, ravi_shankar:0.009, béla_fleck_and_the_flecktones:0.009, michael_nyman:0.008, john_barry:0.008, cat_stevens:0.008\n",
      "################################################################################\n",
      "topic_10 |||  goran_bregovic:0.014, sezen_aksu:0.013, duman:0.013, gipsy_kings:0.013, [unknown]:0.012, teoman:0.012, shantel:0.011, pink_martini:0.011, jay-jay_johanson:0.011, mor_ve_Ötesi:0.011, Şebnem_ferah:0.010, pinhani:0.010, balkan_beat_box:0.010, tarkan:0.010, oi_va_voi:0.009\n",
      "################################################################################\n",
      "topic_11 |||  amy_winehouse:0.039, alanis_morissette:0.029, los_hermanos:0.028, legião_urbana:0.017, engenheiros_do_hawaii:0.013, skank:0.011, cássia_eller:0.011, raul_seixas:0.011, charlie_brown_jr.:0.010, capital_inicial:0.010, matanza:0.010, bonde_do_rolê:0.009, madonna:0.009, the_strokes:0.009, o_rappa:0.009\n",
      "################################################################################\n",
      "topic_12 |||  rage_against_the_machine:0.120, system_of_a_down:0.073, koЯn:0.060, metallica:0.037, ska-p:0.036, tenacious_d:0.024, nirvana:0.023, marilyn_manson:0.016, mägo_de_oz:0.015, the_offspring:0.013, serj_tankian:0.009, marea:0.009, extremoduro:0.008, ac/dc:0.008, reincidentes:0.006\n",
      "################################################################################\n",
      "topic_13 |||  abba:0.058, elton_john:0.034, duran_duran:0.028, george_michael:0.026, madonna:0.025, bee_gees:0.022, tears_for_fears:0.017, pet_shop_boys:0.017, eurythmics:0.016, prince:0.016, cyndi_lauper:0.016, simply_red:0.015, seal:0.014, a-ha:0.013, toto:0.012\n",
      "################################################################################\n",
      "topic_14 |||  franz_ferdinand:0.069, radiohead:0.066, eels:0.061, the_white_stripes:0.053, jeff_buckley:0.044, the_raconteurs:0.043, the_beatles:0.038, the_strokes:0.027, blur:0.023, leonard_cohen:0.020, amy_winehouse:0.017, antony_and_the_johnsons:0.012, nina_simone:0.012, johnny_cash:0.011, kings_of_convenience:0.011\n",
      "################################################################################\n",
      "topic_15 |||  caetano_veloso:0.024, chico_buarque:0.022, marisa_monte:0.018, antônio_carlos_jobim:0.017, bebel_gilberto:0.016, chet_baker:0.016, os_mutantes:0.014, seu_jorge:0.014, astrud_gilberto:0.014, miles_davis:0.014, joão_gilberto:0.012, jorge_ben:0.011, elis_regina:0.011, adriana_calcanhotto:0.011, madeleine_peyroux:0.009\n",
      "################################################################################\n",
      "topic_16 |||  nat_king_cole:0.016, andrea_bocelli:0.015, dean_martin:0.014, diana_krall:0.014, sarah_vaughan:0.010, dinah_washington:0.010, julie_london:0.010, carpenters:0.009, frank_sinatra:0.009, the_dubliners:0.009, ella_fitzgerald:0.009, sarah_brightman:0.009, peggy_lee:0.009, celtic_woman:0.008, enya:0.008\n",
      "################################################################################\n",
      "topic_17 |||  coldplay:0.089, kings_of_leon:0.080, snow_patrol:0.074, the_killers:0.056, arctic_monkeys:0.043, the_kooks:0.040, kate_nash:0.038, stereophonics:0.029, bloc_party:0.018, kaiser_chiefs:0.017, jason_mraz:0.013, jim_sturgess:0.012, dave_matthews_band:0.011, newton_faulkner:0.011, joshua_radin:0.011\n",
      "################################################################################\n",
      "topic_18 |||  dir_en_grey:0.022, boa:0.014, maximum_the_hormone:0.014, gackt:0.013, asian_kung-fu_generation:0.013, ムック:0.010, l'arc~en~ciel:0.010, 宇多田ヒカル:0.009, orange_range:0.009, uverworld:0.009, 浜崎あゆみ:0.008, high_and_mighty_color:0.008, big_bang:0.008, ガゼット:0.007, larc~en~ciel:0.007\n",
      "################################################################################\n",
      "topic_19 |||  various_artists:0.018, héroes_del_silencio:0.017, la_oreja_de_van_gogh:0.014, amaral:0.014, joaquín_sabina:0.013, jarabe_de_palo:0.013, los_planetas:0.012, chambao:0.012, ojos_de_brujo:0.012, fito_&_fitipaldis:0.012, el_canto_del_loco:0.011, mecano:0.010, russian_red:0.010, pereza:0.010, enrique_bunbury:0.010\n",
      "################################################################################\n",
      "topic_20 |||  klaxons:0.049, mando_diao:0.045, arctic_monkeys:0.038, the_kooks:0.033, bloc_party:0.028, the_hives:0.027, calvin_harris:0.023, the_subways:0.021, tocotronic:0.018, beatsteaks:0.014, kaiser_chiefs:0.014, justice:0.014, kettcar:0.014, hadouken!:0.013, cansei_de_ser_sexy:0.013\n",
      "################################################################################\n",
      "topic_21 |||  common:0.030, a_tribe_called_quest:0.026, nas:0.024, atmosphere:0.023, mos_def:0.020, jedi_mind_tricks:0.019, aesop_rock:0.018, lupe_fiasco:0.018, the_roots:0.018, mf_doom:0.017, j_dilla:0.016, talib_kweli:0.016, gang_starr:0.016, madvillain:0.014, cunninlynguists:0.014\n",
      "################################################################################\n",
      "topic_22 |||  nine_inch_nails:0.175, the_cure:0.170, the_smashing_pumpkins:0.064, new_order:0.032, siouxsie_and_the_banshees:0.028, joy_division:0.024, depeche_mode:0.018, hole:0.016, garbage:0.015, david_bowie:0.013, echo_&_the_bunnymen:0.012, nirvana:0.012, kate_bush:0.011, portishead:0.011, nick_cave_&_the_bad_seeds:0.011\n",
      "################################################################################\n",
      "topic_23 |||  metallica:0.086, iron_maiden:0.086, in_flames:0.079, pantera:0.048, megadeth:0.042, slayer:0.028, sepultura:0.028, children_of_bodom:0.026, manowar:0.023, helloween:0.023, machine_head:0.023, fear_factory:0.022, rob_zombie:0.021, soilwork:0.021, slipknot:0.020\n",
      "################################################################################\n",
      "topic_24 |||  dark_tranquillity:0.026, amon_amarth:0.026, arch_enemy:0.024, children_of_bodom:0.023, ensiferum:0.019, amorphis:0.019, kreator:0.016, dimmu_borgir:0.016, testament:0.015, slayer:0.015, finntroll:0.014, opeth:0.013, korpiklaani:0.012, iced_earth:0.012, norther:0.012\n",
      "################################################################################\n",
      "topic_25 |||  poets_of_the_fall:0.020, volbeat:0.017, him:0.016, apulanta:0.016, cmx:0.013, pmmp:0.013, stam1na:0.013, kotiteollisuus:0.012, machinae_supremacy:0.012, mew:0.012, sentenced:0.011, turmion_kätilöt:0.011, leevi_and_the_leavings:0.011, mokoma:0.011, the_69_eyes:0.011\n",
      "################################################################################\n",
      "topic_26 |||  madonna:0.071, kylie_minogue:0.049, shakira:0.039, nelly_furtado:0.034, enrique_iglesias:0.026, david_guetta:0.019, juanes:0.017, sophie_ellis-bextor:0.013, daddy_yankee:0.013, black_eyed_peas:0.012, ace_of_base:0.010, bob_sinclar:0.009, alizée:0.009, maná:0.009, morandi:0.009\n",
      "################################################################################\n",
      "topic_27 |||  stevie_wonder:0.046, marvin_gaye:0.034, james_brown:0.031, al_green:0.023, aretha_franklin:0.017, otis_redding:0.016, curtis_mayfield:0.015, sly_&_the_family_stone:0.014, sam_cooke:0.012, the_temptations:0.011, the_specials:0.011, bill_withers:0.010, the_jackson_5:0.009, kool_&_the_gang:0.009, earth,_wind_&_fire:0.008\n",
      "################################################################################\n",
      "topic_28 |||  sigur_rós:0.075, beirut:0.049, explosions_in_the_sky:0.038, mogwai:0.038, tv_on_the_radio:0.033, múm:0.032, the_album_leaf:0.025, animal_collective:0.020, the_notwist:0.014, caribou:0.014, the_books:0.014, lcd_soundsystem:0.013, eluvium:0.013, do_make_say_think:0.012, a_silver_mt._zion:0.012\n",
      "################################################################################\n",
      "topic_29 |||  beastie_boys:0.111, johnny_cash:0.100, gogol_bordello:0.034, led_zeppelin:0.034, radiohead:0.030, cake:0.029, the_white_stripes:0.028, the_clash:0.026, the_rolling_stones:0.025, tom_waits:0.024, bob_dylan:0.023, the_doors:0.023, nirvana:0.022, the_beatles:0.022, jimi_hendrix:0.022\n",
      "################################################################################\n",
      "topic_30 |||  the_shins:0.035, broken_social_scene:0.028, of_montreal:0.028, stars:0.027, sufjan_stevens:0.025, minus_the_bear:0.022, the_decemberists:0.020, the_national:0.019, death_cab_for_cutie:0.019, band_of_horses:0.018, okkervil_river:0.018, pinback:0.018, ...and_you_will_know_us_by_the_trail_of_dead:0.017, arcade_fire:0.016, cursive:0.016\n",
      "################################################################################\n",
      "topic_31 |||  the_killers:0.158, depeche_mode:0.127, u2:0.051, muse:0.050, gorillaz:0.031, the_dresden_dolls:0.030, arctic_monkeys:0.027, placebo:0.018, the_cure:0.014, the_beatles:0.013, franz_ferdinand:0.012, michael_jackson:0.011, she_wants_revenge:0.011, bloc_party:0.011, lily_allen:0.010\n",
      "################################################################################\n",
      "topic_32 |||  kanye_west:0.073, 50_cent:0.038, eminem:0.038, jay-z:0.037, 2pac:0.034, t.i.:0.032, snoop_dogg:0.026, lil_wayne:0.024, the_game:0.024, akon:0.023, ludacris:0.018, busta_rhymes:0.017, nas:0.016, lil'_wayne:0.016, dmx:0.014\n",
      "################################################################################\n",
      "topic_33 |||  pink_floyd:0.112, dream_theater:0.072, rush:0.044, joe_satriani:0.040, led_zeppelin:0.039, [unknown]:0.033, frank_zappa:0.030, buckethead:0.023, steve_vai:0.019, king_crimson:0.019, jethro_tull:0.018, trans-siberian_orchestra:0.016, dead_can_dance:0.014, blackmore's_night:0.014, clint_mansell:0.013\n",
      "################################################################################\n",
      "topic_34 |||  jack_johnson:0.114, mika:0.068, john_mayer:0.064, jason_mraz:0.061, coldplay:0.043, kt_tunstall:0.034, maroon_5:0.033, michael_bublé:0.031, james_blunt:0.030, james_morrison:0.024, keane:0.020, paolo_nutini:0.019, counting_crows:0.015, gabriella_cilmi:0.013, travis:0.012\n",
      "################################################################################\n",
      "topic_35 |||  Édith_piaf:0.021, manu_chao:0.019, noir_désir:0.018, camille:0.018, carla_bruni:0.018, jacques_brel:0.017, nina_simone:0.016, louis_armstrong:0.015, serge_gainsbourg:0.014, buena_vista_social_club:0.013, tryo:0.012, emilie_simon:0.011, mylène_farmer:0.011, louise_attaque:0.010, georges_brassens:0.009\n",
      "################################################################################\n",
      "topic_36 |||  bonobo:0.042, thievery_corporation:0.042, the_cinematic_orchestra:0.031, nightmares_on_wax:0.024, de-phazz:0.021, groove_armada:0.020, tosca:0.019, koop:0.018, st._germain:0.015, the_herbaliser:0.015, jazzanova:0.014, mr._scruff:0.013, parov_stelar:0.013, kruder_&_dorfmeister:0.012, lamb:0.012\n",
      "################################################################################\n",
      "topic_37 |||  mogwai:0.035, animal_collective:0.028, deerhoof:0.024, battles:0.024, stereolab:0.023, tortoise:0.018, low:0.018, cat_power:0.017, thom_yorke:0.016, tom_waits:0.016, cocteau_twins:0.016, devendra_banhart:0.015, joy_division:0.014, tindersticks:0.014, neutral_milk_hotel:0.011\n",
      "################################################################################\n",
      "topic_38 |||  fall_out_boy:0.086, paramore:0.083, my_chemical_romance:0.067, 30_seconds_to_mars:0.051, panic_at_the_disco:0.045, simple_plan:0.039, linkin_park:0.034, avril_lavigne:0.025, the_all-american_rejects:0.023, hellogoodbye:0.018, metro_station:0.018, the_red_jumpsuit_apparatus:0.018, boys_like_girls:0.015, cobra_starship:0.014, nickelback:0.014\n",
      "################################################################################\n",
      "topic_39 |||  as_i_lay_dying:0.032, killswitch_engage:0.028, all_that_remains:0.021, bring_me_the_horizon:0.020, atreyu:0.017, heaven_shall_burn:0.016, enter_shikari:0.015, parkway_drive:0.015, caliban:0.014, the_dillinger_escape_plan:0.014, the_black_dahlia_murder:0.014, underoath:0.013, all_shall_perish:0.012, lamb_of_god:0.012, the_devil_wears_prada:0.012\n",
      "################################################################################\n",
      "topic_40 |||  tori_amos:0.073, goldfrapp:0.067, amy_winehouse:0.058, imogen_heap:0.031, björk:0.030, portishead:0.029, coldplay:0.024, gotan_project:0.024, air:0.021, alanis_morissette:0.020, emilíana_torrini:0.018, everything_but_the_girl:0.018, róisín_murphy:0.017, moby:0.017, dido:0.015\n",
      "################################################################################\n",
      "topic_41 |||  portishead:0.073, tom_waits:0.071, björk:0.056, nick_cave_and_the_bad_seeds:0.039, morphine:0.024, nouvelle_vague:0.022, radiohead:0.020, serge_gainsbourg:0.016, philip_glass:0.016, django_reinhardt:0.015, john_zorn:0.015, kraftwerk:0.015, the_residents:0.013, miles_davis:0.012, air:0.011\n",
      "################################################################################\n",
      "topic_42 |||  brand_new:0.033, taking_back_sunday:0.030, the_used:0.024, dashboard_confessional:0.022, funeral_for_a_friend:0.019, thrice:0.019, saosin:0.018, motion_city_soundtrack:0.018, the_academy_is...:0.016, anberlin:0.015, coheed_and_cambria:0.015, something_corporate:0.015, say_anything:0.015, senses_fail:0.014, silverstein:0.014\n",
      "################################################################################\n",
      "topic_43 |||  misfits:0.055, dead_kennedys:0.030, black_flag:0.022, bad_brains:0.019, turbonegro:0.012, minor_threat:0.011, the_exploited:0.009, municipal_waste:0.009, ramones:0.009, the_adicts:0.008, pig_destroyer:0.008, the_locust:0.007, sex_pistols:0.007, the_casualties:0.007, crass:0.007\n",
      "################################################################################\n",
      "topic_44 |||  pavement:0.037, guided_by_voices:0.017, bonnie_'prince'_billy:0.017, the_magnetic_fields:0.016, the_brian_jonestown_massacre:0.013, the_mountain_goats:0.012, animal_collective:0.012, the_microphones:0.012, grizzly_bear:0.011, sonic_youth:0.011, yo_la_tengo:0.010, smog:0.010, the_breeders:0.010, daniel_johnston:0.009, silver_jews:0.009\n",
      "################################################################################\n",
      "topic_45 |||  the_knife:0.072, hot_chip:0.053, m83:0.050, cut_copy:0.036, ladytron:0.036, sigur_rós:0.030, joy_division:0.022, radiohead:0.021, lcd_soundsystem:0.020, le_tigre:0.016, architecture_in_helsinki:0.016, the_rapture:0.015, santogold:0.014, cansei_de_ser_sexy:0.014, blonde_redhead:0.014\n",
      "################################################################################\n",
      "topic_46 |||  die_Ärzte:0.063, rammstein:0.052, die_toten_hosen:0.039, tenacious_d:0.035, the_cranberries:0.032, placebo:0.032, system_of_a_down:0.022, queens_of_the_stone_age:0.022, linkin_park:0.022, farin_urlaub:0.018, metallica:0.015, bloodhound_gang:0.015, marilyn_manson:0.014, depeche_mode:0.014, red_hot_chili_peppers:0.014\n",
      "################################################################################\n",
      "topic_47 |||  unkle:0.035, tricky:0.035, hooverphonic:0.033, morcheeba:0.030, portishead:0.028, moloko:0.024, télépopmusik:0.024, sneaker_pimps:0.022, lamb:0.017, röyksopp:0.015, flunk:0.015, lumen:0.012, noize_mc:0.011, animal_Джаz:0.010, Сплин:0.009\n",
      "################################################################################\n",
      "topic_48 |||  katy_perry:0.053, maroon_5:0.048, the_fray:0.042, robbie_williams:0.036, pink:0.035, lifehouse:0.035, james_blunt:0.034, avril_lavigne:0.034, dido:0.029, amy_macdonald:0.027, keane:0.024, coldplay:0.019, natalie_imbruglia:0.017, no_doubt:0.016, take_that:0.015\n",
      "################################################################################\n",
      "topic_49 |||  justin_timberlake:0.057, alicia_keys:0.044, mariah_carey:0.030, ne-yo:0.030, beyoncé:0.029, chris_brown:0.028, john_legend:0.026, usher:0.022, erykah_badu:0.018, kanye_west:0.017, janet_jackson:0.017, black_eyed_peas:0.016, timbaland:0.015, michael_jackson:0.014, lauryn_hill:0.014\n",
      "################################################################################\n",
      "topic_50 |||  oasis:0.112, coldplay:0.089, muse:0.076, radiohead:0.069, manic_street_preachers:0.036, gorillaz:0.035, the_verve:0.031, franz_ferdinand:0.026, the_killers:0.024, placebo:0.024, the_smashing_pumpkins:0.021, jamiroquai:0.018, r.e.m.:0.017, moby:0.016, the_beatles:0.016\n",
      "################################################################################\n",
      "topic_51 |||  the_beatles:0.142, bob_dylan:0.136, david_bowie:0.112, neil_young:0.053, the_rolling_stones:0.052, the_white_stripes:0.047, beck:0.045, the_kinks:0.041, johnny_cash:0.039, the_beach_boys:0.027, the_smashing_pumpkins:0.026, the_velvet_underground:0.023, the_doors:0.022, the_who:0.022, blur:0.015\n",
      "################################################################################\n",
      "topic_52 |||  death_cab_for_cutie:0.092, modest_mouse:0.073, bright_eyes:0.068, the_postal_service:0.063, tegan_and_sara:0.044, rilo_kiley:0.035, ben_folds:0.033, the_decemberists:0.030, ben_folds_five:0.020, weezer:0.016, silversun_pickups:0.014, the_shins:0.013, the_weakerthans:0.012, ben_kweller:0.012, mates_of_state:0.012\n",
      "################################################################################\n",
      "topic_53 |||  elliott_smith:0.059, andrew_bird:0.041, iron_&_wine:0.033, calexico:0.029, wilco:0.026, the_new_pornographers:0.025, spoon:0.024, sufjan_stevens:0.023, the_flaming_lips:0.021, my_morning_jacket:0.021, ryan_adams:0.020, neko_case:0.019, the_shins:0.019, of_montreal:0.014, neutral_milk_hotel:0.014\n",
      "################################################################################\n",
      "topic_54 |||  john_coltrane:0.021, miles_davis:0.019, b.b._king:0.017, thelonious_monk:0.016, john_lee_hooker:0.015, duke_ellington:0.015, charlie_parker:0.014, bill_evans:0.014, muddy_waters:0.013, the_allman_brothers_band:0.013, herbie_hancock:0.012, stevie_ray_vaughan_and_double_trouble:0.012, stevie_ray_vaughan:0.011, eric_clapton:0.010, charles_mingus:0.010\n",
      "################################################################################\n",
      "topic_55 |||  pink_floyd:0.067, the_who:0.066, the_beatles:0.061, john_lennon:0.045, the_doors:0.040, jefferson_airplane:0.035, electric_light_orchestra:0.034, peter_gabriel:0.033, genesis:0.033, the_rolling_stones:0.030, paul_mccartney:0.025, simon_&_garfunkel:0.023, cream:0.021, jimi_hendrix:0.017, eric_clapton:0.016\n",
      "################################################################################\n",
      "topic_56 |||  booka_shade:0.027, trentemøller:0.026, mr._oizo:0.015, tiga:0.014, gui_boratto:0.013, ellen_allien:0.013, paul_kalkbrenner:0.012, modeselektor:0.011, ellen_allien_&_apparat:0.011, miss_kittin:0.011, felix_da_housecat:0.011, ricardo_villalobos:0.010, vitalic:0.008, apparat:0.008, nathan_fake:0.008\n",
      "################################################################################\n",
      "topic_57 |||  bob_marley:0.062, bob_marley_&_the_wailers:0.061, matisyahu:0.021, damian_marley:0.016, asian_dub_foundation:0.015, high_contrast:0.014, toots_and_the_maytals:0.010, london_elektricity:0.010, sizzla:0.010, pendulum:0.010, aphrodite:0.009, gentleman:0.009, peter_tosh:0.009, augustus_pablo:0.009, burning_spear:0.008\n",
      "################################################################################\n",
      "topic_58 |||  infected_mushroom:0.036, armin_van_buuren:0.035, tiësto:0.030, atb:0.029, paul_van_dyk:0.026, ferry_corsten:0.020, paul_oakenfold:0.018, blank_&_jones:0.017, above_&_beyond:0.016, chicane:0.016, bt:0.014, dj_tiësto:0.011, deadmau5:0.010, oceanlab:0.010, astral_projection:0.010\n",
      "################################################################################\n",
      "topic_59 |||  brian_eno:0.033, flying_lotus:0.018, stars_of_the_lid:0.013, can:0.013, prefuse_73:0.012, max_richter:0.010, tim_hecker:0.010, fennesz:0.009, kraftwerk:0.009, miles_davis:0.008, coil:0.007, madlib:0.007, sun_ra:0.007, colleen:0.007, boards_of_canada:0.006\n",
      "################################################################################\n",
      "topic_60 |||  bad_religion:0.049, nofx:0.048, alkaline_trio:0.031, rancid:0.029, rise_against:0.027, dropkick_murphys:0.027, millencolin:0.027, anti-flag:0.026, reel_big_fish:0.023, less_than_jake:0.022, against_me!:0.019, pennywise:0.018, sublime:0.016, flogging_molly:0.016, goldfinger:0.015\n",
      "################################################################################\n",
      "topic_61 |||  ac/dc:0.045, kiss:0.038, black_sabbath:0.038, van_halen:0.030, motörhead:0.029, alice_cooper:0.028, judas_priest:0.028, mötley_crüe:0.025, deep_purple:0.023, def_leppard:0.021, ozzy_osbourne:0.021, rainbow:0.015, dio:0.015, thin_lizzy:0.015, skid_row:0.014\n",
      "################################################################################\n",
      "topic_62 |||  the_smiths:0.077, interpol:0.076, morrissey:0.052, arcade_fire:0.038, blur:0.036, pulp:0.030, black_rebel_motorcycle_club:0.027, belle_and_sebastian:0.027, elbow:0.026, the_stone_roses:0.023, radiohead:0.022, suede:0.019, doves:0.019, the_dandy_warhols:0.018, supergrass:0.018\n",
      "################################################################################\n",
      "topic_63 |||  queen:0.127, dire_straits:0.071, u2:0.041, eric_clapton:0.040, sting:0.031, creedence_clearwater_revival:0.031, elvis_presley:0.027, ac/dc:0.022, santana:0.021, eagles:0.021, the_beatles:0.019, phil_collins:0.019, the_blues_brothers:0.015, meat_loaf:0.014, elton_john:0.013\n",
      "################################################################################\n",
      "topic_64 |||  red_hot_chili_peppers:0.160, incubus:0.116, foo_fighters:0.088, placebo:0.040, linkin_park:0.037, pendulum:0.034, audioslave:0.027, system_of_a_down:0.026, daft_punk:0.023, the_prodigy:0.020, a_perfect_circle:0.018, coldplay:0.018, nirvana:0.017, chris_cornell:0.017, jamiroquai:0.016\n",
      "################################################################################\n",
      "topic_65 |||  johann_sebastian_bach:0.058, ludwig_van_beethoven:0.048, frédéric_chopin:0.032, antonio_vivaldi:0.025, erik_satie:0.021, wolfgang_amadeus_mozart:0.018, glenn_gould:0.018, claude_debussy:0.016, pyotr_ilyich_tchaikovsky:0.016, georg_friedrich_händel:0.015, johannes_brahms:0.014, franz_schubert:0.012, philip_glass:0.012, arvo_pärt:0.011, sergei_rachmaninoff:0.010\n",
      "################################################################################\n",
      "topic_66 |||  damien_rice:0.082, regina_spektor:0.052, travis:0.044, coldplay:0.028, keane:0.025, ray_lamontagne:0.021, death_cab_for_cutie:0.019, imogen_heap:0.019, counting_crows:0.019, athlete:0.017, ingrid_michaelson:0.016, aqualung:0.016, the_weepies:0.016, frou_frou:0.013, the_killers:0.012\n",
      "################################################################################\n",
      "topic_67 |||  bruce_springsteen:0.066, van_morrison:0.033, joni_mitchell:0.028, paul_simon:0.025, fleetwood_mac:0.024, simon_&_garfunkel:0.020, leonard_cohen:0.019, george_harrison:0.017, the_band:0.016, steely_dan:0.015, elvis_costello:0.012, the_rolling_stones:0.012, tom_petty_and_the_heartbreakers:0.011, bob_dylan:0.011, the_beach_boys:0.010\n",
      "################################################################################\n",
      "topic_68 |||  blink-182:0.121, green_day:0.108, billy_talent:0.067, jimmy_eat_world:0.062, sum_41:0.057, the_offspring:0.051, good_charlotte:0.050, afi:0.043, lostprophets:0.037, rise_against:0.035, angels_&_airwaves:0.023, the_all-american_rejects:0.022, my_chemical_romance:0.017, +44:0.015, fall_out_boy:0.014\n",
      "################################################################################\n",
      "topic_69 |||  radiohead:0.124, air:0.105, the_beatles:0.072, björk:0.066, beck:0.027, yann_tiersen:0.022, emiliana_torrini:0.018, coldplay:0.018, massive_attack:0.017, gorillaz:0.016, gnarls_barkley:0.015, feist:0.015, zero_7:0.014, jack_johnson:0.013, jamiroquai:0.013\n",
      "################################################################################\n",
      "topic_70 |||  daft_punk:0.106, justice:0.062, crystal_castles:0.055, mgmt:0.044, digitalism:0.039, röyksopp:0.025, simian_mobile_disco:0.023, the_presets:0.022, ladytron:0.020, fischerspooner:0.019, boys_noize:0.017, chromeo:0.017, the_faint:0.017, peaches:0.016, mstrkrft:0.015\n",
      "################################################################################\n",
      "topic_71 |||  converge:0.025, comeback_kid:0.021, hatebreed:0.014, ignite:0.013, have_heart:0.013, refused:0.013, sick_of_it_all:0.012, terror:0.011, madball:0.011, set_your_goals:0.011, at_the_drive-in:0.010, the_blood_brothers:0.010, agnostic_front:0.010, h2o:0.009, verse:0.008\n",
      "################################################################################\n",
      "topic_72 |||  barenaked_ladies:0.030, dixie_chicks:0.022, flogging_molly:0.022, billy_joel:0.021, rascal_flatts:0.016, shania_twain:0.016, böhse_onkelz:0.015, garth_brooks:0.012, brad_paisley:0.011, jonathan_larson:0.011, johnny_cash:0.011, keith_urban:0.010, carrie_underwood:0.010, taylor_swift:0.010, original_broadway_cast:0.009\n",
      "################################################################################\n",
      "topic_73 |||  behemoth:0.017, cannibal_corpse:0.016, satyricon:0.012, burzum:0.011, nile:0.011, darkthrone:0.011, bathory:0.010, immortal:0.010, vader:0.010, morbid_angel:0.009, carcass:0.009, emperor:0.008, napalm_death:0.008, agalloch:0.008, death:0.008\n",
      "################################################################################\n",
      "topic_74 |||  manu_chao:0.042, café_tacuba:0.020, soda_stereo:0.020, los_fabulosos_cadillacs:0.016, babasónicos:0.015, gustavo_cerati:0.014, andrés_calamaro:0.012, molotov:0.011, mano_negra:0.011, fito_páez:0.010, stray_cats:0.010, reverend_horton_heat:0.009, julieta_venegas:0.009, the_meteors:0.008, charly_garcía:0.007\n",
      "################################################################################\n",
      "topic_75 |||  massive_attack:0.110, shpongle:0.031, thievery_corporation:0.029, gotan_project:0.017, the_future_sound_of_london:0.017, carbon_based_lifeforms:0.013, lamb:0.010, solar_fields:0.010, dead_can_dance:0.010, the_orb:0.009, entheogenic:0.008, underworld:0.008, ott:0.008, café_del_mar:0.008, röyksopp:0.007\n",
      "################################################################################\n",
      "topic_76 |||  the_libertines:0.038, the_strokes:0.036, bloc_party:0.036, babyshambles:0.031, maxïmo_park:0.031, editors:0.026, the_kooks:0.026, arctic_monkeys:0.026, the_last_shadow_puppets:0.023, foals:0.022, the_fratellis:0.021, the_wombats:0.019, kasabian:0.017, franz_ferdinand:0.016, vampire_weekend:0.016\n",
      "################################################################################\n",
      "topic_77 |||  boards_of_canada:0.070, aphex_twin:0.063, amon_tobin:0.037, burial:0.037, autechre:0.025, squarepusher:0.023, venetian_snares:0.022, plaid:0.014, four_tet:0.013, apparat:0.013, prefuse_73:0.012, the_flashbulb:0.012, telefon_tel_aviv:0.011, skream:0.009, afx:0.009\n",
      "################################################################################\n",
      "topic_78 |||  r.e.m.:0.096, the_beatles:0.051, the_doors:0.051, the_rolling_stones:0.049, the_police:0.043, david_bowie:0.038, led_zeppelin:0.027, the_jimi_hendrix_experience:0.024, jimi_hendrix:0.023, pink_floyd:0.023, the_verve:0.019, oasis:0.019, radiohead:0.018, u2:0.017, pearl_jam:0.016\n",
      "################################################################################\n",
      "topic_79 |||  hans_zimmer:0.044, john_williams:0.038, howard_shore:0.022, akira_yamaoka:0.017, harry_gregson-williams:0.016, ennio_morricone:0.014, james_horner:0.013, danny_elfman:0.012, 植松伸夫:0.012, 菅野よう子:0.012, klaus_badelt:0.011, thomas_newman:0.011, enya:0.010, vanessa-mae:0.010, james_newton_howard:0.009\n",
      "################################################################################\n",
      "topic_80 |||  cascada:0.034, scooter:0.033, basshunter:0.029, groove_coverage:0.018, benny_benassi:0.017, guru_josh_project:0.012, kate_ryan:0.011, september:0.009, fragma:0.009, milk_inc.:0.009, sylver:0.009, gigi_dagostino:0.008, atb:0.008, sash!:0.008, david_guetta:0.008\n",
      "################################################################################\n",
      "topic_81 |||  cat_power:0.039, camera_obscura:0.031, belle_and_sebastian:0.030, nick_drake:0.029, jens_lekman:0.024, rufus_wainwright:0.023, antony_and_the_johnsons:0.019, sufjan_stevens:0.016, the_magnetic_fields:0.015, kimya_dawson:0.014, saint_etienne:0.012, josh_rouse:0.011, fleet_foxes:0.010, iron_&_wine:0.010, the_divine_comedy:0.010\n",
      "################################################################################\n",
      "topic_82 |||  elvis_presley:0.060, billie_holiday:0.021, chuck_berry:0.020, the_beach_boys:0.019, buddy_holly:0.014, roy_orbison:0.014, hank_williams:0.013, dusty_springfield:0.012, ray_charles:0.012, dolly_parton:0.010, squirrel_nut_zippers:0.009, jerry_lee_lewis:0.008, ella_fitzgerald:0.008, the_kinks:0.007, the_brian_setzer_orchestra:0.007\n",
      "################################################################################\n",
      "topic_83 |||  cypress_hill:0.060, outkast:0.044, dr._dre:0.041, eminem:0.037, n*e*r*d:0.037, public_enemy:0.026, dizzee_rascal:0.019, notorious_b.i.g.:0.019, snoop_dogg:0.017, mobb_deep:0.017, beastie_boys:0.016, ice_cube:0.015, method_man:0.013, n.w.a:0.013, run-d.m.c.:0.012\n",
      "################################################################################\n",
      "topic_84 |||  dj_shadow:0.063, rjd2:0.050, the_roots:0.031, jurassic_5:0.023, the_streets:0.020, roots_manuva:0.020, de_la_soul:0.018, fugees:0.017, looptroop:0.014, gnarls_barkley:0.014, dj_krush:0.014, nujabes:0.014, guru:0.012, gorillaz:0.012, a_tribe_called_quest:0.011\n",
      "################################################################################\n",
      "topic_85 |||  pixies:0.058, pj_harvey:0.055, cocorosie:0.048, sonic_youth:0.048, devendra_banhart:0.040, radiohead:0.037, my_bloody_valentine:0.036, joy_division:0.033, cat_power:0.032, the_jesus_and_mary_chain:0.028, blonde_redhead:0.022, the_smiths:0.020, the_flaming_lips:0.018, arcade_fire:0.018, the_velvet_underground:0.018\n",
      "################################################################################\n",
      "topic_86 |||  muse:0.123, foo_fighters:0.067, coldplay:0.051, kaiser_chiefs:0.038, kings_of_leon:0.032, jet:0.027, snow_patrol:0.026, arctic_monkeys:0.025, the_strokes:0.021, live:0.018, pearl_jam:0.017, the_hives:0.015, ok_go:0.015, red_hot_chili_peppers:0.014, u2:0.014\n",
      "################################################################################\n",
      "topic_87 |||  metallica:0.096, aerosmith:0.089, led_zeppelin:0.078, guns_n'_roses:0.073, guns_n_roses:0.070, scorpions:0.057, deep_purple:0.044, queen:0.032, apocalyptica:0.030, nirvana:0.027, bon_jovi:0.024, pink_floyd:0.023, ac/dc:0.022, marilyn_manson:0.017, pearl_jam:0.015\n",
      "################################################################################\n",
      "topic_88 |||  britney_spears:0.070, rihanna:0.052, lady_gaga:0.050, christina_aguilera:0.037, kelly_clarkson:0.035, the_pussycat_dolls:0.027, leona_lewis:0.023, beyoncé:0.022, gwen_stefani:0.020, nelly_furtado:0.020, avril_lavigne:0.020, backstreet_boys:0.017, fergie:0.017, sugababes:0.016, natasha_bedingfield:0.016\n",
      "################################################################################\n",
      "topic_89 |||  lily_allen:0.063, robyn:0.025, the_pillows:0.015, the_ting_tings:0.014, perfume:0.014, capsule:0.013, sam_sparro:0.013, cornelius:0.012, pizzicato_five:0.011, annie:0.010, polysics:0.010, くるり:0.008, スピッツ:0.007, tahiti_80:0.007, fantastic_plastic_machine:0.007\n",
      "################################################################################\n",
      "topic_90 |||  kent:0.040, lykke_li:0.028, josé_gonzález:0.028, kings_of_convenience:0.027, anna_ternheim:0.023, håkan_hellström:0.019, phoenix:0.017, ane_brun:0.016, slagsmålsklubben:0.016, m.i.a.:0.015, hello_saferide:0.015, glasvegas:0.014, shout_out_louds:0.014, mgmt:0.011, peter_bjorn_and_john:0.011\n",
      "################################################################################\n",
      "topic_91 |||  tool:0.071, opeth:0.046, porcupine_tree:0.041, anathema:0.039, god_is_an_astronaut:0.032, a_perfect_circle:0.029, mastodon:0.027, katatonia:0.025, isis:0.025, dredg:0.024, the_mars_volta:0.023, 65daysofstatic:0.023, meshuggah:0.019, deftones:0.018, faith_no_more:0.016\n",
      "################################################################################\n",
      "topic_92 |||  myslovitz:0.023, coma:0.020, o.s.t.r.:0.019, happysad:0.018, hey:0.017, kult:0.017, pidżama_porno:0.016, akurat:0.015, dżem:0.013, vavamuffin:0.012, t.love:0.012, maria_peszek:0.011, jamal:0.010, kazik:0.010, kaliber_44:0.009\n",
      "################################################################################\n",
      "topic_93 |||  michael_jackson:0.074, bryan_adams:0.036, robbie_williams:0.027, anouk:0.017, roxette:0.017, coldplay:0.016, madonna:0.010, cornelis_vreeswijk:0.009, eminem:0.009, takida:0.009, linkin_park:0.008, lisa_miskovsky:0.008, duffy:0.008, bløf:0.008, timbuktu:0.008\n",
      "################################################################################\n",
      "topic_94 |||  alice_in_chains:0.057, queens_of_the_stone_age:0.047, black_sabbath:0.037, soundgarden:0.035, faith_no_more:0.027, kyuss:0.025, primus:0.024, eagles_of_death_metal:0.021, pearl_jam:0.021, tool:0.020, the_mars_volta:0.020, a_perfect_circle:0.020, melvins:0.016, stone_temple_pilots:0.015, clutch:0.015\n",
      "################################################################################\n",
      "topic_95 |||  seeed:0.025, peter_fox:0.024, deichkind:0.022, clueso:0.022, die_fantastischen_vier:0.021, fettes_brot:0.018, patrice:0.017, gentleman:0.017, blumentopf:0.014, jan_delay:0.013, 2raumwohnung:0.013, katie_melua:0.013, culcha_candela:0.013, herbert_grönemeyer:0.013, amy_winehouse:0.012\n",
      "################################################################################\n",
      "topic_96 |||  the_prodigy:0.084, moby:0.082, the_chemical_brothers:0.081, fatboy_slim:0.056, faithless:0.050, basement_jaxx:0.029, the_crystal_method:0.025, groove_armada:0.020, daft_punk:0.018, röyksopp:0.017, david_guetta:0.017, underworld:0.015, kosheen:0.015, massive_attack:0.015, armand_van_helden:0.014\n",
      "################################################################################\n",
      "topic_97 |||  system_of_a_down:0.069, mindless_self_indulgence:0.047, linkin_park:0.040, 3_doors_down:0.038, deftones:0.026, staind:0.025, creed:0.025, green_day:0.025, incubus:0.023, silverchair:0.022, 311:0.020, hoobastank:0.017, placebo:0.017, foo_fighters:0.016, hinder:0.016\n",
      "################################################################################\n",
      "topic_98 |||  marillion:0.022, camel:0.018, genesis:0.018, ludovico_einaudi:0.016, fabrizio_de_andré:0.014, jethro_tull:0.012, king_crimson:0.011, franco_battiato:0.011, the_alan_parsons_project:0.011, yes:0.010, gentle_giant:0.009, jovanotti:0.009, afterhours:0.009, elisa:0.009, paolo_conte:0.009\n",
      "################################################################################\n",
      "topic_99 |||  disturbed:0.048, slipknot:0.048, bullet_for_my_valentine:0.040, papa_roach:0.040, koЯn:0.038, breaking_benjamin:0.036, limp_bizkit:0.028, avenged_sevenfold:0.026, three_days_grace:0.025, static-x:0.023, stone_sour:0.021, seether:0.021, p.o.d.:0.019, mudvayne:0.018, ill_niño:0.017\n",
      "################################################################################\n"
     ]
    }
   ],
   "source": [
    "for n, desc in get_desc_h(hier, 'artist_f', 15).items():\n",
    "    print('%s |||  %s'%(n, desc))\n",
    "    print('#'*80)"
   ]
  },
  {
   "cell_type": "code",
   "execution_count": null,
   "metadata": {},
   "outputs": [],
   "source": []
  }
 ],
 "metadata": {
  "kernelspec": {
   "display_name": "Python 3",
   "language": "python",
   "name": "python3"
  },
  "language_info": {
   "codemirror_mode": {
    "name": "ipython",
    "version": 3
   },
   "file_extension": ".py",
   "mimetype": "text/x-python",
   "name": "python",
   "nbconvert_exporter": "python",
   "pygments_lexer": "ipython3",
   "version": "3.6.3"
  }
 },
 "nbformat": 4,
 "nbformat_minor": 2
}
